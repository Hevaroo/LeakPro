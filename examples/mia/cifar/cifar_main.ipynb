{
 "cells": [
  {
   "cell_type": "markdown",
   "metadata": {},
   "source": [
    "# CIFAR examples\n",
    "\n",
    "This code runs CIFAR10 and CIFAR100. To switch between these two datasets, update the `dataset` field in `train_config.yaml` and the `data_path` field in `audit.yaml` accordingly.\n"
   ]
  },
  {
   "cell_type": "code",
   "execution_count": 1,
   "metadata": {},
   "outputs": [],
   "source": [
    "import os\n",
    "import sys\n",
    "import yaml\n",
    "\n",
    "project_root = os.path.abspath(os.path.join(os.getcwd(), \"../../..\"))\n",
    "sys.path.append(project_root)\n"
   ]
  },
  {
   "cell_type": "markdown",
   "metadata": {},
   "source": [
    "Next, we create the population dataset by concatenating the train and test data. To create the population, we make use of the UserDataset provided in the InputHandler."
   ]
  },
  {
   "cell_type": "code",
   "execution_count": 2,
   "metadata": {},
   "outputs": [
    {
     "name": "stderr",
     "output_type": "stream",
     "text": [
      "/home/johan/project/LeakPro/.leakpro_dev/lib/python3.11/site-packages/tqdm/auto.py:21: TqdmWarning: IProgress not found. Please update jupyter and ipywidgets. See https://ipywidgets.readthedocs.io/en/stable/user_install.html\n",
      "  from .autonotebook import tqdm as notebook_tqdm\n"
     ]
    }
   ],
   "source": [
    "from torchvision.datasets import CIFAR10, CIFAR100\n",
    "from torch import cat, tensor\n",
    "import pickle\n",
    "from cifar_handler import CifarInputHandler\n",
    "\n",
    "# Load the config.yaml file\n",
    "with open('train_config.yaml', 'r') as file:\n",
    "    train_config = yaml.safe_load(file)\n",
    "    \n",
    "root = train_config[\"data\"][\"data_dir\"]\n",
    "path = os.path.join(os.getcwd(), root)\n",
    "# Load the CIFAR train and test datasets\n",
    "if train_config[\"data\"][\"dataset\"] == \"cifar10\":\n",
    "    trainset = CIFAR10(root=root, train=True, download=True)\n",
    "    testset = CIFAR10(root=root, train=False, download=True)\n",
    "elif train_config[\"data\"][\"dataset\"] == \"cifar100\":\n",
    "    trainset = CIFAR100(root=root, train=True, download=True)\n",
    "    testset = CIFAR100(root=root, train=False, download=True)\n",
    "else:\n",
    "    raise ValueError(\"Unknown dataset type\")\n",
    "\n",
    "train_data = tensor(trainset.data).permute(0, 3, 1, 2).float() / 255  # (N, C, H, W)\n",
    "test_data = tensor(testset.data).permute(0, 3, 1, 2).float() / 255\n",
    "\n",
    "# Ensure train and test data looks correct\n",
    "assert train_data.shape[0] == 50000, \"Train data should have 50000 samples\"\n",
    "assert test_data.shape[0] == 10000, \"Test data should have 10000 samples\"\n",
    "assert train_data.shape[1] == 3, \"Data should have 3 channels\"\n",
    "assert test_data.shape[1] == 3, \"Data should have 3 channels\"\n",
    "assert train_data.max() <= 1 and train_data.min() >= 0, \"Data should be normalized\"\n",
    "assert test_data.max() <= 1 and test_data.min() >= 0, \"Data should be normalized\"\n",
    "\n",
    "# Concatenate train and test data into the population\n",
    "data = cat([train_data.clone().detach(), test_data.clone().detach()], dim=0)\n",
    "targets = cat([tensor(trainset.targets), tensor(testset.targets)], dim=0)\n",
    "# Create UserDataset object\n",
    "population_dataset = CifarInputHandler.UserDataset(data, targets)\n",
    "\n",
    "assert len(population_dataset) == 60000, \"Population dataset should have 60000 samples\"\n",
    "\n",
    "# Store the population dataset to be used by LeakPro\n",
    "dataset_name = train_config[\"data\"][\"dataset\"]\n",
    "file_path =  \"data/\"+ dataset_name + \".pkl\"\n",
    "if not os.path.exists(file_path):\n",
    "    with open(file_path, \"wb\") as file:\n",
    "        pickle.dump(population_dataset, file)\n",
    "        print(f\"Save data to {file_path}\")"
   ]
  },
  {
   "cell_type": "markdown",
   "metadata": {},
   "source": [
    "With the population dataset stored, we next create the train and test set that will go in to training the target model."
   ]
  },
  {
   "cell_type": "code",
   "execution_count": 3,
   "metadata": {},
   "outputs": [
    {
     "name": "stdout",
     "output_type": "stream",
     "text": [
      "Train mean: tensor([0.4921, 0.4833, 0.4470]), Train std: tensor([0.2467, 0.2433, 0.2626])\n"
     ]
    }
   ],
   "source": [
    "from sklearn.model_selection import train_test_split\n",
    "from torch.utils.data import DataLoader\n",
    "import numpy as np\n",
    "\n",
    "train_fraction = train_config[\"data\"][\"f_train\"]\n",
    "test_fraction = train_config[\"data\"][\"f_test\"]\n",
    "batch_size = train_config[\"train\"][\"batch_size\"]\n",
    "\n",
    "dataset_size = len(population_dataset)\n",
    "train_size = int(train_fraction * dataset_size)\n",
    "test_size = int(test_fraction * dataset_size)\n",
    "\n",
    "selected_index = np.random.choice(np.arange(dataset_size), train_size + test_size, replace=False)\n",
    "train_indices, test_indices = train_test_split(selected_index, test_size=test_size)\n",
    "\n",
    "train_subset = CifarInputHandler.UserDataset(data[train_indices], targets[train_indices])\n",
    "test_subset = CifarInputHandler.UserDataset(data[test_indices], targets[test_indices], **train_subset.return_params())\n",
    "\n",
    "train_loader = DataLoader(train_subset, batch_size = batch_size, shuffle = True)\n",
    "test_loader = DataLoader(test_subset, batch_size = batch_size, shuffle = False)\n",
    "\n",
    "# Evaluate mean and variance of the train data\n",
    "train_mean = train_subset.data.mean(dim=(0, 2, 3))\n",
    "train_std = train_subset.data.std(dim=(0, 2, 3))\n",
    "print (f\"Train mean: {train_mean}, Train std: {train_std}\")"
   ]
  },
  {
   "cell_type": "markdown",
   "metadata": {},
   "source": [
    "With the train and test dataloader in place, we train a ResNet18. \n",
    "After training, we call LeakPro to create metadata that will be used during auditing."
   ]
  },
  {
   "cell_type": "code",
   "execution_count": 4,
   "metadata": {},
   "outputs": [
    {
     "name": "stderr",
     "output_type": "stream",
     "text": [
      "/home/johan/project/LeakPro/.leakpro_dev/lib/python3.11/site-packages/torchvision/models/_utils.py:208: UserWarning: The parameter 'pretrained' is deprecated since 0.13 and may be removed in the future, please use 'weights' instead.\n",
      "  warnings.warn(\n",
      "/home/johan/project/LeakPro/.leakpro_dev/lib/python3.11/site-packages/torchvision/models/_utils.py:223: UserWarning: Arguments other than a weight enum or `None` for 'weights' are deprecated since 0.13 and may be removed in the future. The current behavior is equivalent to passing `weights=None`.\n",
      "  warnings.warn(msg)\n",
      "Epoch 1/10: 100%|██████████| 47/47 [00:00<00:00, 60.06it/s]\n",
      "Epoch 2/10: 100%|██████████| 47/47 [00:00<00:00, 108.76it/s]\n",
      "Epoch 3/10: 100%|██████████| 47/47 [00:00<00:00, 109.41it/s]\n",
      "Epoch 4/10: 100%|██████████| 47/47 [00:00<00:00, 109.66it/s]\n",
      "Epoch 5/10: 100%|██████████| 47/47 [00:00<00:00, 110.04it/s]\n",
      "Epoch 6/10: 100%|██████████| 47/47 [00:00<00:00, 111.72it/s]\n",
      "Epoch 7/10: 100%|██████████| 47/47 [00:00<00:00, 111.63it/s]\n",
      "Epoch 8/10: 100%|██████████| 47/47 [00:00<00:00, 112.91it/s]\n",
      "Epoch 9/10: 100%|██████████| 47/47 [00:00<00:00, 111.52it/s]\n",
      "Epoch 10/10: 100%|██████████| 47/47 [00:00<00:00, 111.76it/s]\n"
     ]
    }
   ],
   "source": [
    "from torch import save, optim, nn\n",
    "from cifar_handler import CifarInputHandler\n",
    "from target_model_class import ResNet18\n",
    "\n",
    "# Train the model\n",
    "if not os.path.exists(\"target\"):\n",
    "    os.makedirs(\"target\")\n",
    "if train_config[\"data\"][\"dataset\"] == \"cifar10\":\n",
    "    num_classes = 10\n",
    "elif train_config[\"data\"][\"dataset\"] == \"cifar100\":\n",
    "    num_classes = 100\n",
    "else:\n",
    "    raise ValueError(\"Invalid dataset name\")\n",
    "\n",
    "# Create instance of target model\n",
    "model = ResNet18(num_classes = num_classes)\n",
    "\n",
    "# Read out the relevant parameters for training\n",
    "lr = train_config[\"train\"][\"learning_rate\"]\n",
    "momentum = train_config[\"train\"][\"momentum\"]\n",
    "epochs = train_config[\"train\"][\"epochs\"]\n",
    "    \n",
    "# Create optimizer and loss function\n",
    "criterion = nn.CrossEntropyLoss()\n",
    "optimizer = optim.SGD(model.parameters(), lr=lr, momentum=momentum)\n",
    "\n",
    "# train target model\n",
    "train_result = CifarInputHandler().train(dataloader=train_loader,\n",
    "                            model=model,\n",
    "                            criterion=criterion,\n",
    "                            optimizer=optimizer,\n",
    "                            epochs=epochs)\n",
    "train_result.model.to(\"cpu\")\n",
    "\n",
    "# Evaluate on test set\n",
    "test_result = CifarInputHandler().eval(test_loader, model, criterion, \"cpu\")\n",
    "\n",
    "\n",
    "# Store the model and metadata\n",
    "model = train_result.model\n",
    "with open(train_config[\"run\"][\"log_dir\"]+\"/target_model.pkl\", \"wb\") as f:\n",
    "    save(model.state_dict(), f)\n",
    "\n",
    "# Create metadata to be used by LeakPro\n",
    "from leakpro import LeakPro\n",
    "meta_data = LeakPro.make_mia_metadata(train_result=train_result,\n",
    "                                      optimizer=optimizer,\n",
    "                                      loss_fn=criterion,\n",
    "                                      dataloader=train_loader,\n",
    "                                      test_result=test_result,\n",
    "                                      epochs=epochs,\n",
    "                                      train_indices=train_indices,\n",
    "                                      test_indices=test_indices,\n",
    "                                      dataset_name=dataset_name)\n",
    "\n",
    "with open(\"target/model_metadata.pkl\", \"wb\") as f:\n",
    "    pickle.dump(meta_data, f)\n",
    "    "
   ]
  },
  {
   "cell_type": "markdown",
   "metadata": {},
   "source": [
    "Plot accuracy and test of training and test."
   ]
  },
  {
   "cell_type": "code",
   "execution_count": 5,
   "metadata": {},
   "outputs": [
    {
     "data": {
      "image/png": "[encoded data removed]",
      "text/plain": [
       "<Figure size 500x400 with 2 Axes>"
      ]
     },
     "metadata": {},
     "output_type": "display_data"
    }
   ],
   "source": [
    "import matplotlib.pyplot as plt\n",
    "\n",
    "train_acc = train_result.metrics.extra[\"accuracy_history\"]\n",
    "train_loss = train_result.metrics.extra[\"loss_history\"]\n",
    "test_acc = test_result.accuracy\n",
    "test_loss = test_result.loss\n",
    "\n",
    "# Plot training and test accuracy\n",
    "plt.figure(figsize=(5, 4))\n",
    "\n",
    "plt.subplot(1, 2, 1)\n",
    "plt.plot(train_acc, label='Train Accuracy')\n",
    "plt.plot(len(train_loss)-1, test_acc, 'ro', label='Test Loss')\n",
    "plt.xlabel('Epoch')\n",
    "plt.ylabel('Accuracy')\n",
    "plt.title('Accuracy over Epochs')\n",
    "plt.legend()\n",
    "\n",
    "# Plot training and test loss\n",
    "plt.subplot(1, 2, 2)\n",
    "plt.plot(train_loss, label='Train Loss')\n",
    "plt.plot(len(train_loss)-1, test_loss, 'ro', label='Test Loss')\n",
    "plt.xlabel('Epoch')\n",
    "plt.ylabel('Loss')\n",
    "plt.title('Loss over Epochs')\n",
    "plt.legend()\n",
    "\n",
    "plt.tight_layout()\n",
    "plt.show()"
   ]
  },
  {
   "cell_type": "markdown",
   "metadata": {},
   "source": [
    "This is where the privacy auditing takes place."
   ]
  },
  {
   "cell_type": "code",
   "execution_count": 1,
   "metadata": {},
   "outputs": [
    {
     "name": "stderr",
     "output_type": "stream",
     "text": [
      "/home/johan/project/LeakPro/.leakpro_dev/lib/python3.11/site-packages/tqdm/auto.py:21: TqdmWarning: IProgress not found. Please update jupyter and ipywidgets. See https://ipywidgets.readthedocs.io/en/stable/user_install.html\n",
      "  from .autonotebook import tqdm as notebook_tqdm\n",
      "2025-03-24 12:49:48,121 INFO     Target model blueprint created from ResNet18 in ./target_model_class.py.\n",
      "2025-03-24 12:49:48,127 INFO     Loaded target model metadata from ./target/model_metadata.pkl\n",
      "/home/johan/project/LeakPro/.leakpro_dev/lib/python3.11/site-packages/torchvision/models/_utils.py:208: UserWarning: The parameter 'pretrained' is deprecated since 0.13 and may be removed in the future, please use 'weights' instead.\n",
      "  warnings.warn(\n",
      "/home/johan/project/LeakPro/.leakpro_dev/lib/python3.11/site-packages/torchvision/models/_utils.py:223: UserWarning: Arguments other than a weight enum or `None` for 'weights' are deprecated since 0.13 and may be removed in the future. The current behavior is equivalent to passing `weights=None`.\n",
      "  warnings.warn(msg)\n",
      "2025-03-24 12:49:48,292 INFO     Loaded target model from ./target\n",
      "2025-03-24 12:49:49,091 INFO     Loaded population dataset from ./data/cifar10.pkl\n",
      "2025-03-24 12:49:49,093 INFO     Image extension initialized.\n",
      "2025-03-24 12:49:49,933 INFO     MIA attack factory loaded.\n",
      "2025-03-24 12:49:49,935 INFO     Creating shadow model handler singleton\n",
      "2025-03-24 12:49:50,000 INFO     Creating distillation model handler singleton\n",
      "2025-03-24 12:49:50,038 INFO     Added attack: lira\n",
      "2025-03-24 12:49:50,039 INFO     Preparing attack: lira\n",
      "2025-03-24 12:49:50,083 INFO     Number of existing models exceeds or equals the number of models to create\n",
      "2025-03-24 12:49:50,085 INFO     Loading shadow model 4\n",
      "/home/johan/project/LeakPro/.leakpro_dev/lib/python3.11/site-packages/torchvision/models/_utils.py:208: UserWarning: The parameter 'pretrained' is deprecated since 0.13 and may be removed in the future, please use 'weights' instead.\n",
      "  warnings.warn(\n",
      "/home/johan/project/LeakPro/.leakpro_dev/lib/python3.11/site-packages/torchvision/models/_utils.py:223: UserWarning: Arguments other than a weight enum or `None` for 'weights' are deprecated since 0.13 and may be removed in the future. The current behavior is equivalent to passing `weights=None`.\n",
      "  warnings.warn(msg)\n",
      "2025-03-24 12:49:50,450 INFO     Loaded model from ./leakpro_output/attack_objects/shadow_model/shadow_model_4.pkl\n",
      "2025-03-24 12:49:50,451 INFO     Loading shadow model 3\n",
      "2025-03-24 12:49:50,588 INFO     Loaded model from ./leakpro_output/attack_objects/shadow_model/shadow_model_3.pkl\n",
      "2025-03-24 12:49:50,589 INFO     Create masks for all IN and OUT samples\n",
      "2025-03-24 12:49:50,590 INFO     Loading metadata 4\n",
      "2025-03-24 12:49:50,596 INFO     Loading metadata 3\n",
      "2025-03-24 12:49:50,729 INFO     Calculating the logits for all 2 shadow models\n",
      "2025-03-24 12:49:54,286 INFO     Calculating the logits for the target model           \n",
      "2025-03-24 12:49:56,022 INFO     Running attack: lira                                  \n",
      "Processing audit samples: 100%|██████████| 12000/12000 [00:01<00:00, 11582.36it/s]\n",
      "2025-03-24 12:49:57,063 INFO     Finished attack: lira\n",
      "2025-03-24 12:49:57,064 INFO     Preparing results for attack: lira\n",
      "2025-03-24 12:49:57,064 INFO     Auditing completed\n"
     ]
    }
   ],
   "source": [
    "import os\n",
    "import sys\n",
    "import yaml\n",
    "\n",
    "project_root = os.path.abspath(os.path.join(os.getcwd(), \"../../..\"))\n",
    "sys.path.append(project_root)\n",
    "# Read the config file\n",
    "config_path = \"audit.yaml\"\n",
    "from leakpro import LeakPro\n",
    "from cifar_handler import CifarInputHandler\n",
    "\n",
    "\n",
    "# Instantiate leakpro object\n",
    "leakpro = LeakPro(CifarInputHandler, config_path)\n",
    "\n",
    "# Run the audit \n",
    "mia_results = leakpro.run_audit(return_results=True)"
   ]
  },
  {
   "cell_type": "markdown",
   "metadata": {},
   "source": [
    "## Generate Report"
   ]
  },
  {
   "cell_type": "code",
   "execution_count": 2,
   "metadata": {},
   "outputs": [
    {
     "name": "stderr",
     "output_type": "stream",
     "text": [
      "2025-03-24 12:52:12,180 INFO     Initializing report handler...\n",
      "2025-03-24 12:52:31,469 INFO     report_dir set to: ./leakpro_output/results\n",
      "2025-03-24 12:53:12,571 INFO     Saving results for lira\n"
     ]
    },
    {
     "ename": "AttributeError",
     "evalue": "'dict' object has no attribute 'attack_list'",
     "output_type": "error",
     "traceback": [
      "\u001b[0;31m---------------------------------------------------------------------------\u001b[0m",
      "\u001b[0;31mAttributeError\u001b[0m                            Traceback (most recent call last)",
      "Cell \u001b[0;32mIn[2], line 9\u001b[0m\n\u001b[1;32m      7\u001b[0m \u001b[38;5;66;03m# Save MIA resuls using report handler\u001b[39;00m\n\u001b[1;32m      8\u001b[0m \u001b[38;5;28;01mfor\u001b[39;00m res \u001b[38;5;129;01min\u001b[39;00m mia_results:\n\u001b[0;32m----> 9\u001b[0m     \u001b[43mreport_handler\u001b[49m\u001b[38;5;241;43m.\u001b[39;49m\u001b[43msave_results\u001b[49m\u001b[43m(\u001b[49m\u001b[43mattack_name\u001b[49m\u001b[38;5;241;43m=\u001b[39;49m\u001b[43mres\u001b[49m\u001b[38;5;241;43m.\u001b[39;49m\u001b[43mattack_name\u001b[49m\u001b[43m,\u001b[49m\u001b[43m \u001b[49m\u001b[43mresult_data\u001b[49m\u001b[38;5;241;43m=\u001b[39;49m\u001b[43mres\u001b[49m\u001b[43m,\u001b[49m\u001b[43m \u001b[49m\u001b[43mconfig\u001b[49m\u001b[38;5;241;43m=\u001b[39;49m\u001b[43mres\u001b[49m\u001b[38;5;241;43m.\u001b[39;49m\u001b[43mconfigs\u001b[49m\u001b[43m)\u001b[49m\n\u001b[1;32m     11\u001b[0m \u001b[38;5;66;03m# # Create the report by compiling the latex text\u001b[39;00m\n\u001b[1;32m     12\u001b[0m report_handler\u001b[38;5;241m.\u001b[39mcreate_report()\n",
      "File \u001b[0;32m~/project/LeakPro/leakpro/reporting/report_handler.py:73\u001b[0m, in \u001b[0;36mReportHandler.save_results\u001b[0;34m(self, attack_name, result_data, config)\u001b[0m\n\u001b[1;32m     71\u001b[0m     attack_config \u001b[38;5;241m=\u001b[39m AttackFactoryMIA\u001b[38;5;241m.\u001b[39mattack_classes[attack_name]\u001b[38;5;241m.\u001b[39mget_default_attack_config()\n\u001b[1;32m     72\u001b[0m     config\u001b[38;5;241m.\u001b[39mattack_list[attack_name] \u001b[38;5;241m=\u001b[39m attack_config\n\u001b[0;32m---> 73\u001b[0m \u001b[43mresult_data\u001b[49m\u001b[38;5;241;43m.\u001b[39;49m\u001b[43msave\u001b[49m\u001b[43m(\u001b[49m\u001b[43mpath\u001b[49m\u001b[38;5;241;43m=\u001b[39;49m\u001b[38;5;28;43mself\u001b[39;49m\u001b[38;5;241;43m.\u001b[39;49m\u001b[43mreport_dir\u001b[49m\u001b[43m,\u001b[49m\u001b[43m \u001b[49m\u001b[43mname\u001b[49m\u001b[38;5;241;43m=\u001b[39;49m\u001b[43mattack_name\u001b[49m\u001b[43m,\u001b[49m\u001b[43m \u001b[49m\u001b[43mconfig\u001b[49m\u001b[38;5;241;43m=\u001b[39;49m\u001b[43mconfig\u001b[49m\u001b[38;5;241;43m.\u001b[39;49m\u001b[43mmodel_dump\u001b[49m\u001b[43m(\u001b[49m\u001b[43m)\u001b[49m\u001b[43m)\u001b[49m\n",
      "File \u001b[0;32m~/project/LeakPro/leakpro/reporting/mia_result.py:114\u001b[0m, in \u001b[0;36mMIAResult.save\u001b[0;34m(self, path, name, config)\u001b[0m\n\u001b[1;32m    111\u001b[0m \u001b[38;5;28;01mdef\u001b[39;00m\u001b[38;5;250m \u001b[39m\u001b[38;5;21msave\u001b[39m(\u001b[38;5;28mself\u001b[39m:Self, path: \u001b[38;5;28mstr\u001b[39m, name: \u001b[38;5;28mstr\u001b[39m, config:\u001b[38;5;28mdict\u001b[39m \u001b[38;5;241m=\u001b[39m \u001b[38;5;28;01mNone\u001b[39;00m) \u001b[38;5;241m-\u001b[39m\u001b[38;5;241m>\u001b[39m \u001b[38;5;28;01mNone\u001b[39;00m:\n\u001b[1;32m    112\u001b[0m \u001b[38;5;250m    \u001b[39m\u001b[38;5;124;03m\"\"\"Save the MIAResults to disk.\"\"\"\u001b[39;00m\n\u001b[0;32m--> 114\u001b[0m     result_config \u001b[38;5;241m=\u001b[39m \u001b[43mconfig\u001b[49m\u001b[38;5;241;43m.\u001b[39;49m\u001b[43mattack_list\u001b[49m[name]\n\u001b[1;32m    116\u001b[0m     \u001b[38;5;66;03m# Get the name for the attack configuration\u001b[39;00m\n\u001b[1;32m    117\u001b[0m     config_name \u001b[38;5;241m=\u001b[39m get_config_name(result_config)\n",
      "\u001b[0;31mAttributeError\u001b[0m: 'dict' object has no attribute 'attack_list'"
     ]
    }
   ],
   "source": [
    "# Import and initialize ReportHandler\n",
    "from leakpro.reporting.report_handler import ReportHandler\n",
    "\n",
    "# report_handler = ReportHandler()\n",
    "report_handler = ReportHandler(report_dir=\"./leakpro_output/results\")\n",
    "\n",
    "# Save MIA resuls using report handler\n",
    "for res in mia_results:\n",
    "    report_handler.save_results(attack_name=res.attack_name, result_data=res, config=res.configs)\n",
    "\n",
    "# # Create the report by compiling the latex text\n",
    "report_handler.create_report()"
   ]
  }
 ],
 "metadata": {
  "kernelspec": {
   "display_name": ".leakpro_dev",
   "language": "python",
   "name": "python3"
  },
  "language_info": {
   "codemirror_mode": {
    "name": "ipython",
    "version": 3
   },
   "file_extension": ".py",
   "mimetype": "text/x-python",
   "name": "python",
   "nbconvert_exporter": "python",
   "pygments_lexer": "ipython3",
   "version": "3.11.4"
  }
 },
 "nbformat": 4,
 "nbformat_minor": 2
}
