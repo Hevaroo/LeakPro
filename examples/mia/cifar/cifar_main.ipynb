{
 "cells": [
  {
   "cell_type": "markdown",
   "metadata": {},
   "source": [
    "# CIFAR examples\n",
    "\n",
    "This code runs CIFAR10 and CIFAR100. To switch between these two datasets, update the `dataset` field in `train_config.yaml` and the `data_path` field in `audit.yaml` accordingly.\n"
   ]
  },
  {
   "cell_type": "code",
   "execution_count": 1,
   "metadata": {},
   "outputs": [],
   "source": [
    "import os\n",
    "import sys\n",
    "import yaml\n",
    "\n",
    "project_root = os.path.abspath(os.path.join(os.getcwd(), \"../../..\"))\n",
    "sys.path.append(project_root)\n"
   ]
  },
  {
   "cell_type": "markdown",
   "metadata": {},
   "source": [
    "Next, we create the population dataset by concatenating the train and test data. To create the population, we make use of the UserDataset provided in the InputHandler."
   ]
  },
  {
   "cell_type": "code",
   "execution_count": null,
   "metadata": {},
   "outputs": [],
   "source": [
    "from torchvision.datasets import CIFAR10, CIFAR100\n",
    "from torch import cat, tensor\n",
    "import pickle\n",
    "from cifar_handler import CifarInputHandler\n",
    "\n",
    "# Load the config.yaml file\n",
    "with open('train_config.yaml', 'r') as file:\n",
    "    train_config = yaml.safe_load(file)\n",
    "    \n",
    "root = train_config[\"data\"][\"data_dir\"]\n",
    "path = os.path.join(os.getcwd(), root)\n",
    "# Load the CIFAR train and test datasets\n",
    "if train_config[\"data\"][\"dataset\"] == \"cifar10\":\n",
    "    trainset = CIFAR10(root=root, train=True, download=True)\n",
    "    testset = CIFAR10(root=root, train=False, download=True)\n",
    "elif train_config[\"data\"][\"dataset\"] == \"cifar100\":\n",
    "    trainset = CIFAR100(root=root, train=True, download=True)\n",
    "    testset = CIFAR100(root=root, train=False, download=True)\n",
    "else:\n",
    "    raise ValueError(\"Unknown dataset type\")\n",
    "\n",
    "train_data = tensor(trainset.data).permute(0, 3, 1, 2).float() / 255  # (N, C, H, W)\n",
    "test_data = tensor(testset.data).permute(0, 3, 1, 2).float() / 255\n",
    "\n",
    "# Ensure train and test data looks correct\n",
    "assert train_data.shape[0] == 50000, \"Train data should have 50000 samples\"\n",
    "assert test_data.shape[0] == 10000, \"Test data should have 10000 samples\"\n",
    "assert train_data.shape[1] == 3, \"Data should have 3 channels\"\n",
    "assert test_data.shape[1] == 3, \"Data should have 3 channels\"\n",
    "assert train_data.max() <= 1 and train_data.min() >= 0, \"Data should be normalized\"\n",
    "assert test_data.max() <= 1 and test_data.min() >= 0, \"Data should be normalized\"\n",
    "\n",
    "# Concatenate train and test data into the population\n",
    "data = cat([train_data.clone().detach(), test_data.clone().detach()], dim=0)\n",
    "targets = cat([tensor(trainset.targets), tensor(testset.targets)], dim=0)\n",
    "# Create UserDataset object\n",
    "population_dataset = CifarInputHandler.UserDataset(data, targets)\n",
    "\n",
    "assert len(population_dataset) == 60000, \"Population dataset should have 60000 samples\"\n",
    "\n",
    "# Store the population dataset to be used by LeakPro\n",
    "dataset_name = train_config[\"data\"][\"dataset\"]\n",
    "file_path =  \"data/\"+ dataset_name + \".pkl\"\n",
    "if not os.path.exists(file_path):\n",
    "    with open(file_path, \"wb\") as file:\n",
    "        pickle.dump(population_dataset, file)\n",
    "        print(f\"Save data to {file_path}\")"
   ]
  },
  {
   "cell_type": "markdown",
   "metadata": {},
   "source": [
    "With the population dataset stored, we next create the train and test set that will go in to training the target model."
   ]
  },
  {
   "cell_type": "code",
   "execution_count": null,
   "metadata": {},
   "outputs": [],
   "source": [
    "from sklearn.model_selection import train_test_split\n",
    "from torch.utils.data import DataLoader\n",
    "import numpy as np\n",
    "\n",
    "train_fraction = train_config[\"data\"][\"f_train\"]\n",
    "test_fraction = train_config[\"data\"][\"f_test\"]\n",
    "batch_size = train_config[\"train\"][\"batch_size\"]\n",
    "\n",
    "dataset_size = len(population_dataset)\n",
    "train_size = int(train_fraction * dataset_size)\n",
    "test_size = int(test_fraction * dataset_size)\n",
    "\n",
    "selected_index = np.random.choice(np.arange(dataset_size), train_size + test_size, replace=False)\n",
    "train_indices, test_indices = train_test_split(selected_index, test_size=test_size)\n",
    "\n",
    "train_subset = CifarInputHandler.UserDataset(data[train_indices], targets[train_indices])\n",
    "test_subset = CifarInputHandler.UserDataset(data[test_indices], targets[test_indices], **train_subset.return_params())\n",
    "\n",
    "train_loader = DataLoader(train_subset, batch_size = batch_size, shuffle = True)\n",
    "test_loader = DataLoader(test_subset, batch_size = batch_size, shuffle = False)\n",
    "\n",
    "# Evaluate mean and variance of the train data\n",
    "train_mean = train_subset.data.mean(dim=(0, 2, 3))\n",
    "train_std = train_subset.data.std(dim=(0, 2, 3))\n",
    "print (f\"Train mean: {train_mean}, Train std: {train_std}\")"
   ]
  },
  {
   "cell_type": "markdown",
   "metadata": {},
   "source": [
    "With the train and test dataloader in place, we train a ResNet18. \n",
    "After training, we call LeakPro to create metadata that will be used during auditing."
   ]
  },
  {
   "cell_type": "code",
   "execution_count": null,
   "metadata": {},
   "outputs": [],
   "source": [
    "from torch import save, optim, nn\n",
    "from cifar_handler import CifarInputHandler\n",
    "from target_model_class import ResNet18\n",
    "\n",
    "# Train the model\n",
    "if not os.path.exists(\"target\"):\n",
    "    os.makedirs(\"target\")\n",
    "if train_config[\"data\"][\"dataset\"] == \"cifar10\":\n",
    "    num_classes = 10\n",
    "elif train_config[\"data\"][\"dataset\"] == \"cifar100\":\n",
    "    num_classes = 100\n",
    "else:\n",
    "    raise ValueError(\"Invalid dataset name\")\n",
    "\n",
    "# Create instance of target model\n",
    "model = ResNet18(num_classes = num_classes)\n",
    "\n",
    "# Read out the relevant parameters for training\n",
    "lr = train_config[\"train\"][\"learning_rate\"]\n",
    "momentum = train_config[\"train\"][\"momentum\"]\n",
    "epochs = train_config[\"train\"][\"epochs\"]\n",
    "    \n",
    "# Create optimizer and loss function\n",
    "criterion = nn.CrossEntropyLoss()\n",
    "optimizer = optim.SGD(model.parameters(), lr=lr, momentum=momentum)\n",
    "\n",
    "# train target model\n",
    "train_result = CifarInputHandler().train(dataloader=train_loader,\n",
    "                            model=model,\n",
    "                            criterion=criterion,\n",
    "                            optimizer=optimizer,\n",
    "                            epochs=epochs)\n",
    "train_result.model.to(\"cpu\")\n",
    "\n",
    "# Evaluate on test set\n",
    "test_result = CifarInputHandler().eval(test_loader, model, criterion, \"cpu\")\n",
    "\n",
    "\n",
    "# Store the model and metadata\n",
    "model = train_result.model\n",
    "with open(train_config[\"run\"][\"log_dir\"]+\"/target_model.pkl\", \"wb\") as f:\n",
    "    save(model.state_dict(), f)\n",
    "\n",
    "# Create metadata to be used by LeakPro\n",
    "from leakpro import LeakPro\n",
    "meta_data = LeakPro.make_mia_metadata(train_result=train_result,\n",
    "                                      optimizer=optimizer,\n",
    "                                      loss_fn=criterion,\n",
    "                                      dataloader=train_loader,\n",
    "                                      test_result=test_result,\n",
    "                                      epochs=epochs,\n",
    "                                      train_indices=train_indices,\n",
    "                                      test_indices=test_indices,\n",
    "                                      dataset_name=dataset_name)\n",
    "\n",
    "with open(\"target/model_metadata.pkl\", \"wb\") as f:\n",
    "    pickle.dump(meta_data, f)\n",
    "    "
   ]
  },
  {
   "cell_type": "markdown",
   "metadata": {},
   "source": [
    "Plot accuracy and test of training and test."
   ]
  },
  {
   "cell_type": "code",
   "execution_count": null,
   "metadata": {},
   "outputs": [],
   "source": [
    "import matplotlib.pyplot as plt\n",
    "\n",
    "train_acc = train_result.metrics.extra[\"accuracy_history\"]\n",
    "train_loss = train_result.metrics.extra[\"loss_history\"]\n",
    "test_acc = test_result.accuracy\n",
    "test_loss = test_result.loss\n",
    "\n",
    "# Plot training and test accuracy\n",
    "plt.figure(figsize=(5, 4))\n",
    "\n",
    "plt.subplot(1, 2, 1)\n",
    "plt.plot(train_acc, label='Train Accuracy')\n",
    "plt.plot(len(train_loss)-1, test_acc, 'ro', label='Test Loss')\n",
    "plt.xlabel('Epoch')\n",
    "plt.ylabel('Accuracy')\n",
    "plt.title('Accuracy over Epochs')\n",
    "plt.legend()\n",
    "\n",
    "# Plot training and test loss\n",
    "plt.subplot(1, 2, 2)\n",
    "plt.plot(train_loss, label='Train Loss')\n",
    "plt.plot(len(train_loss)-1, test_loss, 'ro', label='Test Loss')\n",
    "plt.xlabel('Epoch')\n",
    "plt.ylabel('Loss')\n",
    "plt.title('Loss over Epochs')\n",
    "plt.legend()\n",
    "\n",
    "plt.tight_layout()\n",
    "plt.show()"
   ]
  },
  {
   "cell_type": "markdown",
   "metadata": {},
   "source": [
    "This is where the privacy auditing takes place."
   ]
  },
  {
   "cell_type": "code",
   "execution_count": 1,
   "metadata": {},
   "outputs": [
    {
     "name": "stderr",
     "output_type": "stream",
     "text": [
      "/home/johan/project/LeakPro/.leakpro_dev/lib/python3.11/site-packages/tqdm/auto.py:21: TqdmWarning: IProgress not found. Please update jupyter and ipywidgets. See https://ipywidgets.readthedocs.io/en/stable/user_install.html\n",
      "  from .autonotebook import tqdm as notebook_tqdm\n",
      "2025-03-24 10:36:53,919 INFO     Target model blueprint created from ResNet18 in ./target_model_class.py.\n",
      "2025-03-24 10:36:53,946 INFO     Loaded target model metadata from ./target/model_metadata.pkl\n",
      "/home/johan/project/LeakPro/.leakpro_dev/lib/python3.11/site-packages/torchvision/models/_utils.py:208: UserWarning: The parameter 'pretrained' is deprecated since 0.13 and may be removed in the future, please use 'weights' instead.\n",
      "  warnings.warn(\n",
      "/home/johan/project/LeakPro/.leakpro_dev/lib/python3.11/site-packages/torchvision/models/_utils.py:223: UserWarning: Arguments other than a weight enum or `None` for 'weights' are deprecated since 0.13 and may be removed in the future. The current behavior is equivalent to passing `weights=None`.\n",
      "  warnings.warn(msg)\n",
      "2025-03-24 10:36:54,159 INFO     Loaded target model from ./target\n",
      "2025-03-24 10:36:55,200 INFO     Loaded population dataset from ./data/cifar10.pkl\n",
      "2025-03-24 10:36:55,202 INFO     Image extension initialized.\n",
      "2025-03-24 10:36:56,662 INFO     MIA attack factory loaded.\n",
      "2025-03-24 10:36:56,663 INFO     Creating shadow model handler singleton\n",
      "2025-03-24 10:36:56,751 INFO     Creating distillation model handler singleton\n",
      "2025-03-24 10:36:56,806 INFO     Added attack: lira\n",
      "2025-03-24 10:36:56,807 INFO     Preparing attack: lira\n",
      "2025-03-24 10:36:56,860 INFO     Number of existing models exceeds or equals the number of models to create\n",
      "2025-03-24 10:36:56,861 INFO     Loading shadow model 9\n",
      "/home/johan/project/LeakPro/.leakpro_dev/lib/python3.11/site-packages/torchvision/models/_utils.py:208: UserWarning: The parameter 'pretrained' is deprecated since 0.13 and may be removed in the future, please use 'weights' instead.\n",
      "  warnings.warn(\n",
      "/home/johan/project/LeakPro/.leakpro_dev/lib/python3.11/site-packages/torchvision/models/_utils.py:223: UserWarning: Arguments other than a weight enum or `None` for 'weights' are deprecated since 0.13 and may be removed in the future. The current behavior is equivalent to passing `weights=None`.\n",
      "  warnings.warn(msg)\n",
      "2025-03-24 10:36:57,286 INFO     Loaded model from ./leakpro_output/attack_objects/shadow_model/shadow_model_9.pkl\n",
      "2025-03-24 10:36:57,287 INFO     Loading shadow model 8\n",
      "2025-03-24 10:36:57,450 INFO     Loaded model from ./leakpro_output/attack_objects/shadow_model/shadow_model_8.pkl\n",
      "2025-03-24 10:36:57,451 INFO     Create masks for all IN and OUT samples\n",
      "2025-03-24 10:36:57,452 INFO     Loading metadata 9\n",
      "2025-03-24 10:36:57,464 INFO     Loading metadata 8\n",
      "2025-03-24 10:36:57,635 INFO     Calculating the logits for all 2 shadow models\n",
      "2025-03-24 10:37:02,908 INFO     Calculating the logits for the target model           \n",
      "2025-03-24 10:37:05,519 INFO     Running attack: lira                                  \n",
      "Processing audit samples: 100%|██████████| 12000/12000 [00:01<00:00, 7498.92it/s]\n",
      "2025-03-24 10:39:29,248 INFO     Finished attack: lira\n",
      "2025-03-24 10:39:49,067 INFO     Preparing results for attack: lira\n",
      "2025-03-24 10:42:32,999 INFO     Auditing completed\n"
     ]
    },
    {
     "data": {
      "text/plain": [
       "<Figure size 640x480 with 0 Axes>"
      ]
     },
     "metadata": {},
     "output_type": "display_data"
    }
   ],
   "source": [
    "import os\n",
    "import sys\n",
    "import yaml\n",
    "\n",
    "project_root = os.path.abspath(os.path.join(os.getcwd(), \"../../..\"))\n",
    "sys.path.append(project_root)\n",
    "# Read the config file\n",
    "config_path = \"audit.yaml\"\n",
    "from leakpro import LeakPro\n",
    "from cifar_handler import CifarInputHandler\n",
    "\n",
    "\n",
    "# Instantiate leakpro object\n",
    "leakpro = LeakPro(CifarInputHandler, config_path)\n",
    "\n",
    "# Run the audit \n",
    "mia_results = leakpro.run_audit(return_results=True)"
   ]
  },
  {
   "cell_type": "markdown",
   "metadata": {},
   "source": [
    "## Generate Report"
   ]
  },
  {
   "cell_type": "code",
   "execution_count": null,
   "metadata": {},
   "outputs": [],
   "source": [
    "# Import and initialize ReportHandler\n",
    "from leakpro.reporting.report_handler import ReportHandler\n",
    "\n",
    "# report_handler = ReportHandler()\n",
    "report_handler = ReportHandler(report_dir=\"./leakpro_output/results\")\n",
    "\n",
    "# Save MIA resuls using report handler\n",
    "for res in mia_results:\n",
    "    report_handler.save_results(attack_name=res.attack_name, result_data=res, config=res.configs)\n",
    "\n",
    "# # Create the report by compiling the latex text\n",
    "report_handler.create_report()"
   ]
  },
  {
   "cell_type": "code",
   "execution_count": null,
   "metadata": {},
   "outputs": [],
   "source": [
    "# Read from /leakpro_output/attack_objects/shadow_model and load all meatdata\n",
    "import pickle\n",
    "import os\n",
    "\n",
    "shadow_model_path = os.path.join(os.getcwd(), \"leakpro_output/attack_objects/shadow_model\")\n",
    "shadow_train_acc = []\n",
    "shadow_test_acc = []\n",
    "for file in os.listdir(shadow_model_path):\n",
    "    if \"metadata\" not in file.lower():  # Ensure only files containing \"metadata\" are processed\n",
    "        continue  \n",
    "\n",
    "    with open(os.path.join(shadow_model_path, file), 'rb') as f:\n",
    "        tmp_file = pickle.load(f, fix_imports=True)\n",
    "        shadow_train_acc.append(tmp_file.train_result.accuracy)\n",
    "        shadow_test_acc.append(tmp_file.test_result.accuracy)\n",
    "\n",
    "# Plot the train and test accuracy of the shadow models as histograms\n",
    "import matplotlib.pyplot as plt\n",
    "\n",
    "# Print out the train accuracy of the target model\n",
    "print(f\"Train accuracy of the target model: {train_acc[-1]}\")\n",
    "print(f\"Test accuracy of the target model: {test_acc}\")\n",
    "# Print out for shadow models\n",
    "for i, acc in enumerate(shadow_train_acc):\n",
    "    print(f\"Train accuracy of shadow model {i}: {acc}\")\n",
    "for i, acc in enumerate(shadow_test_acc):\n",
    "    print(f\"Test accuracy of shadow model {i}: {acc}\")\n",
    "\n",
    "# Plot training and test accuracy\n",
    "plt.subplot(1, 2, 1)\n",
    "plt.hist(shadow_train_acc, bins=20, alpha=0.5, label='Shadow')\n",
    "# add the train_acc (single point) as a vertical line\n",
    "plt.axvline(x=train_acc[-1], color='r', label='Target')\n",
    "plt.xlabel('Accuracy')\n",
    "plt.ylabel('Frequency')\n",
    "plt.title('Train')\n",
    "plt.legend()\n",
    "\n",
    "plt.subplot(1, 2, 2)\n",
    "plt.hist(shadow_test_acc, bins=20, alpha=0.5, label='Shadow')    \n",
    "plt.axvline(x=test_acc, color='r', label='Target')\n",
    "plt.xlabel('Accuracy')\n",
    "plt.title('Test')"
   ]
  },
  {
   "cell_type": "code",
   "execution_count": null,
   "metadata": {},
   "outputs": [],
   "source": []
  }
 ],
 "metadata": {
  "kernelspec": {
   "display_name": ".leakpro_dev",
   "language": "python",
   "name": "python3"
  },
  "language_info": {
   "codemirror_mode": {
    "name": "ipython",
    "version": 3
   },
   "file_extension": ".py",
   "mimetype": "text/x-python",
   "name": "python",
   "nbconvert_exporter": "python",
   "pygments_lexer": "ipython3",
   "version": "3.11.4"
  }
 },
 "nbformat": 4,
 "nbformat_minor": 2
}
