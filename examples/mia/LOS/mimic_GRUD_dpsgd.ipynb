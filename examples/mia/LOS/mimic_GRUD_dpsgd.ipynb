{
 "cells": [
  {
   "cell_type": "markdown",
   "metadata": {},
   "source": [
    "# MIA attacks on Length-of-Stay predictor, Gated Recurrent Unit with Decay (GRU-D), with DPSGD\n",
    "## Installation of Packages in Conda\n",
    "\n",
    "To install the required packages in your conda environment, you can use the following commands:\n",
    "\n",
    "```bash\n",
    "conda install h5py\n",
    "conda install pytables\n",
    "conda install -c conda-forge opacus"
   ]
  },
  {
   "cell_type": "code",
   "execution_count": 2,
   "metadata": {},
   "outputs": [
    {
     "name": "stderr",
     "output_type": "stream",
     "text": [
      "/home/fazeleh/miniconda3/envs/leakpro_py311/lib/python3.11/site-packages/tqdm/auto.py:21: TqdmWarning: IProgress not found. Please update jupyter and ipywidgets. See https://ipywidgets.readthedocs.io/en/stable/user_install.html\n",
      "  from .autonotebook import tqdm as notebook_tqdm\n",
      "/home/fazeleh/miniconda3/envs/leakpro_py311/lib/python3.11/site-packages/torchvision/io/image.py:13: UserWarning: Failed to load image Python extension: '/home/fazeleh/miniconda3/envs/leakpro_py311/lib/python3.11/site-packages/torchvision/image.so: undefined symbol: _ZN3c1017RegisterOperatorsD1Ev'If you don't plan on using image functionality from `torchvision.io`, you can ignore this warning. Otherwise, there might be something wrong with your environment. Did you have `libjpeg` or `libpng` installed before building `torchvision` from source?\n",
      "  warn(\n"
     ]
    }
   ],
   "source": [
    "import os\n",
    "import sys\n",
    "\n",
    "from torch import zeros\n",
    "\n",
    "project_root = os.path.abspath(os.path.join(os.getcwd(), \"../../..\"))\n",
    "sys.path.append(project_root)\n",
    "\n",
    "from utils.data_processing import get_mimic_dataloaders, get_mimic_dataset"
   ]
  },
  {
   "cell_type": "markdown",
   "metadata": {},
   "source": [
    "The  `batch_size` is one of the parameters which is assigned based on hyperparameter tuning as detailed in [this notebook](https://github.com/MLforHealth/MIMIC_Extract/blob/4daf3c89be7de05d26f47819d68d5532de6f753a/notebooks/Baselines%20for%20Mortality%20and%20LOS%20prediction%20-%20GRU-D.ipynb)."
   ]
  },
  {
   "cell_type": "code",
   "execution_count": 3,
   "metadata": {},
   "outputs": [
    {
     "name": "stdout",
     "output_type": "stream",
     "text": [
      "Loading dataset...\n",
      "Loaded dataset from /home/fazeleh/LeakPro/examples/mia/LOS/data/GRUD_data/dataset.pkl\n"
     ]
    }
   ],
   "source": [
    "# Generate the dataset and dataloaders\n",
    "path = os.path.join(os.getcwd(), \"data/\")\n",
    "\n",
    "train_frac = 0.4\n",
    "valid_frac = 0.0\n",
    "test_frac = 0.0\n",
    "early_stop_frac = 0.4\n",
    "batch_size = 74\n",
    "use_LR = False # True if you want to use the LR model, False if you want to use the GRUD model\n",
    "\n",
    "dataset, train_indices, validation_indices, test_indices, early_stop_indices= get_mimic_dataset(path,\n",
    "                                                                            train_frac ,\n",
    "                                                                            valid_frac,\n",
    "                                                                            test_frac,\n",
    "                                                                            early_stop_frac,\n",
    "                                                                            use_LR)"
   ]
  },
  {
   "cell_type": "code",
   "execution_count": 4,
   "metadata": {},
   "outputs": [],
   "source": [
    "train_loader, validation_loader, test_loader, early_stop_loader = get_mimic_dataloaders(dataset,\n",
    "                                                            train_indices,\n",
    "                                                            validation_indices,\n",
    "                                                            test_indices,\n",
    "                                                            early_stop_indices,\n",
    "                                                            batch_size)"
   ]
  },
  {
   "cell_type": "code",
   "execution_count": 5,
   "metadata": {},
   "outputs": [],
   "source": [
    "target_model_dir = \"./target_GRUD_dpsgd\"\n",
    "# epsilons = [.0001, .001, .01, .1, .5, 1, 2, 3.5, 5, 7, 10] # epsilons to run over\n",
    "delta = 1e-5\n",
    "target_epsilon = 3.5\n",
    "sample_rate = 1/len(train_loader) # already incorporates batchsize"
   ]
  },
  {
   "cell_type": "code",
   "execution_count": 6,
   "metadata": {},
   "outputs": [],
   "source": [
    "noise_multiplier_dict = {\n",
    "    \"target_epsilon\": target_epsilon,\n",
    "    \"target_delta\": delta,\n",
    "    \"sample_rate\": sample_rate,\n",
    "    \"epochs\": 21,\n",
    "    \"epsilon_tolerance\": 0.01,\n",
    "    \"accountant\": \"prv\",\n",
    "    \"eps_error\": 0.01,\n",
    "    \"max_grad_norm\": 1,\n",
    "}\n"
   ]
  },
  {
   "cell_type": "markdown",
   "metadata": {},
   "source": [
    "The `optimized_hyperparams` is assigned based on hyperparameter tuning as detailed in [this notebook](https://github.com/MLforHealth/MIMIC_Extract/blob/4daf3c89be7de05d26f47819d68d5532de6f753a/notebooks/Baselines%20for%20Mortality%20and%20LOS%20prediction%20-%20GRU-D.ipynb)."
   ]
  },
  {
   "cell_type": "code",
   "execution_count": 12,
   "metadata": {},
   "outputs": [],
   "source": [
    "optimized_hyperparams ={\n",
    "    \"hidden_size\": 27,\n",
    "    \"learning_rate\": 0.000289,\n",
    "    \"num_epochs\":40,\n",
    "    \"patience_early_stopping\": 40,\n",
    "    \"patience_lr_scheduler\": 2,\n",
    "    \"batch_size\": 74,\n",
    "    \"seed\": 6286,\n",
    "    \"min_delta\": 0.00001,\n",
    "    }\n",
    "\n",
    "n_features = int(dataset.x.shape[1]/3)\n",
    "X_mean = zeros(1,dataset.x.shape[2],n_features)\n",
    "\n",
    "# Add other required parameters to model_params\n",
    "model_params = {\n",
    "    \"hidden_size\": optimized_hyperparams[\"hidden_size\"],\n",
    "    \"batch_size\": optimized_hyperparams[\"batch_size\"],\n",
    "    \"input_size\": n_features,\n",
    "    \"X_mean\": X_mean,\n",
    "    \"output_last\": False,\n",
    "    \"bn_flag\": False,\n",
    "}"
   ]
  },
  {
   "cell_type": "code",
   "execution_count": 13,
   "metadata": {},
   "outputs": [
    {
     "name": "stdout",
     "output_type": "stream",
     "text": [
      "Model Structure:  GRUD_DPSGD(\n",
      "  (zl): Linear(in_features=235, out_features=27, bias=True)\n",
      "  (rl): Linear(in_features=235, out_features=27, bias=True)\n",
      "  (hl): Linear(in_features=235, out_features=27, bias=True)\n",
      "  (gamma_x_l): FilterLinear(in_features=104, out_features=104, bias=True)\n",
      "  (gamma_h_l): Linear(in_features=104, out_features=27, bias=True)\n",
      "  (fc): Linear(in_features=27, out_features=1, bias=True)\n",
      "  (drop): Dropout(p=0.57, inplace=False)\n",
      ")\n",
      "Start Training ... \n",
      "Output type dermined by the model\n"
     ]
    },
    {
     "name": "stderr",
     "output_type": "stream",
     "text": [
      "/home/fazeleh/miniconda3/envs/leakpro_py311/lib/python3.11/site-packages/opacus/accountants/analysis/rdp.py:332: UserWarning: Optimal order is the largest alpha. Please consider expanding the range of alphas to get a tighter privacy bound.\n",
      "  warnings.warn(\n",
      "/home/fazeleh/miniconda3/envs/leakpro_py311/lib/python3.11/site-packages/opacus/privacy_engine.py:95: UserWarning: Secure RNG turned off. This is perfectly fine for experimentation as it allows for much faster training performance, but remember to turn it on and retrain one last time before production with ``secure_mode`` turned on.\n",
      "  warnings.warn(\n",
      "Training Progress:   0%|          | 0/40 [00:00<?, ?it/s]/home/fazeleh/miniconda3/envs/leakpro_py311/lib/python3.11/site-packages/torch/nn/modules/module.py:1640: FutureWarning: Using a non-full backward hook when the forward contains multiple autograd Nodes is deprecated and will be removed in future versions. This hook will be missing some grad_input. Please use register_full_backward_hook to get the documented behavior.\n",
      "  self._maybe_warn_non_full_backward_hook(args, result, grad_fn)\n",
      "Training Batches: 100%|██████████| 130/130 [00:07<00:00, 16.85it/s]\n",
      "Test Batches: 100%|██████████| 130/130 [00:02<00:00, 50.32it/s]\n",
      "Training Progress:   2%|▎         | 1/40 [00:10<06:42, 10.31s/it]"
     ]
    },
    {
     "name": "stdout",
     "output_type": "stream",
     "text": [
      "Epoch 0: Validation loss improved to 0.6690\n",
      "Learning Rate: 0.000289000000\n",
      "Epoch: 0, train_loss: 0.68186917, valid_loss: 0.66900224\n"
     ]
    },
    {
     "name": "stderr",
     "output_type": "stream",
     "text": [
      "/home/fazeleh/miniconda3/envs/leakpro_py311/lib/python3.11/site-packages/torch/nn/modules/module.py:1640: FutureWarning: Using a non-full backward hook when the forward contains multiple autograd Nodes is deprecated and will be removed in future versions. This hook will be missing some grad_input. Please use register_full_backward_hook to get the documented behavior.\n",
      "  self._maybe_warn_non_full_backward_hook(args, result, grad_fn)\n",
      "Training Batches: 100%|██████████| 130/130 [00:07<00:00, 16.35it/s]\n",
      "Test Batches: 100%|██████████| 130/130 [00:02<00:00, 50.46it/s]\n",
      "Training Progress:   5%|▌         | 2/40 [00:20<06:36, 10.44s/it]"
     ]
    },
    {
     "name": "stdout",
     "output_type": "stream",
     "text": [
      "Epoch 1: Validation loss improved to 0.6536\n",
      "Learning Rate: 0.000289000000\n",
      "Epoch: 1, train_loss: 0.66348555, valid_loss: 0.65363472\n"
     ]
    },
    {
     "name": "stderr",
     "output_type": "stream",
     "text": [
      "/home/fazeleh/miniconda3/envs/leakpro_py311/lib/python3.11/site-packages/torch/nn/modules/module.py:1640: FutureWarning: Using a non-full backward hook when the forward contains multiple autograd Nodes is deprecated and will be removed in future versions. This hook will be missing some grad_input. Please use register_full_backward_hook to get the documented behavior.\n",
      "  self._maybe_warn_non_full_backward_hook(args, result, grad_fn)\n",
      "Training Batches: 100%|██████████| 130/130 [00:07<00:00, 16.71it/s]\n",
      "Test Batches: 100%|██████████| 130/130 [00:02<00:00, 50.55it/s]\n",
      "Training Progress:   8%|▊         | 3/40 [00:31<06:24, 10.40s/it]"
     ]
    },
    {
     "name": "stdout",
     "output_type": "stream",
     "text": [
      "Epoch 2: Validation loss improved to 0.6496\n",
      "Learning Rate: 0.000289000000\n",
      "Epoch: 2, train_loss: 0.66181733, valid_loss: 0.64959982\n"
     ]
    },
    {
     "name": "stderr",
     "output_type": "stream",
     "text": [
      "/home/fazeleh/miniconda3/envs/leakpro_py311/lib/python3.11/site-packages/torch/nn/modules/module.py:1640: FutureWarning: Using a non-full backward hook when the forward contains multiple autograd Nodes is deprecated and will be removed in future versions. This hook will be missing some grad_input. Please use register_full_backward_hook to get the documented behavior.\n",
      "  self._maybe_warn_non_full_backward_hook(args, result, grad_fn)\n",
      "Training Batches: 100%|██████████| 130/130 [00:07<00:00, 16.92it/s]\n",
      "Test Batches: 100%|██████████| 130/130 [00:02<00:00, 50.57it/s]\n",
      "Training Progress:  10%|█         | 4/40 [00:41<06:12, 10.35s/it]"
     ]
    },
    {
     "name": "stdout",
     "output_type": "stream",
     "text": [
      "Epoch 3: No improvement. Patience counter: 1/40\n",
      "Learning Rate: 0.000289000000\n",
      "Epoch: 3, train_loss: 0.66714548, valid_loss: 0.66021701\n"
     ]
    },
    {
     "name": "stderr",
     "output_type": "stream",
     "text": [
      "/home/fazeleh/miniconda3/envs/leakpro_py311/lib/python3.11/site-packages/torch/nn/modules/module.py:1640: FutureWarning: Using a non-full backward hook when the forward contains multiple autograd Nodes is deprecated and will be removed in future versions. This hook will be missing some grad_input. Please use register_full_backward_hook to get the documented behavior.\n",
      "  self._maybe_warn_non_full_backward_hook(args, result, grad_fn)\n",
      "Training Batches: 100%|██████████| 130/130 [00:07<00:00, 16.84it/s]\n",
      "Test Batches: 100%|██████████| 130/130 [00:02<00:00, 50.50it/s]\n",
      "Training Progress:  12%|█▎        | 5/40 [00:51<06:01, 10.33s/it]"
     ]
    },
    {
     "name": "stdout",
     "output_type": "stream",
     "text": [
      "Epoch 4: No improvement. Patience counter: 2/40\n",
      "Learning Rate: 0.000289000000\n",
      "Epoch: 4, train_loss: 0.69054931, valid_loss: 0.69051211\n"
     ]
    },
    {
     "name": "stderr",
     "output_type": "stream",
     "text": [
      "/home/fazeleh/miniconda3/envs/leakpro_py311/lib/python3.11/site-packages/torch/nn/modules/module.py:1640: FutureWarning: Using a non-full backward hook when the forward contains multiple autograd Nodes is deprecated and will be removed in future versions. This hook will be missing some grad_input. Please use register_full_backward_hook to get the documented behavior.\n",
      "  self._maybe_warn_non_full_backward_hook(args, result, grad_fn)\n",
      "Training Batches: 100%|██████████| 130/130 [00:07<00:00, 16.85it/s]\n",
      "Test Batches: 100%|██████████| 130/130 [00:02<00:00, 50.50it/s]\n",
      "Training Progress:  15%|█▌        | 6/40 [01:02<05:50, 10.32s/it]"
     ]
    },
    {
     "name": "stdout",
     "output_type": "stream",
     "text": [
      "Epoch 5: No improvement. Patience counter: 3/40\n",
      "Learning Rate: 0.000057800000\n",
      "Epoch: 5, train_loss: 0.7377677, valid_loss: 0.72886031\n"
     ]
    },
    {
     "name": "stderr",
     "output_type": "stream",
     "text": [
      "/home/fazeleh/miniconda3/envs/leakpro_py311/lib/python3.11/site-packages/torch/nn/modules/module.py:1640: FutureWarning: Using a non-full backward hook when the forward contains multiple autograd Nodes is deprecated and will be removed in future versions. This hook will be missing some grad_input. Please use register_full_backward_hook to get the documented behavior.\n",
      "  self._maybe_warn_non_full_backward_hook(args, result, grad_fn)\n",
      "Training Batches: 100%|██████████| 130/130 [00:07<00:00, 16.83it/s]\n",
      "Test Batches: 100%|██████████| 130/130 [00:02<00:00, 50.46it/s]\n",
      "Training Progress:  18%|█▊        | 7/40 [01:12<05:40, 10.32s/it]"
     ]
    },
    {
     "name": "stdout",
     "output_type": "stream",
     "text": [
      "Epoch 6: No improvement. Patience counter: 4/40\n",
      "Learning Rate: 0.000057800000\n",
      "Epoch: 6, train_loss: 0.74420505, valid_loss: 0.73655792\n"
     ]
    },
    {
     "name": "stderr",
     "output_type": "stream",
     "text": [
      "/home/fazeleh/miniconda3/envs/leakpro_py311/lib/python3.11/site-packages/torch/nn/modules/module.py:1640: FutureWarning: Using a non-full backward hook when the forward contains multiple autograd Nodes is deprecated and will be removed in future versions. This hook will be missing some grad_input. Please use register_full_backward_hook to get the documented behavior.\n",
      "  self._maybe_warn_non_full_backward_hook(args, result, grad_fn)\n",
      "Training Batches: 100%|██████████| 130/130 [00:07<00:00, 16.76it/s]\n",
      "Test Batches: 100%|██████████| 130/130 [00:02<00:00, 50.49it/s]\n",
      "Training Progress:  20%|██        | 8/40 [01:22<05:30, 10.32s/it]"
     ]
    },
    {
     "name": "stdout",
     "output_type": "stream",
     "text": [
      "Epoch 7: No improvement. Patience counter: 5/40\n",
      "Learning Rate: 0.000057800000\n",
      "Epoch: 7, train_loss: 0.7309282, valid_loss: 0.74567917\n"
     ]
    },
    {
     "name": "stderr",
     "output_type": "stream",
     "text": [
      "/home/fazeleh/miniconda3/envs/leakpro_py311/lib/python3.11/site-packages/torch/nn/modules/module.py:1640: FutureWarning: Using a non-full backward hook when the forward contains multiple autograd Nodes is deprecated and will be removed in future versions. This hook will be missing some grad_input. Please use register_full_backward_hook to get the documented behavior.\n",
      "  self._maybe_warn_non_full_backward_hook(args, result, grad_fn)\n",
      "Training Batches: 100%|██████████| 130/130 [00:07<00:00, 16.58it/s]\n",
      "Test Batches: 100%|██████████| 130/130 [00:02<00:00, 50.38it/s]\n",
      "Training Progress:  22%|██▎       | 9/40 [01:33<05:21, 10.36s/it]"
     ]
    },
    {
     "name": "stdout",
     "output_type": "stream",
     "text": [
      "Epoch 8: No improvement. Patience counter: 6/40\n",
      "Learning Rate: 0.000011560000\n",
      "Epoch: 8, train_loss: 0.75350802, valid_loss: 0.75328852\n"
     ]
    },
    {
     "name": "stderr",
     "output_type": "stream",
     "text": [
      "/home/fazeleh/miniconda3/envs/leakpro_py311/lib/python3.11/site-packages/torch/nn/modules/module.py:1640: FutureWarning: Using a non-full backward hook when the forward contains multiple autograd Nodes is deprecated and will be removed in future versions. This hook will be missing some grad_input. Please use register_full_backward_hook to get the documented behavior.\n",
      "  self._maybe_warn_non_full_backward_hook(args, result, grad_fn)\n",
      "Training Batches: 100%|██████████| 130/130 [00:07<00:00, 16.34it/s]\n",
      "Test Batches: 100%|██████████| 130/130 [00:02<00:00, 50.42it/s]\n",
      "Training Progress:  25%|██▌       | 10/40 [01:43<05:12, 10.41s/it]"
     ]
    },
    {
     "name": "stdout",
     "output_type": "stream",
     "text": [
      "Epoch 9: No improvement. Patience counter: 7/40\n",
      "Learning Rate: 0.000011560000\n",
      "Epoch: 9, train_loss: 0.77744571, valid_loss: 0.75478407\n"
     ]
    },
    {
     "name": "stderr",
     "output_type": "stream",
     "text": [
      "/home/fazeleh/miniconda3/envs/leakpro_py311/lib/python3.11/site-packages/torch/nn/modules/module.py:1640: FutureWarning: Using a non-full backward hook when the forward contains multiple autograd Nodes is deprecated and will be removed in future versions. This hook will be missing some grad_input. Please use register_full_backward_hook to get the documented behavior.\n",
      "  self._maybe_warn_non_full_backward_hook(args, result, grad_fn)\n",
      "Training Batches: 100%|██████████| 130/130 [00:07<00:00, 16.66it/s]\n",
      "Test Batches: 100%|██████████| 130/130 [00:02<00:00, 49.69it/s]\n",
      "Training Progress:  28%|██▊       | 11/40 [01:54<05:02, 10.42s/it]"
     ]
    },
    {
     "name": "stdout",
     "output_type": "stream",
     "text": [
      "Epoch 10: No improvement. Patience counter: 8/40\n",
      "Learning Rate: 0.000011560000\n",
      "Epoch: 10, train_loss: 0.77874301, valid_loss: 0.75618432\n"
     ]
    },
    {
     "name": "stderr",
     "output_type": "stream",
     "text": [
      "/home/fazeleh/miniconda3/envs/leakpro_py311/lib/python3.11/site-packages/torch/nn/modules/module.py:1640: FutureWarning: Using a non-full backward hook when the forward contains multiple autograd Nodes is deprecated and will be removed in future versions. This hook will be missing some grad_input. Please use register_full_backward_hook to get the documented behavior.\n",
      "  self._maybe_warn_non_full_backward_hook(args, result, grad_fn)\n",
      "Training Batches: 100%|██████████| 130/130 [00:07<00:00, 16.61it/s]\n",
      "Test Batches: 100%|██████████| 130/130 [00:02<00:00, 50.31it/s]\n",
      "Training Progress:  30%|███       | 12/40 [02:04<04:51, 10.42s/it]"
     ]
    },
    {
     "name": "stdout",
     "output_type": "stream",
     "text": [
      "Epoch 11: No improvement. Patience counter: 9/40\n",
      "Learning Rate: 0.000002312000\n",
      "Epoch: 11, train_loss: 0.7627925, valid_loss: 0.75781476\n"
     ]
    },
    {
     "name": "stderr",
     "output_type": "stream",
     "text": [
      "/home/fazeleh/miniconda3/envs/leakpro_py311/lib/python3.11/site-packages/torch/nn/modules/module.py:1640: FutureWarning: Using a non-full backward hook when the forward contains multiple autograd Nodes is deprecated and will be removed in future versions. This hook will be missing some grad_input. Please use register_full_backward_hook to get the documented behavior.\n",
      "  self._maybe_warn_non_full_backward_hook(args, result, grad_fn)\n",
      "Training Batches: 100%|██████████| 130/130 [00:07<00:00, 16.74it/s]\n",
      "Test Batches: 100%|██████████| 130/130 [00:02<00:00, 50.47it/s]\n",
      "Training Progress:  32%|███▎      | 13/40 [02:14<04:40, 10.40s/it]"
     ]
    },
    {
     "name": "stdout",
     "output_type": "stream",
     "text": [
      "Epoch 12: No improvement. Patience counter: 10/40\n",
      "Learning Rate: 0.000002312000\n",
      "Epoch: 12, train_loss: 0.77805941, valid_loss: 0.75808825\n"
     ]
    },
    {
     "name": "stderr",
     "output_type": "stream",
     "text": [
      "/home/fazeleh/miniconda3/envs/leakpro_py311/lib/python3.11/site-packages/torch/nn/modules/module.py:1640: FutureWarning: Using a non-full backward hook when the forward contains multiple autograd Nodes is deprecated and will be removed in future versions. This hook will be missing some grad_input. Please use register_full_backward_hook to get the documented behavior.\n",
      "  self._maybe_warn_non_full_backward_hook(args, result, grad_fn)\n",
      "Training Batches: 100%|██████████| 130/130 [00:07<00:00, 16.78it/s]\n",
      "Test Batches: 100%|██████████| 130/130 [00:02<00:00, 50.58it/s]\n",
      "Training Progress:  35%|███▌      | 14/40 [02:25<04:29, 10.38s/it]"
     ]
    },
    {
     "name": "stdout",
     "output_type": "stream",
     "text": [
      "Epoch 13: No improvement. Patience counter: 11/40\n",
      "Learning Rate: 0.000002312000\n",
      "Epoch: 13, train_loss: 0.77715948, valid_loss: 0.75838204\n"
     ]
    },
    {
     "name": "stderr",
     "output_type": "stream",
     "text": [
      "/home/fazeleh/miniconda3/envs/leakpro_py311/lib/python3.11/site-packages/torch/nn/modules/module.py:1640: FutureWarning: Using a non-full backward hook when the forward contains multiple autograd Nodes is deprecated and will be removed in future versions. This hook will be missing some grad_input. Please use register_full_backward_hook to get the documented behavior.\n",
      "  self._maybe_warn_non_full_backward_hook(args, result, grad_fn)\n",
      "Training Batches: 100%|██████████| 130/130 [00:07<00:00, 16.69it/s]\n",
      "Test Batches: 100%|██████████| 130/130 [00:02<00:00, 50.39it/s]\n",
      "Training Progress:  38%|███▊      | 15/40 [02:35<04:19, 10.38s/it]"
     ]
    },
    {
     "name": "stdout",
     "output_type": "stream",
     "text": [
      "Epoch 14: No improvement. Patience counter: 12/40\n",
      "Learning Rate: 0.000000462400\n",
      "Epoch: 14, train_loss: 0.77876498, valid_loss: 0.75865256\n"
     ]
    },
    {
     "name": "stderr",
     "output_type": "stream",
     "text": [
      "/home/fazeleh/miniconda3/envs/leakpro_py311/lib/python3.11/site-packages/torch/nn/modules/module.py:1640: FutureWarning: Using a non-full backward hook when the forward contains multiple autograd Nodes is deprecated and will be removed in future versions. This hook will be missing some grad_input. Please use register_full_backward_hook to get the documented behavior.\n",
      "  self._maybe_warn_non_full_backward_hook(args, result, grad_fn)\n",
      "Training Batches: 100%|██████████| 130/130 [00:07<00:00, 16.76it/s]\n",
      "Test Batches: 100%|██████████| 130/130 [00:02<00:00, 50.63it/s]\n",
      "Training Progress:  40%|████      | 16/40 [02:45<04:08, 10.36s/it]"
     ]
    },
    {
     "name": "stdout",
     "output_type": "stream",
     "text": [
      "Epoch 15: No improvement. Patience counter: 13/40\n",
      "Learning Rate: 0.000000462400\n",
      "Epoch: 15, train_loss: 0.77903966, valid_loss: 0.75871266\n"
     ]
    },
    {
     "name": "stderr",
     "output_type": "stream",
     "text": [
      "/home/fazeleh/miniconda3/envs/leakpro_py311/lib/python3.11/site-packages/torch/nn/modules/module.py:1640: FutureWarning: Using a non-full backward hook when the forward contains multiple autograd Nodes is deprecated and will be removed in future versions. This hook will be missing some grad_input. Please use register_full_backward_hook to get the documented behavior.\n",
      "  self._maybe_warn_non_full_backward_hook(args, result, grad_fn)\n",
      "Training Batches: 100%|██████████| 130/130 [00:07<00:00, 16.85it/s]\n",
      "Test Batches: 100%|██████████| 130/130 [00:02<00:00, 50.52it/s]\n",
      "Training Progress:  42%|████▎     | 17/40 [02:56<03:57, 10.34s/it]"
     ]
    },
    {
     "name": "stdout",
     "output_type": "stream",
     "text": [
      "Epoch 16: No improvement. Patience counter: 14/40\n",
      "Learning Rate: 0.000000462400\n",
      "Epoch: 16, train_loss: 0.78404308, valid_loss: 0.75876537\n"
     ]
    },
    {
     "name": "stderr",
     "output_type": "stream",
     "text": [
      "/home/fazeleh/miniconda3/envs/leakpro_py311/lib/python3.11/site-packages/torch/nn/modules/module.py:1640: FutureWarning: Using a non-full backward hook when the forward contains multiple autograd Nodes is deprecated and will be removed in future versions. This hook will be missing some grad_input. Please use register_full_backward_hook to get the documented behavior.\n",
      "  self._maybe_warn_non_full_backward_hook(args, result, grad_fn)\n",
      "Training Batches: 100%|██████████| 130/130 [00:07<00:00, 17.38it/s]\n",
      "Test Batches: 100%|██████████| 130/130 [00:02<00:00, 50.50it/s]\n",
      "Training Progress:  45%|████▌     | 18/40 [03:06<03:45, 10.26s/it]"
     ]
    },
    {
     "name": "stdout",
     "output_type": "stream",
     "text": [
      "Epoch 17: No improvement. Patience counter: 15/40\n",
      "Learning Rate: 0.000000092480\n",
      "Epoch: 17, train_loss: 0.7617233, valid_loss: 0.75882434\n"
     ]
    },
    {
     "name": "stderr",
     "output_type": "stream",
     "text": [
      "/home/fazeleh/miniconda3/envs/leakpro_py311/lib/python3.11/site-packages/torch/nn/modules/module.py:1640: FutureWarning: Using a non-full backward hook when the forward contains multiple autograd Nodes is deprecated and will be removed in future versions. This hook will be missing some grad_input. Please use register_full_backward_hook to get the documented behavior.\n",
      "  self._maybe_warn_non_full_backward_hook(args, result, grad_fn)\n",
      "Training Batches: 100%|██████████| 130/130 [00:07<00:00, 17.73it/s]\n",
      "Test Batches: 100%|██████████| 130/130 [00:02<00:00, 50.56it/s]\n",
      "Training Progress:  48%|████▊     | 19/40 [03:16<03:33, 10.16s/it]"
     ]
    },
    {
     "name": "stdout",
     "output_type": "stream",
     "text": [
      "Epoch 18: No improvement. Patience counter: 16/40\n",
      "Learning Rate: 0.000000092480\n",
      "Epoch: 18, train_loss: 0.77998997, valid_loss: 0.75883689\n"
     ]
    },
    {
     "name": "stderr",
     "output_type": "stream",
     "text": [
      "/home/fazeleh/miniconda3/envs/leakpro_py311/lib/python3.11/site-packages/torch/nn/modules/module.py:1640: FutureWarning: Using a non-full backward hook when the forward contains multiple autograd Nodes is deprecated and will be removed in future versions. This hook will be missing some grad_input. Please use register_full_backward_hook to get the documented behavior.\n",
      "  self._maybe_warn_non_full_backward_hook(args, result, grad_fn)\n",
      "Training Batches: 100%|██████████| 130/130 [00:07<00:00, 17.57it/s]\n",
      "Test Batches: 100%|██████████| 130/130 [00:02<00:00, 48.29it/s]\n",
      "Training Progress:  50%|█████     | 20/40 [03:26<03:22, 10.14s/it]"
     ]
    },
    {
     "name": "stdout",
     "output_type": "stream",
     "text": [
      "Epoch 19: No improvement. Patience counter: 17/40\n",
      "Learning Rate: 0.000000092480\n",
      "Epoch: 19, train_loss: 0.77044112, valid_loss: 0.75885029\n"
     ]
    },
    {
     "name": "stderr",
     "output_type": "stream",
     "text": [
      "/home/fazeleh/miniconda3/envs/leakpro_py311/lib/python3.11/site-packages/torch/nn/modules/module.py:1640: FutureWarning: Using a non-full backward hook when the forward contains multiple autograd Nodes is deprecated and will be removed in future versions. This hook will be missing some grad_input. Please use register_full_backward_hook to get the documented behavior.\n",
      "  self._maybe_warn_non_full_backward_hook(args, result, grad_fn)\n",
      "Training Batches: 100%|██████████| 130/130 [00:07<00:00, 17.51it/s]\n",
      "Test Batches: 100%|██████████| 130/130 [00:02<00:00, 50.46it/s]\n",
      "Training Progress:  52%|█████▎    | 21/40 [03:36<03:11, 10.10s/it]"
     ]
    },
    {
     "name": "stdout",
     "output_type": "stream",
     "text": [
      "Epoch 20: No improvement. Patience counter: 18/40\n",
      "Learning Rate: 0.000000018496\n",
      "Epoch: 20, train_loss: 0.77682866, valid_loss: 0.75886279\n"
     ]
    },
    {
     "name": "stderr",
     "output_type": "stream",
     "text": [
      "/home/fazeleh/miniconda3/envs/leakpro_py311/lib/python3.11/site-packages/torch/nn/modules/module.py:1640: FutureWarning: Using a non-full backward hook when the forward contains multiple autograd Nodes is deprecated and will be removed in future versions. This hook will be missing some grad_input. Please use register_full_backward_hook to get the documented behavior.\n",
      "  self._maybe_warn_non_full_backward_hook(args, result, grad_fn)\n",
      "Training Batches: 100%|██████████| 130/130 [00:07<00:00, 16.41it/s]\n",
      "Test Batches: 100%|██████████| 130/130 [00:02<00:00, 50.23it/s]\n",
      "Training Progress:  55%|█████▌    | 22/40 [03:46<03:04, 10.23s/it]"
     ]
    },
    {
     "name": "stdout",
     "output_type": "stream",
     "text": [
      "Epoch 21: No improvement. Patience counter: 19/40\n",
      "Learning Rate: 0.000000018496\n",
      "Epoch: 21, train_loss: 0.78172943, valid_loss: 0.75886433\n"
     ]
    },
    {
     "name": "stderr",
     "output_type": "stream",
     "text": [
      "/home/fazeleh/miniconda3/envs/leakpro_py311/lib/python3.11/site-packages/torch/nn/modules/module.py:1640: FutureWarning: Using a non-full backward hook when the forward contains multiple autograd Nodes is deprecated and will be removed in future versions. This hook will be missing some grad_input. Please use register_full_backward_hook to get the documented behavior.\n",
      "  self._maybe_warn_non_full_backward_hook(args, result, grad_fn)\n",
      "Training Batches: 100%|██████████| 130/130 [00:07<00:00, 16.51it/s]\n",
      "Test Batches: 100%|██████████| 130/130 [00:02<00:00, 49.64it/s]\n",
      "Training Progress:  57%|█████▊    | 23/40 [03:57<02:55, 10.31s/it]"
     ]
    },
    {
     "name": "stdout",
     "output_type": "stream",
     "text": [
      "Epoch 22: No improvement. Patience counter: 20/40\n",
      "Learning Rate: 0.000000018496\n",
      "Epoch: 22, train_loss: 0.76860743, valid_loss: 0.75886607\n"
     ]
    },
    {
     "name": "stderr",
     "output_type": "stream",
     "text": [
      "/home/fazeleh/miniconda3/envs/leakpro_py311/lib/python3.11/site-packages/torch/nn/modules/module.py:1640: FutureWarning: Using a non-full backward hook when the forward contains multiple autograd Nodes is deprecated and will be removed in future versions. This hook will be missing some grad_input. Please use register_full_backward_hook to get the documented behavior.\n",
      "  self._maybe_warn_non_full_backward_hook(args, result, grad_fn)\n",
      "Training Batches: 100%|██████████| 130/130 [00:07<00:00, 16.76it/s]\n",
      "Test Batches: 100%|██████████| 130/130 [00:02<00:00, 49.95it/s]\n",
      "Training Progress:  60%|██████    | 24/40 [04:07<02:45, 10.33s/it]"
     ]
    },
    {
     "name": "stdout",
     "output_type": "stream",
     "text": [
      "Epoch 23: No improvement. Patience counter: 21/40\n",
      "Learning Rate: 0.000000003699\n",
      "Epoch: 23, train_loss: 0.77965448, valid_loss: 0.7588676\n"
     ]
    },
    {
     "name": "stderr",
     "output_type": "stream",
     "text": [
      "/home/fazeleh/miniconda3/envs/leakpro_py311/lib/python3.11/site-packages/torch/nn/modules/module.py:1640: FutureWarning: Using a non-full backward hook when the forward contains multiple autograd Nodes is deprecated and will be removed in future versions. This hook will be missing some grad_input. Please use register_full_backward_hook to get the documented behavior.\n",
      "  self._maybe_warn_non_full_backward_hook(args, result, grad_fn)\n",
      "Training Batches: 100%|██████████| 130/130 [00:07<00:00, 17.48it/s]\n",
      "Test Batches: 100%|██████████| 130/130 [00:02<00:00, 49.50it/s]\n",
      "Training Progress:  62%|██████▎   | 25/40 [04:17<02:33, 10.25s/it]"
     ]
    },
    {
     "name": "stdout",
     "output_type": "stream",
     "text": [
      "Epoch 24: No improvement. Patience counter: 22/40\n",
      "Learning Rate: 0.000000003699\n",
      "Epoch: 24, train_loss: 0.78305232, valid_loss: 0.75886766\n"
     ]
    },
    {
     "name": "stderr",
     "output_type": "stream",
     "text": [
      "/home/fazeleh/miniconda3/envs/leakpro_py311/lib/python3.11/site-packages/torch/nn/modules/module.py:1640: FutureWarning: Using a non-full backward hook when the forward contains multiple autograd Nodes is deprecated and will be removed in future versions. This hook will be missing some grad_input. Please use register_full_backward_hook to get the documented behavior.\n",
      "  self._maybe_warn_non_full_backward_hook(args, result, grad_fn)\n",
      "Training Batches: 100%|██████████| 130/130 [00:07<00:00, 17.29it/s]\n",
      "Test Batches: 100%|██████████| 130/130 [00:02<00:00, 49.65it/s]\n",
      "Training Progress:  65%|██████▌   | 26/40 [04:27<02:23, 10.22s/it]"
     ]
    },
    {
     "name": "stdout",
     "output_type": "stream",
     "text": [
      "Epoch 25: No improvement. Patience counter: 23/40\n",
      "Learning Rate: 0.000000003699\n",
      "Epoch: 25, train_loss: 0.7784175, valid_loss: 0.75886774\n"
     ]
    },
    {
     "name": "stderr",
     "output_type": "stream",
     "text": [
      "/home/fazeleh/miniconda3/envs/leakpro_py311/lib/python3.11/site-packages/torch/nn/modules/module.py:1640: FutureWarning: Using a non-full backward hook when the forward contains multiple autograd Nodes is deprecated and will be removed in future versions. This hook will be missing some grad_input. Please use register_full_backward_hook to get the documented behavior.\n",
      "  self._maybe_warn_non_full_backward_hook(args, result, grad_fn)\n",
      "Training Batches: 100%|██████████| 130/130 [00:07<00:00, 17.70it/s]\n",
      "Test Batches: 100%|██████████| 130/130 [00:02<00:00, 49.99it/s]\n",
      "Training Progress:  68%|██████▊   | 27/40 [04:37<02:11, 10.14s/it]"
     ]
    },
    {
     "name": "stdout",
     "output_type": "stream",
     "text": [
      "Epoch 26: No improvement. Patience counter: 24/40\n",
      "Learning Rate: 0.000000003699\n",
      "Epoch: 26, train_loss: 0.77390163, valid_loss: 0.75886784\n"
     ]
    },
    {
     "name": "stderr",
     "output_type": "stream",
     "text": [
      "/home/fazeleh/miniconda3/envs/leakpro_py311/lib/python3.11/site-packages/torch/nn/modules/module.py:1640: FutureWarning: Using a non-full backward hook when the forward contains multiple autograd Nodes is deprecated and will be removed in future versions. This hook will be missing some grad_input. Please use register_full_backward_hook to get the documented behavior.\n",
      "  self._maybe_warn_non_full_backward_hook(args, result, grad_fn)\n",
      "Training Batches: 100%|██████████| 130/130 [00:07<00:00, 17.70it/s]\n",
      "Test Batches: 100%|██████████| 130/130 [00:02<00:00, 49.91it/s]\n",
      "Training Progress:  70%|███████   | 28/40 [04:47<02:01, 10.09s/it]"
     ]
    },
    {
     "name": "stdout",
     "output_type": "stream",
     "text": [
      "Epoch 27: No improvement. Patience counter: 25/40\n",
      "Learning Rate: 0.000000003699\n",
      "Epoch: 27, train_loss: 0.77883858, valid_loss: 0.75886792\n"
     ]
    },
    {
     "name": "stderr",
     "output_type": "stream",
     "text": [
      "/home/fazeleh/miniconda3/envs/leakpro_py311/lib/python3.11/site-packages/torch/nn/modules/module.py:1640: FutureWarning: Using a non-full backward hook when the forward contains multiple autograd Nodes is deprecated and will be removed in future versions. This hook will be missing some grad_input. Please use register_full_backward_hook to get the documented behavior.\n",
      "  self._maybe_warn_non_full_backward_hook(args, result, grad_fn)\n",
      "Training Batches: 100%|██████████| 130/130 [00:07<00:00, 17.70it/s]\n",
      "Test Batches: 100%|██████████| 130/130 [00:02<00:00, 49.87it/s]\n",
      "Training Progress:  72%|███████▎  | 29/40 [04:57<01:50, 10.05s/it]"
     ]
    },
    {
     "name": "stdout",
     "output_type": "stream",
     "text": [
      "Epoch 28: No improvement. Patience counter: 26/40\n",
      "Learning Rate: 0.000000003699\n",
      "Epoch: 28, train_loss: 0.77093056, valid_loss: 0.75886803\n"
     ]
    },
    {
     "name": "stderr",
     "output_type": "stream",
     "text": [
      "/home/fazeleh/miniconda3/envs/leakpro_py311/lib/python3.11/site-packages/torch/nn/modules/module.py:1640: FutureWarning: Using a non-full backward hook when the forward contains multiple autograd Nodes is deprecated and will be removed in future versions. This hook will be missing some grad_input. Please use register_full_backward_hook to get the documented behavior.\n",
      "  self._maybe_warn_non_full_backward_hook(args, result, grad_fn)\n",
      "Training Batches: 100%|██████████| 130/130 [00:07<00:00, 17.69it/s]\n",
      "Test Batches: 100%|██████████| 130/130 [00:02<00:00, 49.90it/s]\n",
      "Training Progress:  75%|███████▌  | 30/40 [05:07<01:40, 10.02s/it]"
     ]
    },
    {
     "name": "stdout",
     "output_type": "stream",
     "text": [
      "Epoch 29: No improvement. Patience counter: 27/40\n",
      "Learning Rate: 0.000000003699\n",
      "Epoch: 29, train_loss: 0.76761183, valid_loss: 0.75886815\n"
     ]
    },
    {
     "name": "stderr",
     "output_type": "stream",
     "text": [
      "/home/fazeleh/miniconda3/envs/leakpro_py311/lib/python3.11/site-packages/torch/nn/modules/module.py:1640: FutureWarning: Using a non-full backward hook when the forward contains multiple autograd Nodes is deprecated and will be removed in future versions. This hook will be missing some grad_input. Please use register_full_backward_hook to get the documented behavior.\n",
      "  self._maybe_warn_non_full_backward_hook(args, result, grad_fn)\n",
      "Training Batches: 100%|██████████| 130/130 [00:07<00:00, 17.74it/s]\n",
      "Test Batches: 100%|██████████| 130/130 [00:02<00:00, 49.85it/s]\n",
      "Training Progress:  78%|███████▊  | 31/40 [05:17<01:29, 10.00s/it]"
     ]
    },
    {
     "name": "stdout",
     "output_type": "stream",
     "text": [
      "Epoch 30: No improvement. Patience counter: 28/40\n",
      "Learning Rate: 0.000000003699\n",
      "Epoch: 30, train_loss: 0.79176948, valid_loss: 0.75886826\n"
     ]
    },
    {
     "name": "stderr",
     "output_type": "stream",
     "text": [
      "/home/fazeleh/miniconda3/envs/leakpro_py311/lib/python3.11/site-packages/torch/nn/modules/module.py:1640: FutureWarning: Using a non-full backward hook when the forward contains multiple autograd Nodes is deprecated and will be removed in future versions. This hook will be missing some grad_input. Please use register_full_backward_hook to get the documented behavior.\n",
      "  self._maybe_warn_non_full_backward_hook(args, result, grad_fn)\n",
      "Training Batches: 100%|██████████| 130/130 [00:07<00:00, 17.71it/s]\n",
      "Test Batches: 100%|██████████| 130/130 [00:02<00:00, 49.93it/s]\n",
      "Training Progress:  80%|████████  | 32/40 [05:27<01:19,  9.98s/it]"
     ]
    },
    {
     "name": "stdout",
     "output_type": "stream",
     "text": [
      "Epoch 31: No improvement. Patience counter: 29/40\n",
      "Learning Rate: 0.000000003699\n",
      "Epoch: 31, train_loss: 0.7821053, valid_loss: 0.75886832\n"
     ]
    },
    {
     "name": "stderr",
     "output_type": "stream",
     "text": [
      "/home/fazeleh/miniconda3/envs/leakpro_py311/lib/python3.11/site-packages/torch/nn/modules/module.py:1640: FutureWarning: Using a non-full backward hook when the forward contains multiple autograd Nodes is deprecated and will be removed in future versions. This hook will be missing some grad_input. Please use register_full_backward_hook to get the documented behavior.\n",
      "  self._maybe_warn_non_full_backward_hook(args, result, grad_fn)\n",
      "Training Batches: 100%|██████████| 130/130 [00:07<00:00, 17.02it/s]\n",
      "Test Batches: 100%|██████████| 130/130 [00:02<00:00, 49.83it/s]\n",
      "Training Progress:  82%|████████▎ | 33/40 [05:37<01:10, 10.07s/it]"
     ]
    },
    {
     "name": "stdout",
     "output_type": "stream",
     "text": [
      "Epoch 32: No improvement. Patience counter: 30/40\n",
      "Learning Rate: 0.000000003699\n",
      "Epoch: 32, train_loss: 0.76786015, valid_loss: 0.75886843\n"
     ]
    },
    {
     "name": "stderr",
     "output_type": "stream",
     "text": [
      "/home/fazeleh/miniconda3/envs/leakpro_py311/lib/python3.11/site-packages/torch/nn/modules/module.py:1640: FutureWarning: Using a non-full backward hook when the forward contains multiple autograd Nodes is deprecated and will be removed in future versions. This hook will be missing some grad_input. Please use register_full_backward_hook to get the documented behavior.\n",
      "  self._maybe_warn_non_full_backward_hook(args, result, grad_fn)\n",
      "Training Batches: 100%|██████████| 130/130 [00:09<00:00, 14.30it/s]\n",
      "Test Batches: 100%|██████████| 130/130 [00:02<00:00, 46.88it/s]\n",
      "Training Progress:  85%|████████▌ | 34/40 [05:49<01:03, 10.61s/it]"
     ]
    },
    {
     "name": "stdout",
     "output_type": "stream",
     "text": [
      "Epoch 33: No improvement. Patience counter: 31/40\n",
      "Learning Rate: 0.000000003699\n",
      "Epoch: 33, train_loss: 0.79186044, valid_loss: 0.75886853\n"
     ]
    },
    {
     "name": "stderr",
     "output_type": "stream",
     "text": [
      "/home/fazeleh/miniconda3/envs/leakpro_py311/lib/python3.11/site-packages/torch/nn/modules/module.py:1640: FutureWarning: Using a non-full backward hook when the forward contains multiple autograd Nodes is deprecated and will be removed in future versions. This hook will be missing some grad_input. Please use register_full_backward_hook to get the documented behavior.\n",
      "  self._maybe_warn_non_full_backward_hook(args, result, grad_fn)\n",
      "Training Batches: 100%|██████████| 130/130 [00:08<00:00, 14.67it/s]\n",
      "Test Batches: 100%|██████████| 130/130 [00:02<00:00, 46.65it/s]\n",
      "Training Progress:  88%|████████▊ | 35/40 [06:01<00:54, 10.92s/it]"
     ]
    },
    {
     "name": "stdout",
     "output_type": "stream",
     "text": [
      "Epoch 34: No improvement. Patience counter: 32/40\n",
      "Learning Rate: 0.000000003699\n",
      "Epoch: 34, train_loss: 0.79216384, valid_loss: 0.7588686\n"
     ]
    },
    {
     "name": "stderr",
     "output_type": "stream",
     "text": [
      "/home/fazeleh/miniconda3/envs/leakpro_py311/lib/python3.11/site-packages/torch/nn/modules/module.py:1640: FutureWarning: Using a non-full backward hook when the forward contains multiple autograd Nodes is deprecated and will be removed in future versions. This hook will be missing some grad_input. Please use register_full_backward_hook to get the documented behavior.\n",
      "  self._maybe_warn_non_full_backward_hook(args, result, grad_fn)\n",
      "Training Batches: 100%|██████████| 130/130 [00:08<00:00, 14.69it/s]\n",
      "Test Batches: 100%|██████████| 130/130 [00:02<00:00, 45.88it/s]\n",
      "Training Progress:  90%|█████████ | 36/40 [06:13<00:44, 11.16s/it]"
     ]
    },
    {
     "name": "stdout",
     "output_type": "stream",
     "text": [
      "Epoch 35: No improvement. Patience counter: 33/40\n",
      "Learning Rate: 0.000000003699\n",
      "Epoch: 35, train_loss: 0.78572626, valid_loss: 0.75886868\n"
     ]
    },
    {
     "name": "stderr",
     "output_type": "stream",
     "text": [
      "/home/fazeleh/miniconda3/envs/leakpro_py311/lib/python3.11/site-packages/torch/nn/modules/module.py:1640: FutureWarning: Using a non-full backward hook when the forward contains multiple autograd Nodes is deprecated and will be removed in future versions. This hook will be missing some grad_input. Please use register_full_backward_hook to get the documented behavior.\n",
      "  self._maybe_warn_non_full_backward_hook(args, result, grad_fn)\n",
      "Training Batches: 100%|██████████| 130/130 [00:08<00:00, 14.69it/s]\n",
      "Test Batches: 100%|██████████| 130/130 [00:02<00:00, 46.74it/s]\n",
      "Training Progress:  92%|█████████▎| 37/40 [06:24<00:33, 11.30s/it]"
     ]
    },
    {
     "name": "stdout",
     "output_type": "stream",
     "text": [
      "Epoch 36: No improvement. Patience counter: 34/40\n",
      "Learning Rate: 0.000000003699\n",
      "Epoch: 36, train_loss: 0.7828928, valid_loss: 0.75886879\n"
     ]
    },
    {
     "name": "stderr",
     "output_type": "stream",
     "text": [
      "/home/fazeleh/miniconda3/envs/leakpro_py311/lib/python3.11/site-packages/torch/nn/modules/module.py:1640: FutureWarning: Using a non-full backward hook when the forward contains multiple autograd Nodes is deprecated and will be removed in future versions. This hook will be missing some grad_input. Please use register_full_backward_hook to get the documented behavior.\n",
      "  self._maybe_warn_non_full_backward_hook(args, result, grad_fn)\n",
      "Training Batches: 100%|██████████| 130/130 [00:08<00:00, 14.71it/s]\n",
      "Test Batches: 100%|██████████| 130/130 [00:02<00:00, 46.46it/s]\n",
      "Training Progress:  95%|█████████▌| 38/40 [06:36<00:22, 11.41s/it]"
     ]
    },
    {
     "name": "stdout",
     "output_type": "stream",
     "text": [
      "Epoch 37: No improvement. Patience counter: 35/40\n",
      "Learning Rate: 0.000000003699\n",
      "Epoch: 37, train_loss: 0.78249492, valid_loss: 0.75886888\n"
     ]
    },
    {
     "name": "stderr",
     "output_type": "stream",
     "text": [
      "/home/fazeleh/miniconda3/envs/leakpro_py311/lib/python3.11/site-packages/torch/nn/modules/module.py:1640: FutureWarning: Using a non-full backward hook when the forward contains multiple autograd Nodes is deprecated and will be removed in future versions. This hook will be missing some grad_input. Please use register_full_backward_hook to get the documented behavior.\n",
      "  self._maybe_warn_non_full_backward_hook(args, result, grad_fn)\n",
      "Training Batches: 100%|██████████| 130/130 [00:08<00:00, 14.77it/s]\n",
      "Test Batches: 100%|██████████| 130/130 [00:02<00:00, 46.92it/s]\n",
      "Training Progress:  98%|█████████▊| 39/40 [06:48<00:11, 11.46s/it]"
     ]
    },
    {
     "name": "stdout",
     "output_type": "stream",
     "text": [
      "Epoch 38: No improvement. Patience counter: 36/40\n",
      "Learning Rate: 0.000000003699\n",
      "Epoch: 38, train_loss: 0.78240547, valid_loss: 0.75886898\n"
     ]
    },
    {
     "name": "stderr",
     "output_type": "stream",
     "text": [
      "/home/fazeleh/miniconda3/envs/leakpro_py311/lib/python3.11/site-packages/torch/nn/modules/module.py:1640: FutureWarning: Using a non-full backward hook when the forward contains multiple autograd Nodes is deprecated and will be removed in future versions. This hook will be missing some grad_input. Please use register_full_backward_hook to get the documented behavior.\n",
      "  self._maybe_warn_non_full_backward_hook(args, result, grad_fn)\n"
     ]
    }
   ],
   "source": [
    "# import warnings\n",
    "# warnings.simplefilter(\"ignore\", category=FutureWarning)\n",
    "from utils.model_GRUD_dpsgd import *\n",
    "\n",
    "\n",
    "# Initialize the model with filtered parameters\n",
    "model = GRUD_DPSGD(**model_params)\n",
    "# Train the model\n",
    "results= dpsgd_gru_trained_model_and_metadata(\n",
    "                                            model,\n",
    "                                            train_loader,\n",
    "                                            early_stop_loader,\n",
    "                                            noise_multiplier_dict,\n",
    "                                            epochs=optimized_hyperparams[\"num_epochs\"],\n",
    "                                            patience_early_stopping = optimized_hyperparams[\"patience_early_stopping\"],\n",
    "                                            patience_lr= optimized_hyperparams[\"patience_lr_scheduler\"],\n",
    "                                            min_delta = optimized_hyperparams[\"min_delta\"],\n",
    "                                            learning_rate = optimized_hyperparams[\"learning_rate\"],\n",
    "                                            target_model_dir = target_model_dir,)\n",
    "train_losses, test_losses , train_acc, test_acc, best_model, privacy_engine  = results"
   ]
  },
  {
   "cell_type": "code",
   "execution_count": 9,
   "metadata": {},
   "outputs": [
    {
     "data": {
      "image/png": "[encoded data removed]",
      "text/plain": [
       "<Figure size 500x400 with 2 Axes>"
      ]
     },
     "metadata": {},
     "output_type": "display_data"
    }
   ],
   "source": [
    "import matplotlib.pyplot as plt\n",
    "\n",
    "# Convert losses to numpy-compatible lists directly\n",
    "train_losses_cpu = [float(loss) for loss in train_losses]\n",
    "test_losses_cpu = [float(loss) for loss in test_losses]\n",
    "\n",
    "# Plot training and test accuracy\n",
    "plt.figure(figsize=(5, 4))\n",
    "\n",
    "plt.subplot(1, 2, 1)\n",
    "plt.plot(train_acc, label=\"Train Accuracy\")\n",
    "plt.plot(test_acc, label=\"Test Accuracy\")\n",
    "plt.xlabel(\"Epoch\")\n",
    "plt.ylabel(\"Accuracy\")\n",
    "plt.title(\"Accuracy over Epochs\")\n",
    "plt.legend()\n",
    "\n",
    "# Plot training and test loss\n",
    "plt.subplot(1, 2, 2)\n",
    "plt.plot(train_losses, label=\"Train Loss\")\n",
    "plt.plot(test_losses, label=\"Test Loss\")\n",
    "plt.xlabel(\"Epoch\")\n",
    "plt.ylabel(\"Loss\")\n",
    "plt.title(\"Loss over Epochs\")\n",
    "plt.legend()\n",
    "\n",
    "plt.tight_layout()\n",
    "plt.show()"
   ]
  },
  {
   "cell_type": "code",
   "execution_count": 10,
   "metadata": {},
   "outputs": [
    {
     "name": "stderr",
     "output_type": "stream",
     "text": [
      "2025-03-03 17:50:57,568 INFO     Target model blueprint created from GRUD_DPSGD in utils/model_GRUD_dpsgd.py.\n",
      "03/03/2025 17:50:57:INFO:Target model blueprint created from GRUD_DPSGD in utils/model_GRUD_dpsgd.py.\n"
     ]
    },
    {
     "name": "stderr",
     "output_type": "stream",
     "text": [
      "2025-03-03 17:50:57,606 INFO     Loaded target model metadata from ./target_GRUD_dpsgd/model_metadata.pkl\n",
      "03/03/2025 17:50:57:INFO:Loaded target model metadata from ./target_GRUD_dpsgd/model_metadata.pkl\n",
      "/home/fazeleh/LeakPro/leakpro/input_handler/mia_handler.py:92: FutureWarning: You are using `torch.load` with `weights_only=False` (the current default value), which uses the default pickle module implicitly. It is possible to construct malicious pickle data which will execute arbitrary code during unpickling (See https://github.com/pytorch/pytorch/blob/main/SECURITY.md#untrusted-models for more details). In a future release, the default value for `weights_only` will be flipped to `True`. This limits the functions that could be executed during unpickling. Arbitrary objects will no longer be allowed to be loaded via this mode unless they are explicitly allowlisted by the user via `torch.serialization.add_safe_globals`. We recommend you start setting `weights_only=True` for any use case where you don't have full control of the loaded file. Please open an issue on GitHub for any issues related to this experimental feature.\n",
      "  self.target_model.load_state_dict(torch.load(f))\n",
      "2025-03-03 17:50:57,613 INFO     Loaded target model from ./target_GRUD_dpsgd\n",
      "03/03/2025 17:50:57:INFO:Loaded target model from ./target_GRUD_dpsgd\n",
      "2025-03-03 17:50:58,329 INFO     Loaded population dataset from ./data/GRUD_data/dataset.pkl\n",
      "03/03/2025 17:50:58:INFO:Loaded population dataset from ./data/GRUD_data/dataset.pkl\n",
      "2025-03-03 17:50:58,331 INFO     Loaded population dataset from ./data/GRUD_data/dataset.pkl\n",
      "03/03/2025 17:50:58:INFO:Loaded population dataset from ./data/GRUD_data/dataset.pkl\n",
      "2025-03-03 17:50:58,332 INFO     Image extension initialized.\n",
      "03/03/2025 17:50:58:INFO:Image extension initialized.\n",
      "2025-03-03 17:50:58,340 WARNING  No one-hot encoding information found in the population object.\n",
      "03/03/2025 17:50:58:WARNING:No one-hot encoding information found in the population object.\n",
      "2025-03-03 17:51:03,899 INFO     MIA attack factory loaded.\n",
      "03/03/2025 17:51:03:INFO:MIA attack factory loaded.\n",
      "2025-03-03 17:51:03,900 INFO     Creating shadow model handler singleton\n",
      "03/03/2025 17:51:03:INFO:Creating shadow model handler singleton\n",
      "2025-03-03 17:51:03,904 INFO     Creating distillation model handler singleton\n",
      "03/03/2025 17:51:03:INFO:Creating distillation model handler singleton\n",
      "2025-03-03 17:51:03,906 INFO     Configuring the RMIA attack\n",
      "03/03/2025 17:51:03:INFO:Configuring the RMIA attack\n",
      "2025-03-03 17:51:03,909 INFO     User provided value for gamma, it won't be optimized by optuna.\n",
      "03/03/2025 17:51:03:INFO:User provided value for gamma, it won't be optimized by optuna.\n",
      "2025-03-03 17:51:03,909 INFO     User provided value for offline_a, it won't be optimized by optuna.\n",
      "03/03/2025 17:51:03:INFO:User provided value for offline_a, it won't be optimized by optuna.\n",
      "2025-03-03 17:51:03,910 INFO     Added attack: rmia\n",
      "03/03/2025 17:51:03:INFO:Added attack: rmia\n",
      "2025-03-03 17:51:03,911 INFO     Preparing attack: rmia\n",
      "03/03/2025 17:51:03:INFO:Preparing attack: rmia\n",
      "2025-03-03 17:51:03,912 INFO     Preparing shadow models for RMIA attack\n",
      "03/03/2025 17:51:03:INFO:Preparing shadow models for RMIA attack\n",
      "2025-03-03 17:51:03,914 INFO     Check for 2 shadow models (dataset: 23944 points)\n",
      "03/03/2025 17:51:03:INFO:Check for 2 shadow models (dataset: 23944 points)\n",
      "2025-03-03 17:51:04,045 INFO     Training shadow model 4 on 11988 points\n",
      "03/03/2025 17:51:04:INFO:Training shadow model 4 on 11988 points\n",
      "/home/fazeleh/miniconda3/envs/leakpro_py311/lib/python3.11/site-packages/opacus/accountants/analysis/rdp.py:332: UserWarning: Optimal order is the largest alpha. Please consider expanding the range of alphas to get a tighter privacy bound.\n",
      "  warnings.warn(\n"
     ]
    },
    {
     "name": "stdout",
     "output_type": "stream",
     "text": [
      "Training shadow models with DP-SGD\n",
      "Pickle file loaded successfully!\n",
      "Data: {'target_epsilon': 3.5, 'target_delta': 1e-05, 'sample_rate': 0.007692307692307693, 'epochs': 21, 'epsilon_tolerance': 0.01, 'accountant': 'prv', 'eps_error': 0.01, 'max_grad_norm': 1}\n"
     ]
    },
    {
     "name": "stderr",
     "output_type": "stream",
     "text": [
      "/home/fazeleh/miniconda3/envs/leakpro_py311/lib/python3.11/site-packages/opacus/privacy_engine.py:95: UserWarning: Secure RNG turned off. This is perfectly fine for experimentation as it allows for much faster training performance, but remember to turn it on and retrain one last time before production with ``secure_mode`` turned on.\n",
      "  warnings.warn(\n",
      "Training Progress:   0%|          | 0/2 [00:00<?, ?it/s]/home/fazeleh/miniconda3/envs/leakpro_py311/lib/python3.11/site-packages/torch/nn/modules/module.py:1640: FutureWarning: Using a non-full backward hook when the forward contains multiple autograd Nodes is deprecated and will be removed in future versions. This hook will be missing some grad_input. Please use register_full_backward_hook to get the documented behavior.\n",
      "  self._maybe_warn_non_full_backward_hook(args, result, grad_fn)\n",
      "Training Batches: 100%|██████████| 162/162 [00:10<00:00, 15.59it/s]\n",
      "Training Progress:  50%|█████     | 1/2 [00:10<00:10, 10.40s/it]/home/fazeleh/miniconda3/envs/leakpro_py311/lib/python3.11/site-packages/torch/nn/modules/module.py:1640: FutureWarning: Using a non-full backward hook when the forward contains multiple autograd Nodes is deprecated and will be removed in future versions. This hook will be missing some grad_input. Please use register_full_backward_hook to get the documented behavior.\n",
      "  self._maybe_warn_non_full_backward_hook(args, result, grad_fn)\n",
      "Training Batches: 100%|██████████| 162/162 [00:10<00:00, 15.78it/s]\n",
      "Training Progress: 100%|██████████| 2/2 [00:20<00:00, 10.34s/it]\n",
      "2025-03-03 17:51:30,718 INFO     Training shadow model 4 complete\n",
      "03/03/2025 17:51:30:INFO:Training shadow model 4 complete\n",
      "2025-03-03 17:51:30,722 INFO     Saved shadow model 4 to ./leakpro_output/attack_objects/shadow_model\n",
      "03/03/2025 17:51:30:INFO:Saved shadow model 4 to ./leakpro_output/attack_objects/shadow_model\n",
      "2025-03-03 17:51:30,724 INFO     Storing metadata for shadow model 4\n",
      "03/03/2025 17:51:30:INFO:Storing metadata for shadow model 4\n",
      "2025-03-03 17:51:46,137 INFO     Metadata for shadow model 4:\n",
      "{'init_params': {'input_size': 104, 'hidden_size': 27, 'X_mean': tensor([[[0., 0., 0.,  ..., 0., 0., 0.],\n",
      "         [0., 0., 0.,  ..., 0., 0., 0.],\n",
      "         [0., 0., 0.,  ..., 0., 0., 0.],\n",
      "         ...,\n",
      "         [0., 0., 0.,  ..., 0., 0., 0.],\n",
      "         [0., 0., 0.,  ..., 0., 0., 0.],\n",
      "         [0., 0., 0.,  ..., 0., 0., 0.]]]), 'batch_size': 74, 'output_last': False, 'bn_flag': False}, 'train_indices': array([ 8953,  8101,  5067, ...,  2554, 22372, 18853]), 'num_train': 11972, 'optimizer': 'Adam', 'criterion': 'BCEWithLogitsLoss', 'batch_size': 74, 'epochs': 2, 'train_acc': 0.691358024691358, 'train_loss': 0.9274958887217958, 'test_acc': 0.6611259605746742, 'test_loss': 0.9107105380591051, 'online': True, 'model_class': 'GRUD_DPSGD', 'target_model_hash': '59bcb0d3d67df728179bfcd56665a2be33b5796a0baa07f38f84a5eeb16ae3a6'}\n",
      "03/03/2025 17:51:46:INFO:Metadata for shadow model 4:\n",
      "{'init_params': {'input_size': 104, 'hidden_size': 27, 'X_mean': tensor([[[0., 0., 0.,  ..., 0., 0., 0.],\n",
      "         [0., 0., 0.,  ..., 0., 0., 0.],\n",
      "         [0., 0., 0.,  ..., 0., 0., 0.],\n",
      "         ...,\n",
      "         [0., 0., 0.,  ..., 0., 0., 0.],\n",
      "         [0., 0., 0.,  ..., 0., 0., 0.],\n",
      "         [0., 0., 0.,  ..., 0., 0., 0.]]]), 'batch_size': 74, 'output_last': False, 'bn_flag': False}, 'train_indices': array([ 8953,  8101,  5067, ...,  2554, 22372, 18853]), 'num_train': 11972, 'optimizer': 'Adam', 'criterion': 'BCEWithLogitsLoss', 'batch_size': 74, 'epochs': 2, 'train_acc': 0.691358024691358, 'train_loss': 0.9274958887217958, 'test_acc': 0.6611259605746742, 'test_loss': 0.9107105380591051, 'online': True, 'model_class': 'GRUD_DPSGD', 'target_model_hash': '59bcb0d3d67df728179bfcd56665a2be33b5796a0baa07f38f84a5eeb16ae3a6'}\n",
      "2025-03-03 17:53:53,021 INFO     Metadata for shadow model 4:\n",
      "{'init_params': {'input_size': 104, 'hidden_size': 27, 'X_mean': tensor([[[0., 0., 0.,  ..., 0., 0., 0.],\n",
      "         [0., 0., 0.,  ..., 0., 0., 0.],\n",
      "         [0., 0., 0.,  ..., 0., 0., 0.],\n",
      "         ...,\n",
      "         [0., 0., 0.,  ..., 0., 0., 0.],\n",
      "         [0., 0., 0.,  ..., 0., 0., 0.],\n",
      "         [0., 0., 0.,  ..., 0., 0., 0.]]]), 'batch_size': 74, 'output_last': False, 'bn_flag': False}, 'train_indices': array([ 8953,  8101,  5067, ...,  2554, 22372, 18853]), 'num_train': 11972, 'optimizer': 'Adam', 'criterion': 'BCEWithLogitsLoss', 'batch_size': 74, 'epochs': 2, 'train_acc': 0.691358024691358, 'train_loss': 0.9274958887217958, 'test_acc': 0.6611259605746742, 'test_loss': 0.9107105380591051, 'online': True, 'model_class': 'GRUD_DPSGD', 'target_model_hash': '59bcb0d3d67df728179bfcd56665a2be33b5796a0baa07f38f84a5eeb16ae3a6'}\n",
      "03/03/2025 17:53:53:INFO:Metadata for shadow model 4:\n",
      "{'init_params': {'input_size': 104, 'hidden_size': 27, 'X_mean': tensor([[[0., 0., 0.,  ..., 0., 0., 0.],\n",
      "         [0., 0., 0.,  ..., 0., 0., 0.],\n",
      "         [0., 0., 0.,  ..., 0., 0., 0.],\n",
      "         ...,\n",
      "         [0., 0., 0.,  ..., 0., 0., 0.],\n",
      "         [0., 0., 0.,  ..., 0., 0., 0.],\n",
      "         [0., 0., 0.,  ..., 0., 0., 0.]]]), 'batch_size': 74, 'output_last': False, 'bn_flag': False}, 'train_indices': array([ 8953,  8101,  5067, ...,  2554, 22372, 18853]), 'num_train': 11972, 'optimizer': 'Adam', 'criterion': 'BCEWithLogitsLoss', 'batch_size': 74, 'epochs': 2, 'train_acc': 0.691358024691358, 'train_loss': 0.9274958887217958, 'test_acc': 0.6611259605746742, 'test_loss': 0.9107105380591051, 'online': True, 'model_class': 'GRUD_DPSGD', 'target_model_hash': '59bcb0d3d67df728179bfcd56665a2be33b5796a0baa07f38f84a5eeb16ae3a6'}\n",
      "2025-03-03 17:54:16,636 INFO     Metadata for shadow model 4 stored in ./leakpro_output/attack_objects/shadow_model\n",
      "03/03/2025 17:54:16:INFO:Metadata for shadow model 4 stored in ./leakpro_output/attack_objects/shadow_model\n",
      "2025-03-03 17:54:19,792 INFO     Training shadow model 5 on 11988 points\n",
      "03/03/2025 17:54:19:INFO:Training shadow model 5 on 11988 points\n",
      "/home/fazeleh/miniconda3/envs/leakpro_py311/lib/python3.11/site-packages/opacus/accountants/analysis/rdp.py:332: UserWarning: Optimal order is the largest alpha. Please consider expanding the range of alphas to get a tighter privacy bound.\n",
      "  warnings.warn(\n"
     ]
    },
    {
     "name": "stdout",
     "output_type": "stream",
     "text": [
      "Training shadow models with DP-SGD\n",
      "Pickle file loaded successfully!\n",
      "Data: {'target_epsilon': 3.5, 'target_delta': 1e-05, 'sample_rate': 0.007692307692307693, 'epochs': 21, 'epsilon_tolerance': 0.01, 'accountant': 'prv', 'eps_error': 0.01, 'max_grad_norm': 1}\n"
     ]
    },
    {
     "name": "stderr",
     "output_type": "stream",
     "text": [
      "/home/fazeleh/miniconda3/envs/leakpro_py311/lib/python3.11/site-packages/opacus/privacy_engine.py:95: UserWarning: Secure RNG turned off. This is perfectly fine for experimentation as it allows for much faster training performance, but remember to turn it on and retrain one last time before production with ``secure_mode`` turned on.\n",
      "  warnings.warn(\n",
      "Training Progress:   0%|          | 0/2 [00:00<?, ?it/s]/home/fazeleh/miniconda3/envs/leakpro_py311/lib/python3.11/site-packages/torch/nn/modules/module.py:1640: FutureWarning: Using a non-full backward hook when the forward contains multiple autograd Nodes is deprecated and will be removed in future versions. This hook will be missing some grad_input. Please use register_full_backward_hook to get the documented behavior.\n",
      "  self._maybe_warn_non_full_backward_hook(args, result, grad_fn)\n",
      "Training Batches: 100%|██████████| 162/162 [00:10<00:00, 15.20it/s]\n",
      "Training Progress:  50%|█████     | 1/2 [00:10<00:10, 10.66s/it]/home/fazeleh/miniconda3/envs/leakpro_py311/lib/python3.11/site-packages/torch/nn/modules/module.py:1640: FutureWarning: Using a non-full backward hook when the forward contains multiple autograd Nodes is deprecated and will be removed in future versions. This hook will be missing some grad_input. Please use register_full_backward_hook to get the documented behavior.\n",
      "  self._maybe_warn_non_full_backward_hook(args, result, grad_fn)\n",
      "Training Batches: 100%|██████████| 162/162 [00:09<00:00, 16.44it/s]\n",
      "Training Progress: 100%|██████████| 2/2 [00:20<00:00, 10.26s/it]\n",
      "2025-03-03 17:54:45,790 INFO     Training shadow model 5 complete\n",
      "03/03/2025 17:54:45:INFO:Training shadow model 5 complete\n",
      "2025-03-03 17:54:45,795 INFO     Saved shadow model 5 to ./leakpro_output/attack_objects/shadow_model\n",
      "03/03/2025 17:54:45:INFO:Saved shadow model 5 to ./leakpro_output/attack_objects/shadow_model\n",
      "2025-03-03 17:54:45,797 INFO     Storing metadata for shadow model 5\n",
      "03/03/2025 17:54:45:INFO:Storing metadata for shadow model 5\n",
      "2025-03-03 17:54:51,592 INFO     Metadata for shadow model 5:\n",
      "{'init_params': {'input_size': 104, 'hidden_size': 27, 'X_mean': tensor([[[0., 0., 0.,  ..., 0., 0., 0.],\n",
      "         [0., 0., 0.,  ..., 0., 0., 0.],\n",
      "         [0., 0., 0.,  ..., 0., 0., 0.],\n",
      "         ...,\n",
      "         [0., 0., 0.,  ..., 0., 0., 0.],\n",
      "         [0., 0., 0.,  ..., 0., 0., 0.],\n",
      "         [0., 0., 0.,  ..., 0., 0., 0.]]]), 'batch_size': 74, 'output_last': False, 'bn_flag': False}, 'train_indices': array([11299,  7664, 21077, ...,  3800, 15661,  5417]), 'num_train': 11972, 'optimizer': 'Adam', 'criterion': 'BCEWithLogitsLoss', 'batch_size': 74, 'epochs': 2, 'train_acc': 0.6447368421052632, 'train_loss': 0.9194841539418256, 'test_acc': 0.6666388239224857, 'test_loss': 0.8591839325280837, 'online': True, 'model_class': 'GRUD_DPSGD', 'target_model_hash': '59bcb0d3d67df728179bfcd56665a2be33b5796a0baa07f38f84a5eeb16ae3a6'}\n",
      "03/03/2025 17:54:51:INFO:Metadata for shadow model 5:\n",
      "{'init_params': {'input_size': 104, 'hidden_size': 27, 'X_mean': tensor([[[0., 0., 0.,  ..., 0., 0., 0.],\n",
      "         [0., 0., 0.,  ..., 0., 0., 0.],\n",
      "         [0., 0., 0.,  ..., 0., 0., 0.],\n",
      "         ...,\n",
      "         [0., 0., 0.,  ..., 0., 0., 0.],\n",
      "         [0., 0., 0.,  ..., 0., 0., 0.],\n",
      "         [0., 0., 0.,  ..., 0., 0., 0.]]]), 'batch_size': 74, 'output_last': False, 'bn_flag': False}, 'train_indices': array([11299,  7664, 21077, ...,  3800, 15661,  5417]), 'num_train': 11972, 'optimizer': 'Adam', 'criterion': 'BCEWithLogitsLoss', 'batch_size': 74, 'epochs': 2, 'train_acc': 0.6447368421052632, 'train_loss': 0.9194841539418256, 'test_acc': 0.6666388239224857, 'test_loss': 0.8591839325280837, 'online': True, 'model_class': 'GRUD_DPSGD', 'target_model_hash': '59bcb0d3d67df728179bfcd56665a2be33b5796a0baa07f38f84a5eeb16ae3a6'}\n",
      "2025-03-03 17:54:51,601 INFO     Metadata for shadow model 5 stored in ./leakpro_output/attack_objects/shadow_model\n",
      "03/03/2025 17:54:51:INFO:Metadata for shadow model 5 stored in ./leakpro_output/attack_objects/shadow_model\n",
      "2025-03-03 17:54:51,602 INFO     Loading shadow model 4\n",
      "03/03/2025 17:54:51:INFO:Loading shadow model 4\n",
      "/home/fazeleh/LeakPro/leakpro/attacks/utils/model_handler.py:167: FutureWarning: You are using `torch.load` with `weights_only=False` (the current default value), which uses the default pickle module implicitly. It is possible to construct malicious pickle data which will execute arbitrary code during unpickling (See https://github.com/pytorch/pytorch/blob/main/SECURITY.md#untrusted-models for more details). In a future release, the default value for `weights_only` will be flipped to `True`. This limits the functions that could be executed during unpickling. Arbitrary objects will no longer be allowed to be loaded via this mode unless they are explicitly allowlisted by the user via `torch.serialization.add_safe_globals`. We recommend you start setting `weights_only=True` for any use case where you don't have full control of the loaded file. Please open an issue on GitHub for any issues related to this experimental feature.\n",
      "  model.load_state_dict(load(f))\n",
      "2025-03-03 17:54:51,608 INFO     Loaded model from ./leakpro_output/attack_objects/shadow_model/shadow_model_4.pkl\n",
      "03/03/2025 17:54:51:INFO:Loaded model from ./leakpro_output/attack_objects/shadow_model/shadow_model_4.pkl\n",
      "2025-03-03 17:54:51,609 INFO     Loading shadow model 5\n",
      "03/03/2025 17:54:51:INFO:Loading shadow model 5\n",
      "2025-03-03 17:54:51,614 INFO     Loaded model from ./leakpro_output/attack_objects/shadow_model/shadow_model_5.pkl\n",
      "03/03/2025 17:54:51:INFO:Loaded model from ./leakpro_output/attack_objects/shadow_model/shadow_model_5.pkl\n",
      "2025-03-03 17:54:51,616 INFO     Running attack: rmia\n",
      "03/03/2025 17:54:51:INFO:Running attack: rmia\n",
      "2025-03-03 17:54:51,617 INFO     Running RMIA online attack\n",
      "03/03/2025 17:54:51:INFO:Running RMIA online attack\n",
      "2025-03-03 17:54:51,618 INFO     Loading metadata 4\n",
      "03/03/2025 17:54:51:INFO:Loading metadata 4\n",
      "2025-03-03 17:54:51,677 INFO     Loading metadata 5\n",
      "03/03/2025 17:54:51:INFO:Loading metadata 5\n",
      "2025-03-03 17:54:51,991 INFO     Number of points in the audit dataset that are used for online attack: 9428\n",
      "03/03/2025 17:54:51:INFO:Number of points in the audit dataset that are used for online attack: 9428\n",
      "2025-03-03 17:55:07,621 INFO     Subsampling attack data from 4790 points       \n",
      "03/03/2025 17:55:07:INFO:Subsampling attack data from 4790 points\n",
      "2025-03-03 17:55:07,622 INFO     Number of attack data points after subsampling: 2395\n",
      "03/03/2025 17:55:07:INFO:Number of attack data points after subsampling: 2395\n",
      "2025-03-03 17:55:12,093 INFO     Finished attack: rmia                        \n",
      "03/03/2025 17:55:12:INFO:Finished attack: rmia\n",
      "2025-03-03 17:55:12,095 INFO     Preparing results for attack: rmia\n",
      "03/03/2025 17:55:12:INFO:Preparing results for attack: rmia\n",
      "2025-03-03 17:55:12,096 INFO     Auditing completed\n",
      "03/03/2025 17:55:12:INFO:Auditing completed\n"
     ]
    }
   ],
   "source": [
    "# from mimic_GRUD_handler import MimicInputHandlerGRU\n",
    "from mimic_GRUD_dpsgd_handler import MimicInputHandlerGRUdpsgd\n",
    "\n",
    "from leakpro import LeakPro\n",
    "\n",
    "# Read the config file\n",
    "config_path = \"audit.yaml\"\n",
    "\n",
    "# Prepare leakpro object\n",
    "leakpro = LeakPro(MimicInputHandlerGRUdpsgd, config_path)\n",
    "\n",
    "# Run the audit\n",
    "mia_results = leakpro.run_audit(return_results=True)"
   ]
  },
  {
   "cell_type": "code",
   "execution_count": 11,
   "metadata": {},
   "outputs": [
    {
     "name": "stderr",
     "output_type": "stream",
     "text": [
      "03/03/2025 15:01:17:INFO:Initializing report handler...\n",
      "03/03/2025 15:01:17:INFO:report_dir set to: ./leakpro_output/results\n",
      "03/03/2025 15:01:17:INFO:Saving results for rmia\n",
      "03/03/2025 15:01:28:INFO:No results of type GIAResults found.\n",
      "03/03/2025 15:01:28:INFO:No results of type SinglingOutResults found.\n",
      "03/03/2025 15:01:28:INFO:No results of type InferenceResults found.\n",
      "03/03/2025 15:01:28:INFO:No results of type LinkabilityResults found.\n",
      "03/03/2025 15:01:33:INFO:PDF compiled\n"
     ]
    },
    {
     "data": {
      "text/plain": [
       "<Figure size 640x480 with 0 Axes>"
      ]
     },
     "metadata": {},
     "output_type": "display_data"
    }
   ],
   "source": [
    "# Import and initialize ReportHandler\n",
    "from leakpro.reporting.report_handler import ReportHandler\n",
    "\n",
    "# report_handler = ReportHandler()\n",
    "report_handler = ReportHandler(report_dir=\"./leakpro_output/results\")\n",
    "\n",
    "# Save MIA resuls using report handler\n",
    "for res in mia_results:\n",
    "    report_handler.save_results(attack_name=res.attack_name, result_data=res, config=res.configs)\n",
    "\n",
    "# Create the report by compiling the latex text\n",
    "report_handler.create_report()"
   ]
  },
  {
   "cell_type": "code",
   "execution_count": null,
   "metadata": {},
   "outputs": [],
   "source": []
  }
 ],
 "metadata": {
  "kernelspec": {
   "display_name": "leakpro_py311",
   "language": "python",
   "name": "python3"
  },
  "language_info": {
   "codemirror_mode": {
    "name": "ipython",
    "version": 3
   },
   "file_extension": ".py",
   "mimetype": "text/x-python",
   "name": "python",
   "nbconvert_exporter": "python",
   "pygments_lexer": "ipython3",
   "version": "3.11.11"
  }
 },
 "nbformat": 4,
 "nbformat_minor": 2
}
