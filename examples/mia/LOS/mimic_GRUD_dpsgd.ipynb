{
 "cells": [
  {
   "cell_type": "markdown",
   "metadata": {},
   "source": [
    "# MIA attacks on Length-of-Stay predictor, Gated Recurrent Unit with Decay (GRU-D), with DPSGD\n",
    "## Installation of Packages in Conda\n",
    "\n",
    "To install the required packages in your conda environment, you can use the following commands:\n",
    "\n",
    "```bash\n",
    "conda install h5py\n",
    "conda install pytables\n",
    "conda install -c conda-forge opacus"
   ]
  },
  {
   "cell_type": "code",
   "execution_count": 1,
   "metadata": {},
   "outputs": [
    {
     "name": "stderr",
     "output_type": "stream",
     "text": [
      "/home/fazeleh/miniconda3/envs/leakpro_py311/lib/python3.11/site-packages/tqdm/auto.py:21: TqdmWarning: IProgress not found. Please update jupyter and ipywidgets. See https://ipywidgets.readthedocs.io/en/stable/user_install.html\n",
      "  from .autonotebook import tqdm as notebook_tqdm\n",
      "/home/fazeleh/miniconda3/envs/leakpro_py311/lib/python3.11/site-packages/torchvision/io/image.py:13: UserWarning: Failed to load image Python extension: '/home/fazeleh/miniconda3/envs/leakpro_py311/lib/python3.11/site-packages/torchvision/image.so: undefined symbol: _ZN3c1017RegisterOperatorsD1Ev'If you don't plan on using image functionality from `torchvision.io`, you can ignore this warning. Otherwise, there might be something wrong with your environment. Did you have `libjpeg` or `libpng` installed before building `torchvision` from source?\n",
      "  warn(\n"
     ]
    }
   ],
   "source": [
    "import os\n",
    "import sys\n",
    "\n",
    "from torch import zeros\n",
    "\n",
    "project_root = os.path.abspath(os.path.join(os.getcwd(), \"../../..\"))\n",
    "sys.path.append(project_root)\n",
    "\n",
    "from utils.data_processing import get_mimic_dataloaders, get_mimic_dataset"
   ]
  },
  {
   "cell_type": "code",
   "execution_count": 2,
   "metadata": {},
   "outputs": [
    {
     "name": "stdout",
     "output_type": "stream",
     "text": [
      "Loading dataset...\n",
      "Loaded dataset from /home/fazeleh/LeakPro/examples/mia/LOS/data/GRUD_data/dataset.pkl\n"
     ]
    }
   ],
   "source": [
    "# Generate the dataset and dataloaders\n",
    "path = os.path.join(os.getcwd(), \"data/\")\n",
    "\n",
    "train_frac = 0.4\n",
    "valid_frac = 0.0\n",
    "test_frac = 0.0\n",
    "early_stop_frac = 0.4\n",
    "batch_size = 74\n",
    "use_LR = False # True if you want to use the LR model, False if you want to use the GRUD model\n",
    "\n",
    "dataset, train_indices, validation_indices, test_indices, early_stop_indices= get_mimic_dataset(path,\n",
    "                                                                            train_frac ,\n",
    "                                                                            valid_frac,\n",
    "                                                                            test_frac,\n",
    "                                                                            early_stop_frac,\n",
    "                                                                            use_LR)"
   ]
  },
  {
   "cell_type": "code",
   "execution_count": 3,
   "metadata": {},
   "outputs": [],
   "source": [
    "train_loader, validation_loader, test_loader, early_stop_loader = get_mimic_dataloaders(dataset,\n",
    "                                                            train_indices,\n",
    "                                                            validation_indices,\n",
    "                                                            test_indices,\n",
    "                                                            early_stop_indices,\n",
    "                                                            batch_size)"
   ]
  },
  {
   "cell_type": "code",
   "execution_count": 4,
   "metadata": {},
   "outputs": [],
   "source": [
    "target_model_dir = \"./target_GRUD_dpsgd\"\n",
    "epsilons = [.0001, .001, .01, .1, .5, 1, 2, 3.5, 5, 7, 10] # epsilons to run over\n",
    "delta = 1e-5\n",
    "target_epsilon = 3.5\n",
    "sample_rate = 1/len(train_loader) # already incorporates batchsize"
   ]
  },
  {
   "cell_type": "code",
   "execution_count": 5,
   "metadata": {},
   "outputs": [],
   "source": [
    "noise_multiplier_dict = {\n",
    "    \"target_epsilon\": target_epsilon,\n",
    "    \"target_delta\": delta,\n",
    "    \"sample_rate\": sample_rate,\n",
    "    \"epochs\": 21,\n",
    "    \"epsilon_tolerance\": 0.01,\n",
    "    \"accountant\": \"prv\",\n",
    "    \"eps_error\": 0.01,\n",
    "    \"max_grad_norm\": 1,\n",
    "}\n"
   ]
  },
  {
   "cell_type": "code",
   "execution_count": 6,
   "metadata": {},
   "outputs": [],
   "source": [
    "optimized_hyperparams ={\n",
    "    \"hidden_size\": 27,\n",
    "    \"learning_rate\": 0.000289,\n",
    "    \"num_epochs\":2,\n",
    "    \"patience_early_stopping\": 40,\n",
    "    \"patience_lr_scheduler\": 2,\n",
    "    \"batch_size\": 74,\n",
    "    \"seed\": 6286,\n",
    "    \"min_delta\": 0.00001,\n",
    "    }\n",
    "\n",
    "n_features = int(dataset.x.shape[1]/3)\n",
    "X_mean = zeros(1,dataset.x.shape[2],n_features)\n",
    "\n",
    "# Add other required parameters to model_params\n",
    "model_params = {\n",
    "    \"hidden_size\": optimized_hyperparams[\"hidden_size\"],\n",
    "    \"batch_size\": optimized_hyperparams[\"batch_size\"],\n",
    "    \"input_size\": n_features,\n",
    "    \"X_mean\": X_mean,\n",
    "    \"output_last\": False,\n",
    "    \"bn_flag\": False,\n",
    "}"
   ]
  },
  {
   "cell_type": "code",
   "execution_count": 7,
   "metadata": {},
   "outputs": [
    {
     "name": "stdout",
     "output_type": "stream",
     "text": [
      "Model Structure:  GRUD_DPSGD(\n",
      "  (zl): Linear(in_features=235, out_features=27, bias=True)\n",
      "  (rl): Linear(in_features=235, out_features=27, bias=True)\n",
      "  (hl): Linear(in_features=235, out_features=27, bias=True)\n",
      "  (gamma_x_l): FilterLinear(in_features=104, out_features=104, bias=True)\n",
      "  (gamma_h_l): Linear(in_features=104, out_features=27, bias=True)\n",
      "  (fc): Linear(in_features=27, out_features=1, bias=True)\n",
      "  (drop): Dropout(p=0.57, inplace=False)\n",
      ")\n",
      "Start Training ... \n",
      "Output type dermined by the model\n"
     ]
    },
    {
     "name": "stderr",
     "output_type": "stream",
     "text": [
      "/home/fazeleh/miniconda3/envs/leakpro_py311/lib/python3.11/site-packages/opacus/accountants/analysis/rdp.py:332: UserWarning: Optimal order is the largest alpha. Please consider expanding the range of alphas to get a tighter privacy bound.\n",
      "  warnings.warn(\n",
      "/home/fazeleh/miniconda3/envs/leakpro_py311/lib/python3.11/site-packages/opacus/privacy_engine.py:95: UserWarning: Secure RNG turned off. This is perfectly fine for experimentation as it allows for much faster training performance, but remember to turn it on and retrain one last time before production with ``secure_mode`` turned on.\n",
      "  warnings.warn(\n",
      "Training Progress:   0%|          | 0/2 [00:00<?, ?it/s]/home/fazeleh/miniconda3/envs/leakpro_py311/lib/python3.11/site-packages/torch/nn/modules/module.py:1640: FutureWarning: Using a non-full backward hook when the forward contains multiple autograd Nodes is deprecated and will be removed in future versions. This hook will be missing some grad_input. Please use register_full_backward_hook to get the documented behavior.\n",
      "  self._maybe_warn_non_full_backward_hook(args, result, grad_fn)\n",
      "Training Batches: 100%|██████████| 130/130 [00:08<00:00, 15.01it/s]\n",
      "Test Batches: 100%|██████████| 130/130 [00:02<00:00, 54.12it/s]\n",
      "Training Progress:  50%|█████     | 1/2 [00:11<00:11, 11.07s/it]"
     ]
    },
    {
     "name": "stdout",
     "output_type": "stream",
     "text": [
      "Epoch 0: Validation loss improved to 0.6620\n",
      "Learning Rate: 0.000289000000\n",
      "Epoch: 0, train_loss: 0.68064388, valid_loss: 0.66196918\n"
     ]
    },
    {
     "name": "stderr",
     "output_type": "stream",
     "text": [
      "/home/fazeleh/miniconda3/envs/leakpro_py311/lib/python3.11/site-packages/torch/nn/modules/module.py:1640: FutureWarning: Using a non-full backward hook when the forward contains multiple autograd Nodes is deprecated and will be removed in future versions. This hook will be missing some grad_input. Please use register_full_backward_hook to get the documented behavior.\n",
      "  self._maybe_warn_non_full_backward_hook(args, result, grad_fn)\n",
      "Training Batches: 100%|██████████| 130/130 [00:07<00:00, 16.31it/s]\n",
      "Test Batches: 100%|██████████| 130/130 [00:02<00:00, 54.04it/s]\n",
      "Training Progress: 100%|██████████| 2/2 [00:21<00:00, 10.73s/it]"
     ]
    },
    {
     "name": "stdout",
     "output_type": "stream",
     "text": [
      "Epoch 1: Validation loss improved to 0.6480\n",
      "Learning Rate: 0.000289000000\n",
      "Epoch: 1, train_loss: 0.65931774, valid_loss: 0.64799779\n"
     ]
    },
    {
     "name": "stderr",
     "output_type": "stream",
     "text": [
      "\n"
     ]
    }
   ],
   "source": [
    "from utils.model_GRUD_dpsgd import *\n",
    "\n",
    "\n",
    "# Initialize the model with filtered parameters\n",
    "model = GRUD_DPSGD(**model_params)\n",
    "# Train the model\n",
    "results= dpsgd_gru_trained_model_and_metadata(\n",
    "                                            model,\n",
    "                                            train_loader,\n",
    "                                            early_stop_loader,\n",
    "                                            noise_multiplier_dict,\n",
    "                                            epochs=optimized_hyperparams[\"num_epochs\"],\n",
    "                                            patience_early_stopping = optimized_hyperparams[\"patience_early_stopping\"],\n",
    "                                            patience_lr= optimized_hyperparams[\"patience_lr_scheduler\"],\n",
    "                                            min_delta = optimized_hyperparams[\"min_delta\"],\n",
    "                                            learning_rate = optimized_hyperparams[\"learning_rate\"],\n",
    "                                            target_model_dir = target_model_dir,)\n",
    "train_losses, test_losses , train_acc, test_acc, best_model, privacy_engine  = results"
   ]
  },
  {
   "cell_type": "code",
   "execution_count": 8,
   "metadata": {},
   "outputs": [
    {
     "data": {
      "image/png": "[encoded data removed]",
      "text/plain": [
       "<Figure size 500x400 with 2 Axes>"
      ]
     },
     "metadata": {},
     "output_type": "display_data"
    }
   ],
   "source": [
    "import matplotlib.pyplot as plt\n",
    "\n",
    "# Convert losses to numpy-compatible lists directly\n",
    "train_losses_cpu = [float(loss) for loss in train_losses]\n",
    "test_losses_cpu = [float(loss) for loss in test_losses]\n",
    "\n",
    "# Plot training and test accuracy\n",
    "plt.figure(figsize=(5, 4))\n",
    "\n",
    "plt.subplot(1, 2, 1)\n",
    "plt.plot(train_acc, label=\"Train Accuracy\")\n",
    "plt.plot(test_acc, label=\"Test Accuracy\")\n",
    "plt.xlabel(\"Epoch\")\n",
    "plt.ylabel(\"Accuracy\")\n",
    "plt.title(\"Accuracy over Epochs\")\n",
    "plt.legend()\n",
    "\n",
    "# Plot training and test loss\n",
    "plt.subplot(1, 2, 2)\n",
    "plt.plot(train_losses, label=\"Train Loss\")\n",
    "plt.plot(test_losses, label=\"Test Loss\")\n",
    "plt.xlabel(\"Epoch\")\n",
    "plt.ylabel(\"Loss\")\n",
    "plt.title(\"Loss over Epochs\")\n",
    "plt.legend()\n",
    "\n",
    "plt.tight_layout()\n",
    "plt.show()"
   ]
  },
  {
   "cell_type": "code",
   "execution_count": 9,
   "metadata": {},
   "outputs": [
    {
     "name": "stderr",
     "output_type": "stream",
     "text": [
      "2025-03-03 14:58:32,253 INFO     Target model blueprint created from GRUD_DPSGD in utils/model_GRUD_dpsgd.py.\n",
      "03/03/2025 14:58:32:INFO:Target model blueprint created from GRUD_DPSGD in utils/model_GRUD_dpsgd.py.\n",
      "2025-03-03 14:58:32,262 INFO     Loaded target model metadata from ./target_GRUD_dpsgd/model_metadata.pkl\n",
      "03/03/2025 14:58:32:INFO:Loaded target model metadata from ./target_GRUD_dpsgd/model_metadata.pkl\n",
      "/home/fazeleh/LeakPro/leakpro/input_handler/mia_handler.py:92: FutureWarning: You are using `torch.load` with `weights_only=False` (the current default value), which uses the default pickle module implicitly. It is possible to construct malicious pickle data which will execute arbitrary code during unpickling (See https://github.com/pytorch/pytorch/blob/main/SECURITY.md#untrusted-models for more details). In a future release, the default value for `weights_only` will be flipped to `True`. This limits the functions that could be executed during unpickling. Arbitrary objects will no longer be allowed to be loaded via this mode unless they are explicitly allowlisted by the user via `torch.serialization.add_safe_globals`. We recommend you start setting `weights_only=True` for any use case where you don't have full control of the loaded file. Please open an issue on GitHub for any issues related to this experimental feature.\n",
      "  self.target_model.load_state_dict(torch.load(f))\n",
      "2025-03-03 14:58:32,267 INFO     Loaded target model from ./target_GRUD_dpsgd\n",
      "03/03/2025 14:58:32:INFO:Loaded target model from ./target_GRUD_dpsgd\n",
      "2025-03-03 14:58:33,317 INFO     Loaded population dataset from ./data/GRUD_data/dataset.pkl\n",
      "03/03/2025 14:58:33:INFO:Loaded population dataset from ./data/GRUD_data/dataset.pkl\n",
      "2025-03-03 14:58:33,318 INFO     Loaded population dataset from ./data/GRUD_data/dataset.pkl\n",
      "03/03/2025 14:58:33:INFO:Loaded population dataset from ./data/GRUD_data/dataset.pkl\n",
      "2025-03-03 14:58:33,320 INFO     Image extension initialized.\n",
      "03/03/2025 14:58:33:INFO:Image extension initialized.\n",
      "2025-03-03 14:58:33,328 WARNING  No one-hot encoding information found in the population object.\n",
      "03/03/2025 14:58:33:WARNING:No one-hot encoding information found in the population object.\n",
      "2025-03-03 14:58:33,351 INFO     MIA attack factory loaded.\n",
      "03/03/2025 14:58:33:INFO:MIA attack factory loaded.\n",
      "2025-03-03 14:58:33,352 INFO     Creating shadow model handler singleton\n",
      "03/03/2025 14:58:33:INFO:Creating shadow model handler singleton\n",
      "2025-03-03 14:58:33,354 INFO     Creating distillation model handler singleton\n",
      "03/03/2025 14:58:33:INFO:Creating distillation model handler singleton\n",
      "2025-03-03 14:58:33,356 INFO     Configuring the RMIA attack\n",
      "03/03/2025 14:58:33:INFO:Configuring the RMIA attack\n",
      "2025-03-03 14:58:33,359 INFO     User provided value for gamma, it won't be optimized by optuna.\n",
      "03/03/2025 14:58:33:INFO:User provided value for gamma, it won't be optimized by optuna.\n",
      "2025-03-03 14:58:33,360 INFO     User provided value for offline_a, it won't be optimized by optuna.\n",
      "03/03/2025 14:58:33:INFO:User provided value for offline_a, it won't be optimized by optuna.\n",
      "2025-03-03 14:58:33,361 INFO     Added attack: rmia\n",
      "03/03/2025 14:58:33:INFO:Added attack: rmia\n",
      "2025-03-03 14:58:33,362 INFO     Preparing attack: rmia\n",
      "03/03/2025 14:58:33:INFO:Preparing attack: rmia\n",
      "2025-03-03 14:58:33,363 INFO     Preparing shadow models for RMIA attack\n",
      "03/03/2025 14:58:33:INFO:Preparing shadow models for RMIA attack\n",
      "2025-03-03 14:58:33,365 INFO     Check for 2 shadow models (dataset: 23944 points)\n",
      "03/03/2025 14:58:33:INFO:Check for 2 shadow models (dataset: 23944 points)\n",
      "2025-03-03 14:58:33,417 INFO     Training shadow model 2 on 11988 points\n",
      "03/03/2025 14:58:33:INFO:Training shadow model 2 on 11988 points\n",
      "/home/fazeleh/miniconda3/envs/leakpro_py311/lib/python3.11/site-packages/opacus/accountants/analysis/rdp.py:332: UserWarning: Optimal order is the largest alpha. Please consider expanding the range of alphas to get a tighter privacy bound.\n",
      "  warnings.warn(\n"
     ]
    },
    {
     "name": "stdout",
     "output_type": "stream",
     "text": [
      "Training shadow models with DP-SGD\n",
      "Pickle file loaded successfully!\n",
      "Data: {'target_epsilon': 3.5, 'target_delta': 1e-05, 'sample_rate': 0.007692307692307693, 'epochs': 21, 'epsilon_tolerance': 0.01, 'accountant': 'prv', 'eps_error': 0.01, 'max_grad_norm': 1}\n"
     ]
    },
    {
     "name": "stderr",
     "output_type": "stream",
     "text": [
      "/home/fazeleh/miniconda3/envs/leakpro_py311/lib/python3.11/site-packages/opacus/privacy_engine.py:95: UserWarning: Secure RNG turned off. This is perfectly fine for experimentation as it allows for much faster training performance, but remember to turn it on and retrain one last time before production with ``secure_mode`` turned on.\n",
      "  warnings.warn(\n",
      "Training Progress:   0%|          | 0/2 [00:00<?, ?it/s]/home/fazeleh/miniconda3/envs/leakpro_py311/lib/python3.11/site-packages/torch/nn/modules/module.py:1640: FutureWarning: Using a non-full backward hook when the forward contains multiple autograd Nodes is deprecated and will be removed in future versions. This hook will be missing some grad_input. Please use register_full_backward_hook to get the documented behavior.\n",
      "  self._maybe_warn_non_full_backward_hook(args, result, grad_fn)\n",
      "Training Batches: 100%|██████████| 162/162 [00:10<00:00, 15.86it/s]\n",
      "Training Progress:  50%|█████     | 1/2 [00:10<00:10, 10.21s/it]/home/fazeleh/miniconda3/envs/leakpro_py311/lib/python3.11/site-packages/torch/nn/modules/module.py:1640: FutureWarning: Using a non-full backward hook when the forward contains multiple autograd Nodes is deprecated and will be removed in future versions. This hook will be missing some grad_input. Please use register_full_backward_hook to get the documented behavior.\n",
      "  self._maybe_warn_non_full_backward_hook(args, result, grad_fn)\n",
      "Training Batches: 100%|██████████| 162/162 [00:10<00:00, 15.88it/s]\n",
      "Training Progress: 100%|██████████| 2/2 [00:20<00:00, 10.21s/it]\n",
      "2025-03-03 14:58:58,922 INFO     Training shadow model 2 complete\n",
      "03/03/2025 14:58:58:INFO:Training shadow model 2 complete\n",
      "2025-03-03 14:58:58,927 INFO     Saved shadow model 2 to ./leakpro_output/attack_objects/shadow_model\n",
      "03/03/2025 14:58:58:INFO:Saved shadow model 2 to ./leakpro_output/attack_objects/shadow_model\n",
      "2025-03-03 14:58:58,928 INFO     Storing metadata for shadow model 2\n",
      "03/03/2025 14:58:58:INFO:Storing metadata for shadow model 2\n",
      "2025-03-03 14:58:58,932 INFO     Metadata for shadow model 2:\n",
      "{'init_params': {'input_size': 104, 'hidden_size': 27, 'X_mean': tensor([[[0., 0., 0.,  ..., 0., 0., 0.],\n",
      "         [0., 0., 0.,  ..., 0., 0., 0.],\n",
      "         [0., 0., 0.,  ..., 0., 0., 0.],\n",
      "         ...,\n",
      "         [0., 0., 0.,  ..., 0., 0., 0.],\n",
      "         [0., 0., 0.,  ..., 0., 0., 0.],\n",
      "         [0., 0., 0.,  ..., 0., 0., 0.]]]), 'batch_size': 74, 'output_last': False, 'bn_flag': False}, 'train_indices': array([14968,  8018,  2907, ..., 19361,  7254,  8021]), 'num_train': 11972, 'optimizer': 'Adam', 'criterion': 'BCEWithLogitsLoss', 'batch_size': 74, 'epochs': 2, 'train_acc': 0.6756756756756757, 'train_loss': 0.9108655853771869, 'test_acc': 0.6658035415970598, 'test_loss': 0.8471463804627642, 'online': True, 'model_class': 'GRUD_DPSGD', 'target_model_hash': 'f1eb62b99322b49a646c1431209a6bc67d0591f7537bf5485e6de4efb91081d9'}\n",
      "03/03/2025 14:58:58:INFO:Metadata for shadow model 2:\n",
      "{'init_params': {'input_size': 104, 'hidden_size': 27, 'X_mean': tensor([[[0., 0., 0.,  ..., 0., 0., 0.],\n",
      "         [0., 0., 0.,  ..., 0., 0., 0.],\n",
      "         [0., 0., 0.,  ..., 0., 0., 0.],\n",
      "         ...,\n",
      "         [0., 0., 0.,  ..., 0., 0., 0.],\n",
      "         [0., 0., 0.,  ..., 0., 0., 0.],\n",
      "         [0., 0., 0.,  ..., 0., 0., 0.]]]), 'batch_size': 74, 'output_last': False, 'bn_flag': False}, 'train_indices': array([14968,  8018,  2907, ..., 19361,  7254,  8021]), 'num_train': 11972, 'optimizer': 'Adam', 'criterion': 'BCEWithLogitsLoss', 'batch_size': 74, 'epochs': 2, 'train_acc': 0.6756756756756757, 'train_loss': 0.9108655853771869, 'test_acc': 0.6658035415970598, 'test_loss': 0.8471463804627642, 'online': True, 'model_class': 'GRUD_DPSGD', 'target_model_hash': 'f1eb62b99322b49a646c1431209a6bc67d0591f7537bf5485e6de4efb91081d9'}\n",
      "2025-03-03 14:58:58,939 INFO     Metadata for shadow model 2 stored in ./leakpro_output/attack_objects/shadow_model\n",
      "03/03/2025 14:58:58:INFO:Metadata for shadow model 2 stored in ./leakpro_output/attack_objects/shadow_model\n",
      "2025-03-03 14:58:59,000 INFO     Training shadow model 3 on 11988 points\n",
      "03/03/2025 14:58:59:INFO:Training shadow model 3 on 11988 points\n",
      "/home/fazeleh/miniconda3/envs/leakpro_py311/lib/python3.11/site-packages/opacus/accountants/analysis/rdp.py:332: UserWarning: Optimal order is the largest alpha. Please consider expanding the range of alphas to get a tighter privacy bound.\n",
      "  warnings.warn(\n"
     ]
    },
    {
     "name": "stdout",
     "output_type": "stream",
     "text": [
      "Training shadow models with DP-SGD\n",
      "Pickle file loaded successfully!\n",
      "Data: {'target_epsilon': 3.5, 'target_delta': 1e-05, 'sample_rate': 0.007692307692307693, 'epochs': 21, 'epsilon_tolerance': 0.01, 'accountant': 'prv', 'eps_error': 0.01, 'max_grad_norm': 1}\n"
     ]
    },
    {
     "name": "stderr",
     "output_type": "stream",
     "text": [
      "/home/fazeleh/miniconda3/envs/leakpro_py311/lib/python3.11/site-packages/opacus/privacy_engine.py:95: UserWarning: Secure RNG turned off. This is perfectly fine for experimentation as it allows for much faster training performance, but remember to turn it on and retrain one last time before production with ``secure_mode`` turned on.\n",
      "  warnings.warn(\n",
      "Training Progress:   0%|          | 0/2 [00:00<?, ?it/s]/home/fazeleh/miniconda3/envs/leakpro_py311/lib/python3.11/site-packages/torch/nn/modules/module.py:1640: FutureWarning: Using a non-full backward hook when the forward contains multiple autograd Nodes is deprecated and will be removed in future versions. This hook will be missing some grad_input. Please use register_full_backward_hook to get the documented behavior.\n",
      "  self._maybe_warn_non_full_backward_hook(args, result, grad_fn)\n",
      "Training Batches: 100%|██████████| 162/162 [00:10<00:00, 15.87it/s]\n",
      "Training Progress:  50%|█████     | 1/2 [00:10<00:10, 10.21s/it]/home/fazeleh/miniconda3/envs/leakpro_py311/lib/python3.11/site-packages/torch/nn/modules/module.py:1640: FutureWarning: Using a non-full backward hook when the forward contains multiple autograd Nodes is deprecated and will be removed in future versions. This hook will be missing some grad_input. Please use register_full_backward_hook to get the documented behavior.\n",
      "  self._maybe_warn_non_full_backward_hook(args, result, grad_fn)\n",
      "Training Batches: 100%|██████████| 162/162 [00:10<00:00, 15.90it/s]\n",
      "Training Progress: 100%|██████████| 2/2 [00:20<00:00, 10.20s/it]\n",
      "2025-03-03 14:59:24,336 INFO     Training shadow model 3 complete\n",
      "03/03/2025 14:59:24:INFO:Training shadow model 3 complete\n",
      "2025-03-03 14:59:24,339 INFO     Saved shadow model 3 to ./leakpro_output/attack_objects/shadow_model\n",
      "03/03/2025 14:59:24:INFO:Saved shadow model 3 to ./leakpro_output/attack_objects/shadow_model\n",
      "2025-03-03 14:59:24,340 INFO     Storing metadata for shadow model 3\n",
      "03/03/2025 14:59:24:INFO:Storing metadata for shadow model 3\n",
      "2025-03-03 14:59:24,342 INFO     Metadata for shadow model 3:\n",
      "{'init_params': {'input_size': 104, 'hidden_size': 27, 'X_mean': tensor([[[0., 0., 0.,  ..., 0., 0., 0.],\n",
      "         [0., 0., 0.,  ..., 0., 0., 0.],\n",
      "         [0., 0., 0.,  ..., 0., 0., 0.],\n",
      "         ...,\n",
      "         [0., 0., 0.,  ..., 0., 0., 0.],\n",
      "         [0., 0., 0.,  ..., 0., 0., 0.],\n",
      "         [0., 0., 0.,  ..., 0., 0., 0.]]]), 'batch_size': 74, 'output_last': False, 'bn_flag': False}, 'train_indices': array([11403,  1511,  8800, ..., 12073, 23486, 15496]), 'num_train': 11972, 'optimizer': 'Adam', 'criterion': 'BCEWithLogitsLoss', 'batch_size': 74, 'epochs': 2, 'train_acc': 0.5692307692307692, 'train_loss': 0.9298688140180376, 'test_acc': 0.6685599732709656, 'test_loss': 0.9048797962842164, 'online': True, 'model_class': 'GRUD_DPSGD', 'target_model_hash': 'f1eb62b99322b49a646c1431209a6bc67d0591f7537bf5485e6de4efb91081d9'}\n",
      "03/03/2025 14:59:24:INFO:Metadata for shadow model 3:\n",
      "{'init_params': {'input_size': 104, 'hidden_size': 27, 'X_mean': tensor([[[0., 0., 0.,  ..., 0., 0., 0.],\n",
      "         [0., 0., 0.,  ..., 0., 0., 0.],\n",
      "         [0., 0., 0.,  ..., 0., 0., 0.],\n",
      "         ...,\n",
      "         [0., 0., 0.,  ..., 0., 0., 0.],\n",
      "         [0., 0., 0.,  ..., 0., 0., 0.],\n",
      "         [0., 0., 0.,  ..., 0., 0., 0.]]]), 'batch_size': 74, 'output_last': False, 'bn_flag': False}, 'train_indices': array([11403,  1511,  8800, ..., 12073, 23486, 15496]), 'num_train': 11972, 'optimizer': 'Adam', 'criterion': 'BCEWithLogitsLoss', 'batch_size': 74, 'epochs': 2, 'train_acc': 0.5692307692307692, 'train_loss': 0.9298688140180376, 'test_acc': 0.6685599732709656, 'test_loss': 0.9048797962842164, 'online': True, 'model_class': 'GRUD_DPSGD', 'target_model_hash': 'f1eb62b99322b49a646c1431209a6bc67d0591f7537bf5485e6de4efb91081d9'}\n",
      "2025-03-03 14:59:24,349 INFO     Metadata for shadow model 3 stored in ./leakpro_output/attack_objects/shadow_model\n",
      "03/03/2025 14:59:24:INFO:Metadata for shadow model 3 stored in ./leakpro_output/attack_objects/shadow_model\n",
      "2025-03-03 14:59:24,374 INFO     Loading shadow model 2\n",
      "03/03/2025 14:59:24:INFO:Loading shadow model 2\n",
      "/home/fazeleh/LeakPro/leakpro/attacks/utils/model_handler.py:167: FutureWarning: You are using `torch.load` with `weights_only=False` (the current default value), which uses the default pickle module implicitly. It is possible to construct malicious pickle data which will execute arbitrary code during unpickling (See https://github.com/pytorch/pytorch/blob/main/SECURITY.md#untrusted-models for more details). In a future release, the default value for `weights_only` will be flipped to `True`. This limits the functions that could be executed during unpickling. Arbitrary objects will no longer be allowed to be loaded via this mode unless they are explicitly allowlisted by the user via `torch.serialization.add_safe_globals`. We recommend you start setting `weights_only=True` for any use case where you don't have full control of the loaded file. Please open an issue on GitHub for any issues related to this experimental feature.\n",
      "  model.load_state_dict(load(f))\n",
      "2025-03-03 14:59:24,380 INFO     Loaded model from ./leakpro_output/attack_objects/shadow_model/shadow_model_2.pkl\n",
      "03/03/2025 14:59:24:INFO:Loaded model from ./leakpro_output/attack_objects/shadow_model/shadow_model_2.pkl\n",
      "2025-03-03 14:59:24,381 INFO     Loading shadow model 3\n",
      "03/03/2025 14:59:24:INFO:Loading shadow model 3\n",
      "2025-03-03 14:59:24,384 INFO     Loaded model from ./leakpro_output/attack_objects/shadow_model/shadow_model_3.pkl\n",
      "03/03/2025 14:59:24:INFO:Loaded model from ./leakpro_output/attack_objects/shadow_model/shadow_model_3.pkl\n",
      "2025-03-03 14:59:24,385 INFO     Running attack: rmia\n",
      "03/03/2025 14:59:24:INFO:Running attack: rmia\n",
      "2025-03-03 14:59:24,386 INFO     Running RMIA online attack\n",
      "03/03/2025 14:59:24:INFO:Running RMIA online attack\n",
      "2025-03-03 14:59:24,386 INFO     Loading metadata 2\n",
      "03/03/2025 14:59:24:INFO:Loading metadata 2\n",
      "2025-03-03 14:59:24,392 INFO     Loading metadata 3\n",
      "03/03/2025 14:59:24:INFO:Loading metadata 3\n",
      "2025-03-03 14:59:24,604 INFO     Number of points in the audit dataset that are used for online attack: 9566\n",
      "03/03/2025 14:59:24:INFO:Number of points in the audit dataset that are used for online attack: 9566\n",
      "2025-03-03 14:59:39,495 INFO     Subsampling attack data from 4790 points       \n",
      "03/03/2025 14:59:39:INFO:Subsampling attack data from 4790 points\n",
      "2025-03-03 14:59:39,497 INFO     Number of attack data points after subsampling: 2395\n",
      "03/03/2025 14:59:39:INFO:Number of attack data points after subsampling: 2395\n",
      "2025-03-03 14:59:43,690 INFO     Finished attack: rmia                        \n",
      "03/03/2025 14:59:43:INFO:Finished attack: rmia\n",
      "2025-03-03 14:59:43,691 INFO     Preparing results for attack: rmia\n",
      "03/03/2025 14:59:43:INFO:Preparing results for attack: rmia\n",
      "2025-03-03 14:59:43,692 INFO     Auditing completed\n",
      "03/03/2025 14:59:43:INFO:Auditing completed\n"
     ]
    }
   ],
   "source": [
    "# from mimic_GRUD_handler import MimicInputHandlerGRU\n",
    "from mimic_GRUD_dpsgd_handler import MimicInputHandlerGRUdpsgd\n",
    "\n",
    "from leakpro import LeakPro\n",
    "\n",
    "# Read the config file\n",
    "config_path = \"audit.yaml\"\n",
    "\n",
    "# Prepare leakpro object\n",
    "leakpro = LeakPro(MimicInputHandlerGRUdpsgd, config_path)\n",
    "\n",
    "# Run the audit\n",
    "mia_results = leakpro.run_audit(return_results=True)"
   ]
  },
  {
   "cell_type": "code",
   "execution_count": 11,
   "metadata": {},
   "outputs": [
    {
     "name": "stderr",
     "output_type": "stream",
     "text": [
      "03/03/2025 15:01:17:INFO:Initializing report handler...\n",
      "03/03/2025 15:01:17:INFO:report_dir set to: ./leakpro_output/results\n",
      "03/03/2025 15:01:17:INFO:Saving results for rmia\n",
      "03/03/2025 15:01:28:INFO:No results of type GIAResults found.\n",
      "03/03/2025 15:01:28:INFO:No results of type SinglingOutResults found.\n",
      "03/03/2025 15:01:28:INFO:No results of type InferenceResults found.\n",
      "03/03/2025 15:01:28:INFO:No results of type LinkabilityResults found.\n",
      "03/03/2025 15:01:33:INFO:PDF compiled\n"
     ]
    },
    {
     "data": {
      "text/plain": [
       "<Figure size 640x480 with 0 Axes>"
      ]
     },
     "metadata": {},
     "output_type": "display_data"
    }
   ],
   "source": [
    "# Import and initialize ReportHandler\n",
    "from leakpro.reporting.report_handler import ReportHandler\n",
    "\n",
    "# report_handler = ReportHandler()\n",
    "report_handler = ReportHandler(report_dir=\"./leakpro_output/results\")\n",
    "\n",
    "# Save MIA resuls using report handler\n",
    "for res in mia_results:\n",
    "    report_handler.save_results(attack_name=res.attack_name, result_data=res, config=res.configs)\n",
    "\n",
    "# Create the report by compiling the latex text\n",
    "report_handler.create_report()"
   ]
  },
  {
   "cell_type": "code",
   "execution_count": null,
   "metadata": {},
   "outputs": [],
   "source": []
  }
 ],
 "metadata": {
  "kernelspec": {
   "display_name": "leakpro_py311",
   "language": "python",
   "name": "python3"
  },
  "language_info": {
   "codemirror_mode": {
    "name": "ipython",
    "version": 3
   },
   "file_extension": ".py",
   "mimetype": "text/x-python",
   "name": "python",
   "nbconvert_exporter": "python",
   "pygments_lexer": "ipython3",
   "version": "3.11.11"
  }
 },
 "nbformat": 4,
 "nbformat_minor": 2
}
