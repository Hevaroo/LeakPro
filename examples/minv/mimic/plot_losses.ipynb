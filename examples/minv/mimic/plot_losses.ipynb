{
 "cells": [
  {
   "cell_type": "markdown",
   "id": "d9f0cfda",
   "metadata": {},
   "source": [
    "Notebook to plot losses from GAN_losses df"
   ]
  },
  {
   "cell_type": "code",
   "execution_count": null,
   "id": "75eba6f5",
   "metadata": {},
   "outputs": [],
   "source": [
    "# Load df from GAN_losses.pkl\n",
    "\n",
    "import pandas as pd\n",
    "import pickle\n",
    "import os\n",
    "import matplotlib.pyplot as plt\n",
    "\n",
    "# Load the DataFrame from the pickle file\n",
    "with open(os.path.join('GAN_losses.pkl'), 'rb') as f:\n",
    "    df = pickle.load(f)\n",
    "print(df.tail())\n",
    "\n",
    "# # Running average on Losses\n",
    "# window = 100\n",
    "# df['Inversion Loss'] = df['Inversion Loss'].rolling(window=window).mean()\n",
    "# df['Conditioning Loss (CE)'] = df['Conditioning Loss (CE)'].rolling(window=window).mean()\n",
    "# df['Generator Loss'] = df['Generator Loss'].rolling(window=window).mean()\n",
    "# df['Discriminator Loss'] = df['Discriminator Loss'].rolling(window=window).mean()\n",
    "# df['Accuracy'] = df['Accuracy'].rolling(window=window).mean()\n",
    "\n",
    "#df['Inversion Loss'] = df['Inversion Loss'] * 0.02\n",
    "#df['Conditioning Loss (CE)'] = df['Conditioning Loss (CE)']*2\n",
    "# Subplot the two figures\n",
    "ax1 = df.plot(x='Epoch', y=['Inversion Loss'], title='GAN Inversion Loss vs. Epochs')\n",
    "ax2 = df.plot(x='Epoch', y=['Conditioning Loss (CE)'], title='GAN Conditioning Loss vs. Epochs')\n",
    "ax2.set_yscale('log')\n",
    "ax3 = df.plot(x='Epoch', y=['Generator Loss', 'Discriminator Loss'], title='G,D Losses')\n",
    "ax4 = df.plot(x='Epoch', y=['Accuracy'], title='Accuracy')"
   ]
  }
 ],
 "metadata": {
  "kernelspec": {
   "display_name": "base",
   "language": "python",
   "name": "python3"
  },
  "language_info": {
   "codemirror_mode": {
    "name": "ipython",
    "version": 3
   },
   "file_extension": ".py",
   "mimetype": "text/x-python",
   "name": "python",
   "nbconvert_exporter": "python",
   "pygments_lexer": "ipython3",
   "version": "3.12.8"
  }
 },
 "nbformat": 4,
 "nbformat_minor": 5
}
