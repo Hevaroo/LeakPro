{
 "cells": [
  {
   "cell_type": "markdown",
   "metadata": {},
   "source": [
    "#### Face Identity Classification\n",
    "This example illustrates Model Inversion (MINV) attacks on a face identity classfier model. The classfier is trained on [Large-scale CelebA - Aligned&Cropped](https://mmlab.ie.cuhk.edu.hk/projects/CelebA.html) dataset. Please ensure the following structure in the data folder:\n",
    "\n",
    "directory_structure:\n",
    "\n",
    "```\n",
    "data/\n",
    "    ├── private/          # Private dataset\n",
    "    │   ├── identity_1/\n",
    "    │   │   ├── instance_1.jpg\n",
    "    │   │   ├── instance_2.jpg\n",
    "    │   │   └── ...\n",
    "    │   ├── identity_2/\n",
    "    │   │   ├── instance_1.jpg\n",
    "    │   │   ├── instance_2.jpg\n",
    "    │   │   └── ...\n",
    "    │   └── ...\n",
    "    └── public/           # Public dataset\n",
    "        ├── identity_1/\n",
    "        │   ├── instance_1.jpg\n",
    "        │   ├── instance_2.jpg\n",
    "        │   └── ...\n",
    "        ├── identity_2/\n",
    "        │   ├── instance_1.jpg\n",
    "        │   ├── instance_2.jpg\n",
    "        │   └── ...\n",
    "        └── ...      \n",
    "```\n"
   ]
  },
  {
   "cell_type": "markdown",
   "metadata": {},
   "source": [
    "To prepare data for this example:\n",
    "\n",
    "1. Download CelebA images \"img_align_celeba.zip\" from this [URL](https://drive.google.com/drive/folders/0B7EVK8r0v71pTUZsaXdaSnZBZzg?resourcekey=0-rJlzl934LzC-Xp28GeIBzQ) \n",
    "2. Download CelebA identities \"identity_CelebA.txt\" from this [URL](https://drive.google.com/drive/folders/0B7EVK8r0v71pOC0wOVZlQnFfaGs?resourcekey=0-pEjrQoTrlbjZJO2UL8K_WQ)\n",
    "3. Unzip \"img_align_celeba.zip\" and place /img_align_celeba folder in examples/minv/celebA/data/\n",
    "4. Place \"identity_CelebA.txt\" in examples/minv/celebA/data/\n",
    "5. In the cell below select n classes to use, and n_private classes as private, n - n_private will be public.\n",
    "6. Run the cell below\n",
    "\n",
    "After running this, img_align_celebA folder can be removed if desired."
   ]
  },
  {
   "cell_type": "code",
   "execution_count": 1,
   "metadata": {},
   "outputs": [
    {
     "name": "stdout",
     "output_type": "stream",
     "text": [
      "0.9826078412105729 percent copied\n",
      "1.9652156824211457 percent copied\n",
      "2.9478235236317185 percent copied\n",
      "3.9304313648422915 percent copied\n",
      "4.913039206052864 percent copied\n",
      "5.895647047263437 percent copied\n",
      "6.87825488847401 percent copied\n",
      "7.860862729684583 percent copied\n",
      "8.843470570895155 percent copied\n",
      "9.826078412105728 percent copied\n",
      "10.808686253316303 percent copied\n",
      "11.791294094526874 percent copied\n",
      "12.773901935737447 percent copied\n",
      "13.75650977694802 percent copied\n",
      "14.739117618158593 percent copied\n",
      "15.721725459369166 percent copied\n",
      "16.704333300579737 percent copied\n",
      "17.68694114179031 percent copied\n",
      "18.669548983000883 percent copied\n",
      "19.652156824211456 percent copied\n",
      "20.634764665422033 percent copied\n",
      "21.617372506632606 percent copied\n",
      "22.599980347843175 percent copied\n",
      "23.582588189053748 percent copied\n",
      "24.56519603026432 percent copied\n",
      "25.547803871474894 percent copied\n",
      "26.53041171268547 percent copied\n",
      "27.51301955389604 percent copied\n",
      "28.495627395106617 percent copied\n",
      "29.478235236317186 percent copied\n",
      "30.46084307752776 percent copied\n",
      "31.443450918738332 percent copied\n",
      "32.42605875994891 percent copied\n",
      "33.408666601159474 percent copied\n",
      "34.391274442370054 percent copied\n",
      "35.37388228358062 percent copied\n",
      "36.35649012479119 percent copied\n",
      "37.339097966001766 percent copied\n",
      "38.32170580721234 percent copied\n",
      "39.30431364842291 percent copied\n",
      "40.286921489633485 percent copied\n",
      "41.269529330844065 percent copied\n",
      "42.25213717205463 percent copied\n",
      "43.23474501326521 percent copied\n",
      "44.21735285447578 percent copied\n",
      "45.19996069568635 percent copied\n",
      "46.18256853689692 percent copied\n",
      "47.165176378107496 percent copied\n",
      "48.14778421931807 percent copied\n",
      "49.13039206052864 percent copied\n",
      "50.11299990173922 percent copied\n",
      "51.09560774294979 percent copied\n",
      "52.07821558416036 percent copied\n",
      "53.06082342537094 percent copied\n",
      "54.04343126658151 percent copied\n",
      "55.02603910779208 percent copied\n",
      "56.00864694900265 percent copied\n",
      "56.99125479021323 percent copied\n",
      "57.9738626314238 percent copied\n",
      "58.95647047263437 percent copied\n",
      "59.93907831384494 percent copied\n",
      "60.92168615505552 percent copied\n",
      "61.90429399626609 percent copied\n",
      "62.886901837476664 percent copied\n",
      "63.86950967868723 percent copied\n",
      "64.85211751989782 percent copied\n",
      "65.83472536110838 percent copied\n",
      "66.81733320231895 percent copied\n",
      "67.79994104352953 percent copied\n",
      "68.78254888474011 percent copied\n",
      "69.76515672595067 percent copied\n",
      "70.74776456716124 percent copied\n",
      "71.73037240837182 percent copied\n",
      "72.71298024958239 percent copied\n",
      "73.69558809079297 percent copied\n",
      "74.67819593200353 percent copied\n",
      "75.66080377321411 percent copied\n",
      "76.64341161442468 percent copied\n",
      "77.62601945563526 percent copied\n",
      "78.60862729684582 percent copied\n",
      "79.5912351380564 percent copied\n",
      "80.57384297926697 percent copied\n",
      "81.55645082047755 percent copied\n",
      "82.53905866168813 percent copied\n",
      "83.5216665028987 percent copied\n",
      "84.50427434410926 percent copied\n",
      "85.48688218531983 percent copied\n",
      "86.46949002653042 percent copied\n",
      "87.45209786774099 percent copied\n",
      "88.43470570895155 percent copied\n",
      "89.41731355016212 percent copied\n",
      "90.3999213913727 percent copied\n",
      "91.38252923258328 percent copied\n",
      "92.36513707379385 percent copied\n",
      "93.34774491500443 percent copied\n",
      "94.33035275621499 percent copied\n",
      "95.31296059742557 percent copied\n",
      "96.29556843863614 percent copied\n",
      "97.27817627984672 percent copied\n",
      "98.26078412105728 percent copied\n",
      "99.24339196226785 percent copied\n"
     ]
    }
   ],
   "source": [
    "# Description: This script partitions the CelebA dataset into public and private folders based on the identity of the person in the image.\n",
    "\n",
    "import pandas as pd\n",
    "import os\n",
    "import shutil\n",
    "\n",
    "# read img_align_celeba/identity_CelebA.txt\n",
    "df = pd.read_csv('./data/identity_CelebA.txt', sep=' ', header=None)\n",
    "df.columns = ['img', 'label']\n",
    "\n",
    "# Parameters\n",
    "n = 10177 # total number of classes to take, max 10177\n",
    "n_private = 5088 # number of classes to be private, max 10177 and <= n. The rest will be public\n",
    "\n",
    "# Create folders\n",
    "os.makedirs('./data', exist_ok=True)\n",
    "os.makedirs('./data/private', exist_ok=True)\n",
    "os.makedirs('./data/public', exist_ok=True)\n",
    "\n",
    "# Copy images to folders based on label\n",
    "for i in range(1,n+1):\n",
    "    if i <= n_private:\n",
    "        # folder name should be 0-indexed\n",
    "        # so we subtract 1 from the label\n",
    "        os.makedirs('./data/private/' + str(i-1), exist_ok=True)\n",
    "        for img in df[df['label'] == i]['img']:          \n",
    "            shutil.copy('./data/img_align_celeba/' + img, './data/private/' + str(i-1) + '/' + img)\n",
    "    else:\n",
    "        os.makedirs('./data/public/' + str(i-1), exist_ok=True)\n",
    "        for img in df[df['label'] == i]['img']:\n",
    "            shutil.copy('./data/img_align_celeba/' + img, './data/public/' + str(i-1) + '/' + img)\n",
    "    if i % 100 == 0:\n",
    "        print(i / n * 100, 'percent copied')"
   ]
  },
  {
   "cell_type": "markdown",
   "metadata": {},
   "source": [
    "# Train the target model"
   ]
  },
  {
   "cell_type": "code",
   "execution_count": 1,
   "metadata": {},
   "outputs": [],
   "source": [
    "import os\n",
    "import sys\n",
    "import yaml\n",
    "\n",
    "# Path to the dataset zip file\n",
    "data_folder = \"./data\"\n",
    "\n",
    "\n",
    "project_root = os.path.abspath(os.path.join(os.getcwd(), \"../../..\"))\n",
    "sys.path.append(project_root)"
   ]
  },
  {
   "cell_type": "code",
   "execution_count": 2,
   "metadata": {},
   "outputs": [
    {
     "name": "stdout",
     "output_type": "stream",
     "text": [
      "Save data to ./data/celebA_private_data.pkl\n"
     ]
    }
   ],
   "source": [
    "from examples.minv.celebA.utils.celebA_data import get_celebA_train_test_loader\n",
    "\n",
    "# Load the config.yaml file\n",
    "with open('train_config.yaml', 'r') as file:\n",
    "    train_config = yaml.safe_load(file)\n",
    "\n",
    "# Generate the dataset and dataloaders\n",
    "path = os.path.join(os.getcwd(), train_config[\"data\"][\"data_dir\"])\n",
    "\n",
    "train_loader, test_loader = get_celebA_train_test_loader(train_config)\n",
    "\n",
    "num_classes = train_loader.dataset.dataset.get_classes()"
   ]
  },
  {
   "cell_type": "markdown",
   "metadata": {},
   "source": [
    "Run this cell if you want to train the model, otherwise skip this and load it in cell below public loader"
   ]
  },
  {
   "cell_type": "code",
   "execution_count": null,
   "metadata": {},
   "outputs": [
    {
     "name": "stdout",
     "output_type": "stream",
     "text": [
      "5088\n"
     ]
    },
    {
     "ename": "AttributeError",
     "evalue": "'DataLoader' object has no attribute 'to'",
     "output_type": "error",
     "traceback": [
      "\u001b[0;31m---------------------------------------------------------------------------\u001b[0m",
      "\u001b[0;31mAttributeError\u001b[0m                            Traceback (most recent call last)",
      "Cell \u001b[0;32mIn[12], line 14\u001b[0m\n\u001b[1;32m     11\u001b[0m device \u001b[38;5;241m=\u001b[39m \u001b[38;5;124m'\u001b[39m\u001b[38;5;124mcuda\u001b[39m\u001b[38;5;124m'\u001b[39m \u001b[38;5;28;01mif\u001b[39;00m torch\u001b[38;5;241m.\u001b[39mcuda\u001b[38;5;241m.\u001b[39mis_available() \u001b[38;5;28;01melse\u001b[39;00m \u001b[38;5;124m'\u001b[39m\u001b[38;5;124mcpu\u001b[39m\u001b[38;5;124m'\u001b[39m\n\u001b[1;32m     13\u001b[0m model \u001b[38;5;241m=\u001b[39m model\u001b[38;5;241m.\u001b[39mto(device)\n\u001b[0;32m---> 14\u001b[0m train_loader \u001b[38;5;241m=\u001b[39m \u001b[43mtrain_loader\u001b[49m\u001b[38;5;241;43m.\u001b[39;49m\u001b[43mto\u001b[49m(device)\n\u001b[1;32m     15\u001b[0m test_loader \u001b[38;5;241m=\u001b[39m test_loader\u001b[38;5;241m.\u001b[39mto(device)\n\u001b[1;32m     17\u001b[0m \u001b[38;5;66;03m# Load the model\u001b[39;00m\n",
      "\u001b[0;31mAttributeError\u001b[0m: 'DataLoader' object has no attribute 'to'"
     ]
    }
   ],
   "source": [
    "from utils.resnet152_model import ResNet152\n",
    "from utils.resnet152_model import create_trained_model_and_metadata\n",
    "# Get number of classes from the train_loader\n",
    "num_classes = train_loader.dataset.dataset.get_classes()\n",
    "print(num_classes)\n",
    "\n",
    "import torch\n",
    "# Create the model\n",
    "model = ResNet152(num_classes=num_classes)\n",
    "\n",
    "device = 'cuda' if torch.cuda.is_available() else 'cpu'\n",
    "\n",
    "model.to(device)\n",
    "\n",
    "# Load the model\n",
    "train_acc, train_loss, test_acc, test_loss = create_trained_model_and_metadata(model,train_loader,test_loader, train_config)"
   ]
  },
  {
   "cell_type": "code",
   "execution_count": 4,
   "metadata": {},
   "outputs": [
    {
     "data": {
      "image/png": "[encoded data removed]",
      "text/plain": [
       "<Figure size 500x400 with 2 Axes>"
      ]
     },
     "metadata": {},
     "output_type": "display_data"
    }
   ],
   "source": [
    "import matplotlib.pyplot as plt\n",
    "\n",
    "# Plot training and test accuracy\n",
    "plt.figure(figsize=(5, 4))\n",
    "\n",
    "plt.subplot(1, 2, 1)\n",
    "plt.plot(train_acc, label='Train Accuracy')\n",
    "plt.plot(test_acc, label='Test Accuracy')\n",
    "plt.xlabel('Epoch')\n",
    "plt.ylabel('Accuracy')\n",
    "plt.title('Accuracy over Epochs')\n",
    "plt.legend()\n",
    "\n",
    "# Plot training and test loss\n",
    "plt.subplot(1, 2, 2)\n",
    "plt.plot(train_loss, label='Train Loss')\n",
    "plt.plot(test_loss, label='Test Loss')\n",
    "plt.xlabel('Epoch')\n",
    "plt.ylabel('Loss')\n",
    "plt.title('Loss over Epochs')\n",
    "plt.legend()\n",
    "\n",
    "plt.tight_layout()\n",
    "plt.show()"
   ]
  },
  {
   "cell_type": "code",
   "execution_count": null,
   "metadata": {},
   "outputs": [],
   "source": [
    "# Public loader\n",
    "from examples.minv.celebA.utils.celebA_data import get_celebA_publicloader\n",
    "\n",
    "pub_loader = get_celebA_publicloader(train_config)\n"
   ]
  },
  {
   "cell_type": "code",
   "execution_count": null,
   "metadata": {},
   "outputs": [],
   "source": [
    "import torch\n",
    "from torch.nn import functional as F\n",
    "import numpy as np\n",
    "from examples.mia.celebA_HQ.utils.celeb_hq_model import ResNet18\n",
    "\n",
    "# We have model_metadata.pkl and target_model.pkl. Load metadata and target model\n",
    "# Load the model\n",
    "num_classes = train_loader.dataset.dataset.get_classes()\n",
    "model = ResNet18(num_classes=num_classes)\n",
    "model.load_state_dict(torch.load('./target/target_model.pkl'))\n",
    "model.eval()\n"
   ]
  },
  {
   "cell_type": "markdown",
   "metadata": {},
   "source": [
    "Remove dis.pth and gen.pth if you want LeakPro to enter training loop. Number of iterations set to n_iter = 10 in this example.\n",
    "\n",
    "Currently, result class is not setup."
   ]
  },
  {
   "cell_type": "code",
   "execution_count": null,
   "metadata": {},
   "outputs": [],
   "source": [
    "from leakpro import LeakPro\n",
    "from examples.minv.celebA.celebA_plgmi_handler import CelebA_InputHandler\n",
    "config_path = \"audit.yaml\"\n",
    "\n",
    "\n",
    "# Initialize the LeakPro object\n",
    "leakpro = LeakPro(CelebA_InputHandler, config_path)\n",
    "\n",
    "# Run the audit\n",
    "results = leakpro.run_audit(return_results=True)\n"
   ]
  },
  {
   "cell_type": "markdown",
   "metadata": {},
   "source": [
    "Generate some sample images"
   ]
  },
  {
   "cell_type": "code",
   "execution_count": null,
   "metadata": {},
   "outputs": [],
   "source": [
    "from examples.minv.celebA.utils.generator import ResNetGenerator\n",
    "import torch\n",
    "import matplotlib.pyplot as plt\n",
    "import numpy as np\n",
    "\n",
    "\"\"\"Generate example images using the trained generator\"\"\"\n",
    "\n",
    "device = torch.device('cuda' if torch.cuda.is_available() else 'cpu')\n",
    "\n",
    "# read config file\n",
    "with open('audit.yaml', 'r') as file:\n",
    "    config = yaml.safe_load(file)\n",
    "    \n",
    "\n",
    "dim_z = config['audit']['attack_list']['plgmi']['dim_z']\n",
    "\n",
    "# Load generator and discriminator\n",
    "gen = ResNetGenerator(num_classes=num_classes, dim_z=dim_z).to(device)\n",
    "gen.load_state_dict(torch.load('gen.pth'))\n",
    "\n",
    "# Generate images\n",
    "gen.eval()\n",
    "\n",
    "n_images = 4\n",
    "z = torch.empty(n_images, dim_z, dtype=torch.float32, device=device).normal_()\n",
    "y = torch.randint(0, num_classes, (n_images,)).to(device) # random labels\n",
    "#y = torch.tensor([0, 1, 2, 3]).to(device) # fixed labels\n",
    "print(y) \n",
    "\n",
    "with torch.no_grad():\n",
    "    fake = gen(z, y)\n",
    "\n",
    "# Normalize the generated images to the range [0, 1]\n",
    "fake = (fake - fake.min()) / (fake.max() - fake.min())\n",
    "\n",
    "# Plot the generated images\n",
    "plt.figure(figsize=(10, 5))\n",
    "for i in range(n_images):\n",
    "    plt.subplot(1, n_images, i + 1)\n",
    "    plt.imshow(np.transpose(fake[i].cpu().numpy(), (1, 2, 0)))\n",
    "    plt.axis('off')\n",
    "plt.tight_layout()\n",
    "plt.show()\n",
    "\n",
    "# Printed tensor corresponds to the reconstructed identity in private dataset"
   ]
  }
 ],
 "metadata": {
  "kernelspec": {
   "display_name": "base",
   "language": "python",
   "name": "python3"
  },
  "language_info": {
   "codemirror_mode": {
    "name": "ipython",
    "version": 3
   },
   "file_extension": ".py",
   "mimetype": "text/x-python",
   "name": "python",
   "nbconvert_exporter": "python",
   "pygments_lexer": "ipython3",
   "version": "3.12.8"
  }
 },
 "nbformat": 4,
 "nbformat_minor": 2
}
