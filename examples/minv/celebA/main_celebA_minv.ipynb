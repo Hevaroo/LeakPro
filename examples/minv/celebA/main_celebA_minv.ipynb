{
 "cells": [
  {
   "cell_type": "markdown",
   "metadata": {},
   "source": [
    "#### Face Identity Classification\n",
    "This example illustrates Model Inversion (MINV) attacks on a face identity classfier model. The classfier is trained on [Large-scale CelebA - Aligned&Cropped](https://mmlab.ie.cuhk.edu.hk/projects/CelebA.html) dataset. Please ensure the following structure in the data folder:\n",
    "\n",
    "directory_structure:\n",
    "\n",
    "```\n",
    "data/\n",
    "    ├── private/          # Private dataset\n",
    "    │   ├── identity_1/\n",
    "    │   │   ├── instance_1.jpg\n",
    "    │   │   ├── instance_2.jpg\n",
    "    │   │   └── ...\n",
    "    │   ├── identity_2/\n",
    "    │   │   ├── instance_1.jpg\n",
    "    │   │   ├── instance_2.jpg\n",
    "    │   │   └── ...\n",
    "    │   └── ...\n",
    "    └── public/           # Public dataset\n",
    "        ├── identity_1/\n",
    "        │   ├── instance_1.jpg\n",
    "        │   ├── instance_2.jpg\n",
    "        │   └── ...\n",
    "        ├── identity_2/\n",
    "        │   ├── instance_1.jpg\n",
    "        │   ├── instance_2.jpg\n",
    "        │   └── ...\n",
    "        └── ...      \n",
    "```\n"
   ]
  },
  {
   "cell_type": "markdown",
   "metadata": {},
   "source": [
    "To prepare data for this example:\n",
    "\n",
    "1. Download CelebA images \"img_align_celeba.zip\" from this [URL](https://drive.google.com/drive/folders/0B7EVK8r0v71pTUZsaXdaSnZBZzg?resourcekey=0-rJlzl934LzC-Xp28GeIBzQ) \n",
    "2. Download CelebA identities \"identity_CelebA.txt\" from this [URL](https://drive.google.com/drive/folders/0B7EVK8r0v71pOC0wOVZlQnFfaGs?resourcekey=0-pEjrQoTrlbjZJO2UL8K_WQ)\n",
    "3. Unzip \"img_align_celeba.zip\" and place /img_align_celeba folder in examples/minv/celebA/data/\n",
    "4. Place \"identity_CelebA.txt\" in examples/minv/celebA/data/\n",
    "5. In the cell below select n classes to use, and n_private classes as private, n - n_private will be public.\n",
    "6. Run the cell below\n",
    "\n",
    "After running this, img_align_celebA folder can be removed if desired."
   ]
  },
  {
   "cell_type": "code",
   "execution_count": 1,
   "metadata": {},
   "outputs": [
    {
     "name": "stdout",
     "output_type": "stream",
     "text": [
      "10.0 percent copied\n",
      "20.0 percent copied\n",
      "30.0 percent copied\n",
      "40.0 percent copied\n",
      "50.0 percent copied\n",
      "60.0 percent copied\n",
      "70.0 percent copied\n",
      "80.0 percent copied\n",
      "90.0 percent copied\n",
      "100.0 percent copied\n"
     ]
    }
   ],
   "source": [
    "# Description: This script partitions the CelebA dataset into public and private folders based on the identity of the person in the image.\n",
    "\n",
    "import pandas as pd\n",
    "import os\n",
    "import shutil\n",
    "\n",
    "# read img_align_celeba/identity_CelebA.txt\n",
    "df = pd.read_csv('./data/identity_CelebA.txt', sep=' ', header=None)\n",
    "df.columns = ['img', 'label']\n",
    "\n",
    "# Parameters\n",
    "n = 1000 # total number of classes to take, max 10177\n",
    "n_private = 500 # number of classes to be private, max 10177 and <= n. The rest will be public\n",
    "\n",
    "# Create folders\n",
    "os.makedirs('./data', exist_ok=True)\n",
    "os.makedirs('./data/private', exist_ok=True)\n",
    "os.makedirs('./data/public', exist_ok=True)\n",
    "\n",
    "# Copy images to folders based on label\n",
    "for i in range(1,n+1):\n",
    "    if i <= n_private:\n",
    "        # folder name should be 0-indexed\n",
    "        # so we subtract 1 from the label\n",
    "        os.makedirs('./data/private/' + str(i-1), exist_ok=True)\n",
    "        for img in df[df['label'] == i]['img']:          \n",
    "            shutil.copy('./data/img_align_celeba/' + img, './data/private/' + str(i-1) + '/' + img)\n",
    "    else:\n",
    "        os.makedirs('./data/public/' + str(i-1), exist_ok=True)\n",
    "        for img in df[df['label'] == i]['img']:\n",
    "            shutil.copy('./data/img_align_celeba/' + img, './data/public/' + str(i-1) + '/' + img)\n",
    "    if i % 100 == 0:\n",
    "        print(i / n * 100, 'percent copied')"
   ]
  },
  {
   "cell_type": "markdown",
   "metadata": {},
   "source": [
    "# Train the target model"
   ]
  },
  {
   "cell_type": "code",
   "execution_count": 1,
   "metadata": {},
   "outputs": [],
   "source": [
    "import os\n",
    "import sys\n",
    "import yaml\n",
    "\n",
    "# Path to the dataset zip file\n",
    "data_folder = \"./data\"\n",
    "\n",
    "\n",
    "project_root = os.path.abspath(os.path.join(os.getcwd(), \"../../..\"))\n",
    "sys.path.append(project_root)"
   ]
  },
  {
   "cell_type": "code",
   "execution_count": 2,
   "metadata": {},
   "outputs": [
    {
     "name": "stdout",
     "output_type": "stream",
     "text": [
      "Save data to ./data/celebA_private_data.pkl\n"
     ]
    }
   ],
   "source": [
    "from examples.minv.celebA.utils.celebA_data import get_celebA_train_test_loader\n",
    "\n",
    "# Load the config.yaml file\n",
    "with open('train_config.yaml', 'r') as file:\n",
    "    train_config = yaml.safe_load(file)\n",
    "\n",
    "# Generate the dataset and dataloaders\n",
    "path = os.path.join(os.getcwd(), train_config[\"data\"][\"data_dir\"])\n",
    "\n",
    "#print(train_config)\n",
    "\n",
    "train_loader, test_loader = get_celebA_train_test_loader(train_config)\n",
    "\n",
    "num_classes = train_loader.dataset.dataset.get_classes()"
   ]
  },
  {
   "cell_type": "code",
   "execution_count": 5,
   "metadata": {},
   "outputs": [
    {
     "data": {
      "image/png": "[encoded data removed]",
      "text/plain": [
       "<Figure size 640x480 with 1 Axes>"
      ]
     },
     "metadata": {},
     "output_type": "display_data"
    }
   ],
   "source": [
    "# plot images and labels in train_loader\n",
    "import matplotlib.pyplot as plt\n",
    "import numpy as np\n",
    "import torchvision\n",
    "\n",
    "# plot image and label in train_loader by index\n",
    "def plot_image_and_label(train_loader, index):\n",
    "    image, label = train_loader.dataset[index]\n",
    "    image = image.numpy().transpose((1, 2, 0))\n",
    "    plt.imshow(image)\n",
    "    plt.title(f\"Label: {label}\")\n",
    "    plt.show()\n",
    "\n",
    "x = np.random.randint(0, len(train_loader.dataset)-1)\n",
    "plot_image_and_label(train_loader, x)\n"
   ]
  },
  {
   "cell_type": "markdown",
   "metadata": {},
   "source": [
    "Run this cell if you want to train the model, otherwise skip this and load it in cell below public loader"
   ]
  },
  {
   "cell_type": "code",
   "execution_count": null,
   "metadata": {},
   "outputs": [
    {
     "name": "stdout",
     "output_type": "stream",
     "text": [
      "500\n"
     ]
    },
    {
     "name": "stderr",
     "output_type": "stream",
     "text": [
      "Training Progress: 100%|██████████| 30/30 [02:26<00:00,  4.88s/it]\n"
     ]
    },
    {
     "ename": "ValidationError",
     "evalue": "5 validation errors for OptimizerConfig\nlr\n  Extra inputs are not permitted [type=extra_forbidden, input_value=0.001, input_type=float]\n    For further information visit https://errors.pydantic.dev/2.10/v/extra_forbidden\nweight_decay\n  Extra inputs are not permitted [type=extra_forbidden, input_value=0.001, input_type=float]\n    For further information visit https://errors.pydantic.dev/2.10/v/extra_forbidden\nmomentum\n  Extra inputs are not permitted [type=extra_forbidden, input_value=0.9, input_type=float]\n    For further information visit https://errors.pydantic.dev/2.10/v/extra_forbidden\ndampening\n  Extra inputs are not permitted [type=extra_forbidden, input_value=0, input_type=int]\n    For further information visit https://errors.pydantic.dev/2.10/v/extra_forbidden\nnesterov\n  Extra inputs are not permitted [type=extra_forbidden, input_value=False, input_type=bool]\n    For further information visit https://errors.pydantic.dev/2.10/v/extra_forbidden",
     "output_type": "error",
     "traceback": [
      "\u001b[0;31m---------------------------------------------------------------------------\u001b[0m",
      "\u001b[0;31mValidationError\u001b[0m                           Traceback (most recent call last)",
      "Cell \u001b[0;32mIn[7], line 15\u001b[0m\n\u001b[1;32m     11\u001b[0m device \u001b[38;5;241m=\u001b[39m \u001b[38;5;124m'\u001b[39m\u001b[38;5;124mcuda\u001b[39m\u001b[38;5;124m'\u001b[39m \u001b[38;5;28;01mif\u001b[39;00m torch\u001b[38;5;241m.\u001b[39mcuda\u001b[38;5;241m.\u001b[39mis_available() \u001b[38;5;28;01melse\u001b[39;00m \u001b[38;5;124m'\u001b[39m\u001b[38;5;124mcpu\u001b[39m\u001b[38;5;124m'\u001b[39m\n\u001b[1;32m     14\u001b[0m \u001b[38;5;66;03m# Load the model\u001b[39;00m\n\u001b[0;32m---> 15\u001b[0m train_acc, train_loss, test_acc, test_loss \u001b[38;5;241m=\u001b[39m \u001b[43mcreate_trained_model_and_metadata\u001b[49m\u001b[43m(\u001b[49m\u001b[43mmodel\u001b[49m\u001b[43m,\u001b[49m\u001b[43mtrain_loader\u001b[49m\u001b[43m,\u001b[49m\u001b[43mtest_loader\u001b[49m\u001b[43m,\u001b[49m\u001b[43m \u001b[49m\u001b[43mtrain_config\u001b[49m\u001b[43m)\u001b[49m\n",
      "File \u001b[0;32m~/LeakPro_fork_oscar/examples/mia/celebA_HQ/utils/celeb_hq_model.py:113\u001b[0m, in \u001b[0;36mcreate_trained_model_and_metadata\u001b[0;34m(model, train_loader, test_loader, train_config)\u001b[0m\n\u001b[1;32m     97\u001b[0m optimizer_data \u001b[38;5;241m=\u001b[39m {\n\u001b[1;32m     98\u001b[0m     \u001b[38;5;124m\"\u001b[39m\u001b[38;5;124mname\u001b[39m\u001b[38;5;124m\"\u001b[39m: optimizer\u001b[38;5;241m.\u001b[39m\u001b[38;5;18m__class__\u001b[39m\u001b[38;5;241m.\u001b[39m\u001b[38;5;18m__name__\u001b[39m\u001b[38;5;241m.\u001b[39mlower(),\n\u001b[1;32m     99\u001b[0m     \u001b[38;5;124m\"\u001b[39m\u001b[38;5;124mlr\u001b[39m\u001b[38;5;124m\"\u001b[39m: optimizer\u001b[38;5;241m.\u001b[39mparam_groups[\u001b[38;5;241m0\u001b[39m]\u001b[38;5;241m.\u001b[39mget(\u001b[38;5;124m\"\u001b[39m\u001b[38;5;124mlr\u001b[39m\u001b[38;5;124m\"\u001b[39m, \u001b[38;5;241m0\u001b[39m),\n\u001b[0;32m   (...)\u001b[0m\n\u001b[1;32m    103\u001b[0m     \u001b[38;5;124m\"\u001b[39m\u001b[38;5;124mnesterov\u001b[39m\u001b[38;5;124m\"\u001b[39m: optimizer\u001b[38;5;241m.\u001b[39mparam_groups[\u001b[38;5;241m0\u001b[39m]\u001b[38;5;241m.\u001b[39mget(\u001b[38;5;124m\"\u001b[39m\u001b[38;5;124mnesterov\u001b[39m\u001b[38;5;124m\"\u001b[39m, \u001b[38;5;28;01mFalse\u001b[39;00m)\n\u001b[1;32m    104\u001b[0m }\n\u001b[1;32m    106\u001b[0m loss_data \u001b[38;5;241m=\u001b[39m {\u001b[38;5;124m\"\u001b[39m\u001b[38;5;124mname\u001b[39m\u001b[38;5;124m\"\u001b[39m: criterion\u001b[38;5;241m.\u001b[39m\u001b[38;5;18m__class__\u001b[39m\u001b[38;5;241m.\u001b[39m\u001b[38;5;18m__name__\u001b[39m\u001b[38;5;241m.\u001b[39mlower()}\n\u001b[1;32m    108\u001b[0m meta_data \u001b[38;5;241m=\u001b[39m MIAMetaDataSchema(\n\u001b[1;32m    109\u001b[0m         train_indices\u001b[38;5;241m=\u001b[39mtrain_loader\u001b[38;5;241m.\u001b[39mdataset\u001b[38;5;241m.\u001b[39mindices,\n\u001b[1;32m    110\u001b[0m         test_indices\u001b[38;5;241m=\u001b[39mtest_loader\u001b[38;5;241m.\u001b[39mdataset\u001b[38;5;241m.\u001b[39mindices,\n\u001b[1;32m    111\u001b[0m         num_train\u001b[38;5;241m=\u001b[39m\u001b[38;5;28mlen\u001b[39m(train_loader\u001b[38;5;241m.\u001b[39mdataset\u001b[38;5;241m.\u001b[39mindices),\n\u001b[1;32m    112\u001b[0m         init_params\u001b[38;5;241m=\u001b[39minit_params,\n\u001b[0;32m--> 113\u001b[0m         optimizer\u001b[38;5;241m=\u001b[39m\u001b[43mOptimizerConfig\u001b[49m\u001b[43m(\u001b[49m\u001b[38;5;241;43m*\u001b[39;49m\u001b[38;5;241;43m*\u001b[39;49m\u001b[43moptimizer_data\u001b[49m\u001b[43m)\u001b[49m,\n\u001b[1;32m    114\u001b[0m         criterion\u001b[38;5;241m=\u001b[39mLossConfig(\u001b[38;5;241m*\u001b[39m\u001b[38;5;241m*\u001b[39mloss_data),\n\u001b[1;32m    115\u001b[0m         batch_size\u001b[38;5;241m=\u001b[39mtrain_loader\u001b[38;5;241m.\u001b[39mbatch_size,\n\u001b[1;32m    116\u001b[0m         epochs\u001b[38;5;241m=\u001b[39mepochs,\n\u001b[1;32m    117\u001b[0m         train_acc\u001b[38;5;241m=\u001b[39mtrain_acc,\n\u001b[1;32m    118\u001b[0m         test_acc\u001b[38;5;241m=\u001b[39mtest_acc,\n\u001b[1;32m    119\u001b[0m         train_loss\u001b[38;5;241m=\u001b[39mtrain_loss,\n\u001b[1;32m    120\u001b[0m         test_loss\u001b[38;5;241m=\u001b[39mtest_loss,\n\u001b[1;32m    121\u001b[0m         dataset\u001b[38;5;241m=\u001b[39m\u001b[38;5;124m\"\u001b[39m\u001b[38;5;124mmimiciii\u001b[39m\u001b[38;5;124m\"\u001b[39m\n\u001b[1;32m    122\u001b[0m     )\n\u001b[1;32m    124\u001b[0m \u001b[38;5;28;01mwith\u001b[39;00m \u001b[38;5;28mopen\u001b[39m(\u001b[38;5;124m\"\u001b[39m\u001b[38;5;124mtarget/model_metadata.pkl\u001b[39m\u001b[38;5;124m\"\u001b[39m, \u001b[38;5;124m\"\u001b[39m\u001b[38;5;124mwb\u001b[39m\u001b[38;5;124m\"\u001b[39m) \u001b[38;5;28;01mas\u001b[39;00m f:\n\u001b[1;32m    125\u001b[0m     pickle\u001b[38;5;241m.\u001b[39mdump(meta_data, f)\n",
      "File \u001b[0;32m~/miniforge3/lib/python3.12/site-packages/pydantic/main.py:214\u001b[0m, in \u001b[0;36mBaseModel.__init__\u001b[0;34m(self, **data)\u001b[0m\n\u001b[1;32m    212\u001b[0m \u001b[38;5;66;03m# `__tracebackhide__` tells pytest and some other tools to omit this function from tracebacks\u001b[39;00m\n\u001b[1;32m    213\u001b[0m __tracebackhide__ \u001b[38;5;241m=\u001b[39m \u001b[38;5;28;01mTrue\u001b[39;00m\n\u001b[0;32m--> 214\u001b[0m validated_self \u001b[38;5;241m=\u001b[39m \u001b[38;5;28;43mself\u001b[39;49m\u001b[38;5;241;43m.\u001b[39;49m\u001b[43m__pydantic_validator__\u001b[49m\u001b[38;5;241;43m.\u001b[39;49m\u001b[43mvalidate_python\u001b[49m\u001b[43m(\u001b[49m\u001b[43mdata\u001b[49m\u001b[43m,\u001b[49m\u001b[43m \u001b[49m\u001b[43mself_instance\u001b[49m\u001b[38;5;241;43m=\u001b[39;49m\u001b[38;5;28;43mself\u001b[39;49m\u001b[43m)\u001b[49m\n\u001b[1;32m    215\u001b[0m \u001b[38;5;28;01mif\u001b[39;00m \u001b[38;5;28mself\u001b[39m \u001b[38;5;129;01mis\u001b[39;00m \u001b[38;5;129;01mnot\u001b[39;00m validated_self:\n\u001b[1;32m    216\u001b[0m     warnings\u001b[38;5;241m.\u001b[39mwarn(\n\u001b[1;32m    217\u001b[0m         \u001b[38;5;124m'\u001b[39m\u001b[38;5;124mA custom validator is returning a value other than `self`.\u001b[39m\u001b[38;5;130;01m\\n\u001b[39;00m\u001b[38;5;124m'\u001b[39m\n\u001b[1;32m    218\u001b[0m         \u001b[38;5;124m\"\u001b[39m\u001b[38;5;124mReturning anything other than `self` from a top level model validator isn\u001b[39m\u001b[38;5;124m'\u001b[39m\u001b[38;5;124mt supported when validating via `__init__`.\u001b[39m\u001b[38;5;130;01m\\n\u001b[39;00m\u001b[38;5;124m\"\u001b[39m\n\u001b[1;32m    219\u001b[0m         \u001b[38;5;124m'\u001b[39m\u001b[38;5;124mSee the `model_validator` docs (https://docs.pydantic.dev/latest/concepts/validators/#model-validators) for more details.\u001b[39m\u001b[38;5;124m'\u001b[39m,\n\u001b[1;32m    220\u001b[0m         stacklevel\u001b[38;5;241m=\u001b[39m\u001b[38;5;241m2\u001b[39m,\n\u001b[1;32m    221\u001b[0m     )\n",
      "\u001b[0;31mValidationError\u001b[0m: 5 validation errors for OptimizerConfig\nlr\n  Extra inputs are not permitted [type=extra_forbidden, input_value=0.001, input_type=float]\n    For further information visit https://errors.pydantic.dev/2.10/v/extra_forbidden\nweight_decay\n  Extra inputs are not permitted [type=extra_forbidden, input_value=0.001, input_type=float]\n    For further information visit https://errors.pydantic.dev/2.10/v/extra_forbidden\nmomentum\n  Extra inputs are not permitted [type=extra_forbidden, input_value=0.9, input_type=float]\n    For further information visit https://errors.pydantic.dev/2.10/v/extra_forbidden\ndampening\n  Extra inputs are not permitted [type=extra_forbidden, input_value=0, input_type=int]\n    For further information visit https://errors.pydantic.dev/2.10/v/extra_forbidden\nnesterov\n  Extra inputs are not permitted [type=extra_forbidden, input_value=False, input_type=bool]\n    For further information visit https://errors.pydantic.dev/2.10/v/extra_forbidden"
     ]
    }
   ],
   "source": [
    "from utils.resnet152_model import ResNet152\n",
    "from utils.resnet152_model import create_trained_model_and_metadata\n",
    "# Get number of classes from the train_loader\n",
    "num_classes = train_loader.dataset.dataset.get_classes()\n",
    "print(num_classes)\n",
    "\n",
    "import torch\n",
    "# Create the model\n",
    "model = ResNet152(num_classes=num_classes)\n",
    "\n",
    "device = 'cuda' if torch.cuda.is_available() else 'cpu'\n",
    "\n",
    "\n",
    "# Load the model\n",
    "train_acc, train_loss, test_acc, test_loss = create_trained_model_and_metadata(model,train_loader,test_loader, train_config)"
   ]
  },
  {
   "cell_type": "code",
   "execution_count": null,
   "metadata": {},
   "outputs": [],
   "source": [
    "import matplotlib.pyplot as plt\n",
    "\n",
    "# Plot training and test accuracy\n",
    "plt.figure(figsize=(5, 4))\n",
    "\n",
    "plt.subplot(1, 2, 1)\n",
    "plt.plot(train_acc, label='Train Accuracy')\n",
    "plt.plot(test_acc, label='Test Accuracy')\n",
    "plt.xlabel('Epoch')\n",
    "plt.ylabel('Accuracy')\n",
    "plt.title('Accuracy over Epochs')\n",
    "plt.legend()\n",
    "\n",
    "# Plot training and test loss\n",
    "plt.subplot(1, 2, 2)\n",
    "plt.plot(train_loss, label='Train Loss')\n",
    "plt.plot(test_loss, label='Test Loss')\n",
    "plt.xlabel('Epoch')\n",
    "plt.ylabel('Loss')\n",
    "plt.title('Loss over Epochs')\n",
    "plt.legend()\n",
    "\n",
    "plt.tight_layout()\n",
    "plt.show()"
   ]
  },
  {
   "cell_type": "code",
   "execution_count": null,
   "metadata": {},
   "outputs": [],
   "source": [
    "# Public loader\n",
    "from examples.minv.celebA.utils.celebA_data import get_celebA_publicloader\n",
    "\n",
    "pub_loader = get_celebA_publicloader(train_config)\n"
   ]
  },
  {
   "cell_type": "code",
   "execution_count": null,
   "metadata": {},
   "outputs": [],
   "source": [
    "import torch\n",
    "from torch.nn import functional as F\n",
    "import numpy as np\n",
    "from examples.mia.celebA_HQ.utils.celeb_hq_model import ResNet18\n",
    "\n",
    "# We have model_metadata.pkl and target_model.pkl. Load metadata and target model\n",
    "# Load the model\n",
    "num_classes = train_loader.dataset.dataset.get_classes()\n",
    "model = ResNet18(num_classes=num_classes)\n",
    "model.load_state_dict(torch.load('./target/target_model.pkl'))\n",
    "model.eval()\n"
   ]
  },
  {
   "cell_type": "markdown",
   "metadata": {},
   "source": [
    "Remove dis.pth and gen.pth if you want LeakPro to enter training loop. Number of iterations set to n_iter = 10 in this example.\n",
    "\n",
    "Currently, result class is not setup."
   ]
  },
  {
   "cell_type": "code",
   "execution_count": null,
   "metadata": {},
   "outputs": [],
   "source": [
    "from leakpro import LeakPro\n",
    "from examples.minv.celebA.celebA_plgmi_handler import CelebA_InputHandler\n",
    "config_path = \"audit.yaml\"\n",
    "\n",
    "\n",
    "# Initialize the LeakPro object\n",
    "leakpro = LeakPro(CelebA_InputHandler, config_path)\n",
    "\n",
    "# Run the audit\n",
    "results = leakpro.run_audit(return_results=True)\n"
   ]
  },
  {
   "cell_type": "markdown",
   "metadata": {},
   "source": [
    "Generate some sample images"
   ]
  },
  {
   "cell_type": "code",
   "execution_count": null,
   "metadata": {},
   "outputs": [],
   "source": [
    "from examples.minv.celebA.utils.generator import ResNetGenerator\n",
    "import torch\n",
    "import matplotlib.pyplot as plt\n",
    "import numpy as np\n",
    "\n",
    "\"\"\"Generate example images using the trained generator\"\"\"\n",
    "\n",
    "device = torch.device('cuda' if torch.cuda.is_available() else 'cpu')\n",
    "\n",
    "# read config file\n",
    "with open('audit.yaml', 'r') as file:\n",
    "    config = yaml.safe_load(file)\n",
    "    \n",
    "\n",
    "dim_z = config['audit']['attack_list']['plgmi']['dim_z']\n",
    "\n",
    "# Load generator and discriminator\n",
    "gen = ResNetGenerator(num_classes=num_classes, dim_z=dim_z).to(device)\n",
    "gen.load_state_dict(torch.load('gen.pth'))\n",
    "\n",
    "# Generate images\n",
    "gen.eval()\n",
    "\n",
    "n_images = 4\n",
    "z = torch.empty(n_images, dim_z, dtype=torch.float32, device=device).normal_()\n",
    "y = torch.randint(0, num_classes, (n_images,)).to(device) # random labels\n",
    "#y = torch.tensor([0, 1, 2, 3]).to(device) # fixed labels\n",
    "print(y) \n",
    "\n",
    "with torch.no_grad():\n",
    "    fake = gen(z, y)\n",
    "\n",
    "# Normalize the generated images to the range [0, 1]\n",
    "fake = (fake - fake.min()) / (fake.max() - fake.min())\n",
    "\n",
    "# Plot the generated images\n",
    "plt.figure(figsize=(10, 5))\n",
    "for i in range(n_images):\n",
    "    plt.subplot(1, n_images, i + 1)\n",
    "    plt.imshow(np.transpose(fake[i].cpu().numpy(), (1, 2, 0)))\n",
    "    plt.axis('off')\n",
    "plt.tight_layout()\n",
    "plt.show()\n",
    "\n",
    "# Printed tensor corresponds to the reconstructed identity in private dataset"
   ]
  }
 ],
 "metadata": {
  "kernelspec": {
   "display_name": "base",
   "language": "python",
   "name": "python3"
  },
  "language_info": {
   "codemirror_mode": {
    "name": "ipython",
    "version": 3
   },
   "file_extension": ".py",
   "mimetype": "text/x-python",
   "name": "python",
   "nbconvert_exporter": "python",
   "pygments_lexer": "ipython3",
   "version": "3.12.8"
  }
 },
 "nbformat": 4,
 "nbformat_minor": 2
}
