{
 "cells": [
  {
   "cell_type": "markdown",
   "metadata": {},
   "source": [
    "### Test to see what happens with minv-related handlers in leakpro"
   ]
  },
  {
   "cell_type": "code",
   "execution_count": 1,
   "metadata": {},
   "outputs": [
    {
     "name": "stderr",
     "output_type": "stream",
     "text": [
      "2025-02-19 09:36:59,551 INFO     Target model blueprint created from ResNet18 in ../../mia/celebA_HQ/utils/celeb_hq_model.py.\n",
      "INFO:leakpro:Target model blueprint created from ResNet18 in ../../mia/celebA_HQ/utils/celeb_hq_model.py.\n",
      "2025-02-19 09:36:59,552 INFO     Loaded target model metadata from ./target/model_metadata.pkl\n",
      "INFO:leakpro:Loaded target model metadata from ./target/model_metadata.pkl\n"
     ]
    },
    {
     "name": "stdout",
     "output_type": "stream",
     "text": [
      "Configurations: {'audit': {'random_seed': 1234, 'attack_list': {'plgmi': {'training_data_fraction': 0.5, 'attack_data_fraction': 0.5, 'num_shadow_models': 3, 'online': True, 'temperature': 2, 'gamma': 2.0, 'offline_a': 0.33, 'offline_b': 0.66, 'num_classes': 500, 'log_interval': 10}}, 'output_dir': './leakpro_output', 'attack_type': 'minv', 'modality': 'image'}, 'target': {'module_path': '../../mia/celebA_HQ/utils/celeb_hq_model.py', 'model_class': 'ResNet18', 'target_folder': './target', 'data_path': './data/celebaA_data.pkl'}, 'shadow_model': None, 'distillation_model': None, 'generator': {'module_path': './utils/generator.py', 'model_class': 'ResNetGenerator', 'checkpoint_path': 'generator.pth', 'init_params': {'dim_z': 256, 'num_classes': 500, 'bottom_width': 4}}, 'discriminator': {'module_path': './utils/discriminator.py', 'model_class': 'SNResNetProjectionDiscriminator', 'checkpoint_path': 'discriminator.pth', 'init_params': {'num_classes': 500}}, 'public_dataset': {'public_data_path': './data/celebaA_aux_data.pkl'}}\n"
     ]
    },
    {
     "name": "stderr",
     "output_type": "stream",
     "text": [
      "2025-02-19 09:36:59,863 INFO     Loaded target model from ./target\n",
      "INFO:leakpro:Loaded target model from ./target\n",
      "2025-02-19 09:37:01,919 INFO     Loaded population dataset from ./data/celebaA_data.pkl\n",
      "INFO:leakpro:Loaded population dataset from ./data/celebaA_data.pkl\n",
      "2025-02-19 09:37:01,921 INFO     Loaded population dataset from ./data/celebaA_data.pkl\n",
      "INFO:leakpro:Loaded population dataset from ./data/celebaA_data.pkl\n",
      "2025-02-19 09:37:02,253 INFO     MINV attack factory loaded.\n",
      "INFO:leakpro:MINV attack factory loaded.\n",
      "2025-02-19 09:37:02,255 INFO     Configuring PLG-MI attack\n",
      "INFO:leakpro:Configuring PLG-MI attack\n",
      "2025-02-19 09:37:02,279 INFO     Added attack: plgmi\n",
      "INFO:leakpro:Added attack: plgmi\n",
      "2025-02-19 09:37:02,280 INFO     Preparing attack: plgmi\n",
      "INFO:leakpro:Preparing attack: plgmi\n",
      "2025-02-19 09:37:02,281 INFO     Preparing attack\n",
      "INFO:leakpro:Preparing attack\n",
      "2025-02-19 09:37:02,282 INFO     Setting up generator configurations\n",
      "INFO:leakpro:Setting up generator configurations\n",
      "2025-02-19 09:37:02,283 INFO     Generator path: ./utils/generator.py, Generator class: ResNetGenerator\n",
      "INFO:leakpro:Generator path: ./utils/generator.py, Generator class: ResNetGenerator\n",
      "2025-02-19 09:37:02,284 INFO     Initialized GeneratorHandler with caller: gan_handler\n",
      "INFO:leakpro:Initialized GeneratorHandler with caller: gan_handler\n",
      "2025-02-19 09:37:02,285 INFO     Setting up discriminator configurations\n",
      "INFO:leakpro:Setting up discriminator configurations\n",
      "2025-02-19 09:37:03,247 INFO     Loaded public data from ./data/celebaA_aux_data.pkl\n",
      "INFO:leakpro:Loaded public data from ./data/celebaA_aux_data.pkl\n",
      "2025-02-19 09:37:03,248 INFO     Performing top-n selection for pseudo labels\n",
      "INFO:leakpro:Performing top-n selection for pseudo labels\n",
      "2025-02-19 09:37:12,982 INFO     Retrieved confidences from the target model\n",
      "INFO:leakpro:Retrieved confidences from the target model\n",
      "2025-02-19 09:37:13,044 INFO     Created pseudo dataloader\n",
      "INFO:leakpro:Created pseudo dataloader\n",
      "2025-02-19 09:37:13,465 INFO     Getting generator model with init params: {'dim_z': 256, 'num_classes': 500, 'bottom_width': 4}\n",
      "INFO:leakpro:Getting generator model with init params: {'dim_z': 256, 'num_classes': 500, 'bottom_width': 4}\n"
     ]
    },
    {
     "ename": "RuntimeError",
     "evalue": "Error(s) in loading state_dict for ResNetGenerator:\n\tsize mismatch for l1.weight: copying a param with shape torch.Size([16384, 128]) from checkpoint, the shape in current model is torch.Size([16384, 256]).",
     "output_type": "error",
     "traceback": [
      "\u001b[0;31m---------------------------------------------------------------------------\u001b[0m",
      "\u001b[0;31mRuntimeError\u001b[0m                              Traceback (most recent call last)",
      "Cell \u001b[0;32mIn[1], line 18\u001b[0m\n\u001b[1;32m     14\u001b[0m config_path \u001b[38;5;241m=\u001b[39m \u001b[38;5;124m\"\u001b[39m\u001b[38;5;124maudit.yaml\u001b[39m\u001b[38;5;124m\"\u001b[39m\n\u001b[1;32m     16\u001b[0m leakpro \u001b[38;5;241m=\u001b[39m LeakPro(CelebA_InputHandler, config_path)\n\u001b[0;32m---> 18\u001b[0m results \u001b[38;5;241m=\u001b[39m \u001b[43mleakpro\u001b[49m\u001b[38;5;241;43m.\u001b[39;49m\u001b[43mrun_audit\u001b[49m\u001b[43m(\u001b[49m\u001b[43mreturn_results\u001b[49m\u001b[38;5;241;43m=\u001b[39;49m\u001b[38;5;28;43;01mTrue\u001b[39;49;00m\u001b[43m)\u001b[49m  \n",
      "File \u001b[0;32m~/LeakPro_fork_hevar/leakpro/leakpro.py:130\u001b[0m, in \u001b[0;36mLeakPro.run_audit\u001b[0;34m(self, return_results)\u001b[0m\n\u001b[1;32m    128\u001b[0m \u001b[38;5;28;01mdef\u001b[39;00m\u001b[38;5;250m \u001b[39m\u001b[38;5;21mrun_audit\u001b[39m(\u001b[38;5;28mself\u001b[39m:Self, return_results: \u001b[38;5;28mbool\u001b[39m \u001b[38;5;241m=\u001b[39m \u001b[38;5;28;01mFalse\u001b[39;00m) \u001b[38;5;241m-\u001b[39m\u001b[38;5;241m>\u001b[39m \u001b[38;5;28;01mNone\u001b[39;00m:\n\u001b[1;32m    129\u001b[0m \u001b[38;5;250m    \u001b[39m\u001b[38;5;124;03m\"\"\"Run the audit.\"\"\"\u001b[39;00m\n\u001b[0;32m--> 130\u001b[0m     audit_results \u001b[38;5;241m=\u001b[39m \u001b[38;5;28;43mself\u001b[39;49m\u001b[38;5;241;43m.\u001b[39;49m\u001b[43mattack_scheduler\u001b[49m\u001b[38;5;241;43m.\u001b[39;49m\u001b[43mrun_attacks\u001b[49m\u001b[43m(\u001b[49m\u001b[43m)\u001b[49m\n\u001b[1;32m    131\u001b[0m     results \u001b[38;5;241m=\u001b[39m [] \u001b[38;5;28;01mif\u001b[39;00m return_results \u001b[38;5;28;01melse\u001b[39;00m \u001b[38;5;28;01mNone\u001b[39;00m\n\u001b[1;32m    133\u001b[0m     \u001b[38;5;28;01mfor\u001b[39;00m attack_name \u001b[38;5;129;01min\u001b[39;00m audit_results:\n",
      "File \u001b[0;32m~/LeakPro_fork_hevar/leakpro/attacks/attack_scheduler.py:84\u001b[0m, in \u001b[0;36mAttackScheduler.run_attacks\u001b[0;34m(self)\u001b[0m\n\u001b[1;32m     82\u001b[0m \u001b[38;5;28;01mfor\u001b[39;00m attack, attack_type \u001b[38;5;129;01min\u001b[39;00m \u001b[38;5;28mzip\u001b[39m(\u001b[38;5;28mself\u001b[39m\u001b[38;5;241m.\u001b[39mattacks, \u001b[38;5;28mself\u001b[39m\u001b[38;5;241m.\u001b[39mattack_list):\n\u001b[1;32m     83\u001b[0m     logger\u001b[38;5;241m.\u001b[39minfo(\u001b[38;5;124mf\u001b[39m\u001b[38;5;124m\"\u001b[39m\u001b[38;5;124mPreparing attack: \u001b[39m\u001b[38;5;132;01m{\u001b[39;00mattack_type\u001b[38;5;132;01m}\u001b[39;00m\u001b[38;5;124m\"\u001b[39m)\n\u001b[0;32m---> 84\u001b[0m     \u001b[43mattack\u001b[49m\u001b[38;5;241;43m.\u001b[39;49m\u001b[43mprepare_attack\u001b[49m\u001b[43m(\u001b[49m\u001b[43m)\u001b[49m\n\u001b[1;32m     86\u001b[0m     logger\u001b[38;5;241m.\u001b[39minfo(\u001b[38;5;124mf\u001b[39m\u001b[38;5;124m\"\u001b[39m\u001b[38;5;124mRunning attack: \u001b[39m\u001b[38;5;132;01m{\u001b[39;00mattack_type\u001b[38;5;132;01m}\u001b[39;00m\u001b[38;5;124m\"\u001b[39m)\n\u001b[1;32m     88\u001b[0m     result \u001b[38;5;241m=\u001b[39m attack\u001b[38;5;241m.\u001b[39mrun_attack()\n",
      "File \u001b[0;32m~/LeakPro_fork_hevar/leakpro/attacks/minv_attacks/plgmi.py:149\u001b[0m, in \u001b[0;36mAttackPLGMI.prepare_attack\u001b[0;34m(self)\u001b[0m\n\u001b[1;32m    146\u001b[0m \u001b[38;5;28mself\u001b[39m\u001b[38;5;241m.\u001b[39mdiscriminator \u001b[38;5;241m=\u001b[39m \u001b[38;5;28mself\u001b[39m\u001b[38;5;241m.\u001b[39mgan_handler\u001b[38;5;241m.\u001b[39mget_discriminator()\n\u001b[1;32m    148\u001b[0m \u001b[38;5;66;03m# Get generator\u001b[39;00m\n\u001b[0;32m--> 149\u001b[0m \u001b[38;5;28mself\u001b[39m\u001b[38;5;241m.\u001b[39mgenerator \u001b[38;5;241m=\u001b[39m \u001b[38;5;28;43mself\u001b[39;49m\u001b[38;5;241;43m.\u001b[39;49m\u001b[43mgan_handler\u001b[49m\u001b[38;5;241;43m.\u001b[39;49m\u001b[43mget_generator\u001b[49m\u001b[43m(\u001b[49m\u001b[43m)\u001b[49m\n\u001b[1;32m    151\u001b[0m \u001b[38;5;66;03m# Set Adam optimizer for both generator and discriminator\u001b[39;00m\n\u001b[1;32m    152\u001b[0m \u001b[38;5;28mself\u001b[39m\u001b[38;5;241m.\u001b[39mgen_optimizer \u001b[38;5;241m=\u001b[39m torch\u001b[38;5;241m.\u001b[39moptim\u001b[38;5;241m.\u001b[39mAdam(\u001b[38;5;28mself\u001b[39m\u001b[38;5;241m.\u001b[39mgenerator\u001b[38;5;241m.\u001b[39mparameters(), lr\u001b[38;5;241m=\u001b[39m\u001b[38;5;28mself\u001b[39m\u001b[38;5;241m.\u001b[39mgen_lr,\n\u001b[1;32m    153\u001b[0m                                       betas\u001b[38;5;241m=\u001b[39m(\u001b[38;5;28mself\u001b[39m\u001b[38;5;241m.\u001b[39mgen_beta1, \u001b[38;5;28mself\u001b[39m\u001b[38;5;241m.\u001b[39mgen_beta2))\n",
      "File \u001b[0;32m~/LeakPro_fork_hevar/leakpro/attacks/utils/generator_handler.py:44\u001b[0m, in \u001b[0;36mGeneratorHandler.get_generator\u001b[0;34m(self)\u001b[0m\n\u001b[1;32m     42\u001b[0m generator \u001b[38;5;241m=\u001b[39m \u001b[38;5;28mself\u001b[39m\u001b[38;5;241m.\u001b[39mgenerator_blueprint(\u001b[38;5;241m*\u001b[39m\u001b[38;5;241m*\u001b[39m\u001b[38;5;28mself\u001b[39m\u001b[38;5;241m.\u001b[39mgen_init_params)\n\u001b[1;32m     43\u001b[0m \u001b[38;5;28;01mif\u001b[39;00m \u001b[38;5;28mself\u001b[39m\u001b[38;5;241m.\u001b[39mgenerator_checkpoint \u001b[38;5;129;01mand\u001b[39;00m os\u001b[38;5;241m.\u001b[39mpath\u001b[38;5;241m.\u001b[39mexists(\u001b[38;5;28mself\u001b[39m\u001b[38;5;241m.\u001b[39mgenerator_checkpoint):\n\u001b[0;32m---> 44\u001b[0m     \u001b[43mgenerator\u001b[49m\u001b[38;5;241;43m.\u001b[39;49m\u001b[43mload_state_dict\u001b[49m\u001b[43m(\u001b[49m\u001b[43mtorch\u001b[49m\u001b[38;5;241;43m.\u001b[39;49m\u001b[43mload\u001b[49m\u001b[43m(\u001b[49m\u001b[38;5;28;43mself\u001b[39;49m\u001b[38;5;241;43m.\u001b[39;49m\u001b[43mgenerator_checkpoint\u001b[49m\u001b[43m)\u001b[49m\u001b[43m)\u001b[49m\n\u001b[1;32m     45\u001b[0m     \u001b[38;5;28mself\u001b[39m\u001b[38;5;241m.\u001b[39mtrained_bool \u001b[38;5;241m=\u001b[39m \u001b[38;5;28;01mTrue\u001b[39;00m\n\u001b[1;32m     46\u001b[0m \u001b[38;5;28;01mreturn\u001b[39;00m generator\n",
      "File \u001b[0;32m~/miniforge3/lib/python3.12/site-packages/torch/nn/modules/module.py:2581\u001b[0m, in \u001b[0;36mModule.load_state_dict\u001b[0;34m(self, state_dict, strict, assign)\u001b[0m\n\u001b[1;32m   2573\u001b[0m         error_msgs\u001b[38;5;241m.\u001b[39minsert(\n\u001b[1;32m   2574\u001b[0m             \u001b[38;5;241m0\u001b[39m,\n\u001b[1;32m   2575\u001b[0m             \u001b[38;5;124m\"\u001b[39m\u001b[38;5;124mMissing key(s) in state_dict: \u001b[39m\u001b[38;5;132;01m{}\u001b[39;00m\u001b[38;5;124m. \u001b[39m\u001b[38;5;124m\"\u001b[39m\u001b[38;5;241m.\u001b[39mformat(\n\u001b[1;32m   2576\u001b[0m                 \u001b[38;5;124m\"\u001b[39m\u001b[38;5;124m, \u001b[39m\u001b[38;5;124m\"\u001b[39m\u001b[38;5;241m.\u001b[39mjoin(\u001b[38;5;124mf\u001b[39m\u001b[38;5;124m'\u001b[39m\u001b[38;5;124m\"\u001b[39m\u001b[38;5;132;01m{\u001b[39;00mk\u001b[38;5;132;01m}\u001b[39;00m\u001b[38;5;124m\"\u001b[39m\u001b[38;5;124m'\u001b[39m \u001b[38;5;28;01mfor\u001b[39;00m k \u001b[38;5;129;01min\u001b[39;00m missing_keys)\n\u001b[1;32m   2577\u001b[0m             ),\n\u001b[1;32m   2578\u001b[0m         )\n\u001b[1;32m   2580\u001b[0m \u001b[38;5;28;01mif\u001b[39;00m \u001b[38;5;28mlen\u001b[39m(error_msgs) \u001b[38;5;241m>\u001b[39m \u001b[38;5;241m0\u001b[39m:\n\u001b[0;32m-> 2581\u001b[0m     \u001b[38;5;28;01mraise\u001b[39;00m \u001b[38;5;167;01mRuntimeError\u001b[39;00m(\n\u001b[1;32m   2582\u001b[0m         \u001b[38;5;124m\"\u001b[39m\u001b[38;5;124mError(s) in loading state_dict for \u001b[39m\u001b[38;5;132;01m{}\u001b[39;00m\u001b[38;5;124m:\u001b[39m\u001b[38;5;130;01m\\n\u001b[39;00m\u001b[38;5;130;01m\\t\u001b[39;00m\u001b[38;5;132;01m{}\u001b[39;00m\u001b[38;5;124m\"\u001b[39m\u001b[38;5;241m.\u001b[39mformat(\n\u001b[1;32m   2583\u001b[0m             \u001b[38;5;28mself\u001b[39m\u001b[38;5;241m.\u001b[39m\u001b[38;5;18m__class__\u001b[39m\u001b[38;5;241m.\u001b[39m\u001b[38;5;18m__name__\u001b[39m, \u001b[38;5;124m\"\u001b[39m\u001b[38;5;130;01m\\n\u001b[39;00m\u001b[38;5;130;01m\\t\u001b[39;00m\u001b[38;5;124m\"\u001b[39m\u001b[38;5;241m.\u001b[39mjoin(error_msgs)\n\u001b[1;32m   2584\u001b[0m         )\n\u001b[1;32m   2585\u001b[0m     )\n\u001b[1;32m   2586\u001b[0m \u001b[38;5;28;01mreturn\u001b[39;00m _IncompatibleKeys(missing_keys, unexpected_keys)\n",
      "\u001b[0;31mRuntimeError\u001b[0m: Error(s) in loading state_dict for ResNetGenerator:\n\tsize mismatch for l1.weight: copying a param with shape torch.Size([16384, 128]) from checkpoint, the shape in current model is torch.Size([16384, 256])."
     ]
    }
   ],
   "source": [
    "import os\n",
    "import sys\n",
    "import yaml\n",
    "\n",
    "# Path to the dataset zip file\n",
    "data_folder = \"./data\"\n",
    "\n",
    "project_root = os.path.abspath(os.path.join(os.getcwd(), \"../../..\"))\n",
    "sys.path.append(project_root)\n",
    "\n",
    "from leakpro import LeakPro\n",
    "from examples.minv.celebA.celebA_plgmi_handler import CelebA_InputHandler\n",
    "\n",
    "config_path = \"audit.yaml\"\n",
    "\n",
    "leakpro = LeakPro(CelebA_InputHandler, config_path)\n",
    "\n",
    "results = leakpro.run_audit(return_results=True)  "
   ]
  }
 ],
 "metadata": {
  "kernelspec": {
   "display_name": "base",
   "language": "python",
   "name": "python3"
  },
  "language_info": {
   "name": "python",
   "version": "3.12.8"
  }
 },
 "nbformat": 4,
 "nbformat_minor": 2
}
