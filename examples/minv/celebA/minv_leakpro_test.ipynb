{
 "cells": [
  {
   "cell_type": "markdown",
   "metadata": {},
   "source": [
    "### Test to see what happens with minv-related handlers in leakpro"
   ]
  },
  {
   "cell_type": "code",
   "execution_count": 1,
   "metadata": {},
   "outputs": [
    {
     "name": "stderr",
     "output_type": "stream",
     "text": [
      "2025-02-19 09:40:57,920 INFO     Target model blueprint created from ResNet18 in ../../mia/celebA_HQ/utils/celeb_hq_model.py.\n",
      "INFO:leakpro:Target model blueprint created from ResNet18 in ../../mia/celebA_HQ/utils/celeb_hq_model.py.\n",
      "2025-02-19 09:40:57,922 INFO     Loaded target model metadata from ./target/model_metadata.pkl\n",
      "INFO:leakpro:Loaded target model metadata from ./target/model_metadata.pkl\n"
     ]
    },
    {
     "name": "stdout",
     "output_type": "stream",
     "text": [
      "Configurations: {'audit': {'random_seed': 1234, 'attack_list': {'plgmi': {'training_data_fraction': 0.5, 'attack_data_fraction': 0.5, 'num_classes': 500, 'log_interval': 10}}, 'output_dir': './leakpro_output', 'attack_type': 'minv', 'modality': 'image'}, 'target': {'module_path': '../../mia/celebA_HQ/utils/celeb_hq_model.py', 'model_class': 'ResNet18', 'target_folder': './target', 'data_path': './data/celebaA_data.pkl'}, 'shadow_model': None, 'distillation_model': None, 'generator': {'module_path': './utils/generator.py', 'model_class': 'ResNetGenerator', 'checkpoint_path': 'generator.pth', 'init_params': {'dim_z': 128, 'num_classes': 500, 'bottom_width': 4}}, 'discriminator': {'module_path': './utils/discriminator.py', 'model_class': 'SNResNetProjectionDiscriminator', 'checkpoint_path': 'discriminator.pth', 'init_params': {'num_classes': 500}}, 'public_dataset': {'public_data_path': './data/celebaA_aux_data.pkl'}}\n"
     ]
    },
    {
     "name": "stderr",
     "output_type": "stream",
     "text": [
      "2025-02-19 09:40:58,199 INFO     Loaded target model from ./target\n",
      "INFO:leakpro:Loaded target model from ./target\n",
      "2025-02-19 09:41:00,034 INFO     Loaded population dataset from ./data/celebaA_data.pkl\n",
      "INFO:leakpro:Loaded population dataset from ./data/celebaA_data.pkl\n",
      "2025-02-19 09:41:00,036 INFO     Loaded population dataset from ./data/celebaA_data.pkl\n",
      "INFO:leakpro:Loaded population dataset from ./data/celebaA_data.pkl\n",
      "2025-02-19 09:41:00,366 INFO     MINV attack factory loaded.\n",
      "INFO:leakpro:MINV attack factory loaded.\n",
      "2025-02-19 09:41:00,368 INFO     Configuring PLG-MI attack\n",
      "INFO:leakpro:Configuring PLG-MI attack\n",
      "2025-02-19 09:41:00,392 INFO     Added attack: plgmi\n",
      "INFO:leakpro:Added attack: plgmi\n",
      "2025-02-19 09:41:00,393 INFO     Preparing attack: plgmi\n",
      "INFO:leakpro:Preparing attack: plgmi\n",
      "2025-02-19 09:41:00,394 INFO     Preparing attack\n",
      "INFO:leakpro:Preparing attack\n",
      "2025-02-19 09:41:00,396 INFO     Setting up generator configurations\n",
      "INFO:leakpro:Setting up generator configurations\n",
      "2025-02-19 09:41:00,397 INFO     Generator path: ./utils/generator.py, Generator class: ResNetGenerator\n",
      "INFO:leakpro:Generator path: ./utils/generator.py, Generator class: ResNetGenerator\n",
      "2025-02-19 09:41:00,399 INFO     Initialized GeneratorHandler with caller: gan_handler\n",
      "INFO:leakpro:Initialized GeneratorHandler with caller: gan_handler\n",
      "2025-02-19 09:41:00,400 INFO     Setting up discriminator configurations\n",
      "INFO:leakpro:Setting up discriminator configurations\n",
      "2025-02-19 09:41:01,300 INFO     Loaded public data from ./data/celebaA_aux_data.pkl\n",
      "INFO:leakpro:Loaded public data from ./data/celebaA_aux_data.pkl\n",
      "2025-02-19 09:41:01,731 INFO     Getting generator model with init params: {'dim_z': 128, 'num_classes': 500, 'bottom_width': 4}\n",
      "INFO:leakpro:Getting generator model with init params: {'dim_z': 128, 'num_classes': 500, 'bottom_width': 4}\n",
      "2025-02-19 09:41:01,917 INFO     GAN already trained, skipping training\n",
      "INFO:leakpro:GAN already trained, skipping training\n",
      "2025-02-19 09:41:01,918 INFO     Running attack: plgmi\n",
      "INFO:leakpro:Running attack: plgmi\n",
      "2025-02-19 09:41:01,919 INFO     Running the PLG-MI attack\n",
      "INFO:leakpro:Running the PLG-MI attack\n",
      "2025-02-19 09:41:01,920 INFO     Finished attack: plgmi\n",
      "INFO:leakpro:Finished attack: plgmi\n",
      "2025-02-19 09:41:01,921 INFO     Preparing results for attack: plgmi\n",
      "INFO:leakpro:Preparing results for attack: plgmi\n"
     ]
    },
    {
     "ename": "AttributeError",
     "evalue": "'NoneType' object has no attribute 'attack_name'",
     "output_type": "error",
     "traceback": [
      "\u001b[0;31m---------------------------------------------------------------------------\u001b[0m",
      "\u001b[0;31mAttributeError\u001b[0m                            Traceback (most recent call last)",
      "Cell \u001b[0;32mIn[1], line 18\u001b[0m\n\u001b[1;32m     14\u001b[0m config_path \u001b[38;5;241m=\u001b[39m \u001b[38;5;124m\"\u001b[39m\u001b[38;5;124maudit.yaml\u001b[39m\u001b[38;5;124m\"\u001b[39m\n\u001b[1;32m     16\u001b[0m leakpro \u001b[38;5;241m=\u001b[39m LeakPro(CelebA_InputHandler, config_path)\n\u001b[0;32m---> 18\u001b[0m results \u001b[38;5;241m=\u001b[39m \u001b[43mleakpro\u001b[49m\u001b[38;5;241;43m.\u001b[39;49m\u001b[43mrun_audit\u001b[49m\u001b[43m(\u001b[49m\u001b[43mreturn_results\u001b[49m\u001b[38;5;241;43m=\u001b[39;49m\u001b[38;5;28;43;01mTrue\u001b[39;49;00m\u001b[43m)\u001b[49m  \n",
      "File \u001b[0;32m~/LeakPro_fork_hevar/leakpro/leakpro.py:139\u001b[0m, in \u001b[0;36mLeakPro.run_audit\u001b[0;34m(self, return_results)\u001b[0m\n\u001b[1;32m    136\u001b[0m \u001b[38;5;28;01mif\u001b[39;00m return_results:\n\u001b[1;32m    138\u001b[0m     result \u001b[38;5;241m=\u001b[39m audit_results[attack_name][\u001b[38;5;124m\"\u001b[39m\u001b[38;5;124mresult_object\u001b[39m\u001b[38;5;124m\"\u001b[39m]\n\u001b[0;32m--> 139\u001b[0m     \u001b[43mresult\u001b[49m\u001b[38;5;241;43m.\u001b[39;49m\u001b[43mattack_name\u001b[49m \u001b[38;5;241m=\u001b[39m attack_name\n\u001b[1;32m    140\u001b[0m     result\u001b[38;5;241m.\u001b[39mconfigs \u001b[38;5;241m=\u001b[39m \u001b[38;5;28mself\u001b[39m\u001b[38;5;241m.\u001b[39mhandler\u001b[38;5;241m.\u001b[39mconfigs[\u001b[38;5;124m\"\u001b[39m\u001b[38;5;124maudit\u001b[39m\u001b[38;5;124m\"\u001b[39m]\n\u001b[1;32m    142\u001b[0m     \u001b[38;5;66;03m# Append\u001b[39;00m\n",
      "\u001b[0;31mAttributeError\u001b[0m: 'NoneType' object has no attribute 'attack_name'"
     ]
    }
   ],
   "source": [
    "import os\n",
    "import sys\n",
    "import yaml\n",
    "\n",
    "# Path to the dataset zip file\n",
    "data_folder = \"./data\"\n",
    "\n",
    "project_root = os.path.abspath(os.path.join(os.getcwd(), \"../../..\"))\n",
    "sys.path.append(project_root)\n",
    "\n",
    "from leakpro import LeakPro\n",
    "from examples.minv.celebA.celebA_plgmi_handler import CelebA_InputHandler\n",
    "\n",
    "config_path = \"audit.yaml\"\n",
    "\n",
    "leakpro = LeakPro(CelebA_InputHandler, config_path)\n",
    "\n",
    "results = leakpro.run_audit(return_results=True)  "
   ]
  }
 ],
 "metadata": {
  "kernelspec": {
   "display_name": "base",
   "language": "python",
   "name": "python3"
  },
  "language_info": {
   "name": "python",
   "version": "3.12.8"
  }
 },
 "nbformat": 4,
 "nbformat_minor": 2
}
