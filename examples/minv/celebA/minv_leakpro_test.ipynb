{
 "cells": [
  {
   "cell_type": "markdown",
   "metadata": {},
   "source": [
    "### Test to see what happens with minv-related handlers in leakpro"
   ]
  },
  {
   "cell_type": "code",
   "execution_count": 1,
   "metadata": {},
   "outputs": [
    {
     "name": "stderr",
     "output_type": "stream",
     "text": [
      "2025-02-19 15:10:56,790 INFO     Target model blueprint created from ResNet18 in ../../mia/celebA_HQ/utils/celeb_hq_model.py.\n",
      "INFO:leakpro:Target model blueprint created from ResNet18 in ../../mia/celebA_HQ/utils/celeb_hq_model.py.\n",
      "2025-02-19 15:10:56,792 INFO     Loaded target model metadata from ./target/model_metadata.pkl\n",
      "INFO:leakpro:Loaded target model metadata from ./target/model_metadata.pkl\n"
     ]
    },
    {
     "name": "stdout",
     "output_type": "stream",
     "text": [
      "Configurations: {'audit': {'random_seed': 1234, 'attack_list': {'plgmi': {'n_dis': 2, 'iterations': 5000, 'batch_size': 128, 'gen_lr': 0.0005, 'dis_lr': 0.0002, 'gen_beta1': 0.0, 'gen_beta2': 0.9, 'dis_beta1': 0.0, 'dis_beta2': 0.9, 'dim_z': 128, 'alpha': 0.2, 'log_interval': 10, 'num_classes': 500, 'generator': {'module_path': './utils/generator.py', 'model_class': 'ResNetGenerator', 'checkpoint_path': 'generator.pth', 'init_params': {'dim_z': 128, 'num_classes': 500, 'bottom_width': 4}}, 'discriminator': {'module_path': './utils/discriminator.py', 'model_class': 'SNResNetProjectionDiscriminator', 'checkpoint_path': 'discriminator.pth', 'init_params': {'num_classes': 500}}}}, 'output_dir': './leakpro_output', 'attack_type': 'minv', 'modality': 'image'}, 'target': {'module_path': '../../mia/celebA_HQ/utils/celeb_hq_model.py', 'model_class': 'ResNet18', 'target_folder': './target', 'data_path': './data/celebaA_data.pkl'}, 'public_dataset': {'public_data_path': './data/celebaA_aux_data.pkl'}}\n"
     ]
    },
    {
     "name": "stderr",
     "output_type": "stream",
     "text": [
      "2025-02-19 15:10:57,045 INFO     Loaded target model from ./target\n",
      "INFO:leakpro:Loaded target model from ./target\n",
      "2025-02-19 15:10:58,598 INFO     Loaded population dataset from ./data/celebaA_data.pkl\n",
      "INFO:leakpro:Loaded population dataset from ./data/celebaA_data.pkl\n",
      "2025-02-19 15:10:58,599 INFO     Loaded population dataset from ./data/celebaA_data.pkl\n",
      "INFO:leakpro:Loaded population dataset from ./data/celebaA_data.pkl\n",
      "2025-02-19 15:10:58,920 INFO     MINV attack factory loaded.\n",
      "INFO:leakpro:MINV attack factory loaded.\n",
      "2025-02-19 15:10:58,921 INFO     Configuring PLG-MI attack\n",
      "INFO:leakpro:Configuring PLG-MI attack\n",
      "2025-02-19 15:10:58,959 INFO     Added attack: plgmi\n",
      "INFO:leakpro:Added attack: plgmi\n",
      "2025-02-19 15:10:58,960 INFO     Preparing attack: plgmi\n",
      "INFO:leakpro:Preparing attack: plgmi\n",
      "2025-02-19 15:10:58,961 INFO     Preparing attack\n",
      "INFO:leakpro:Preparing attack\n",
      "2025-02-19 15:10:58,962 INFO     Setting up generator configurations\n",
      "INFO:leakpro:Setting up generator configurations\n",
      "2025-02-19 15:10:58,963 INFO     Generator path: ./utils/generator.py, Generator class: ResNetGenerator\n",
      "INFO:leakpro:Generator path: ./utils/generator.py, Generator class: ResNetGenerator\n",
      "2025-02-19 15:10:58,964 INFO     Initialized GeneratorHandler with caller: gan_handler\n",
      "INFO:leakpro:Initialized GeneratorHandler with caller: gan_handler\n",
      "2025-02-19 15:10:58,965 INFO     Setting up discriminator configurations\n",
      "INFO:leakpro:Setting up discriminator configurations\n",
      "2025-02-19 15:10:58,966 INFO     Discriminator path: ./utils/discriminator.py, Discriminator class: SNResNetProjectionDiscriminator\n",
      "INFO:leakpro:Discriminator path: ./utils/discriminator.py, Discriminator class: SNResNetProjectionDiscriminator\n",
      "2025-02-19 15:10:59,654 INFO     Loaded public data from ./data/celebaA_aux_data.pkl\n",
      "INFO:leakpro:Loaded public data from ./data/celebaA_aux_data.pkl\n",
      "2025-02-19 15:11:00,075 INFO     Getting generator model with init params: {'dim_z': 128, 'num_classes': 500, 'bottom_width': 4}\n",
      "INFO:leakpro:Getting generator model with init params: {'dim_z': 128, 'num_classes': 500, 'bottom_width': 4}\n",
      "2025-02-19 15:11:00,254 INFO     GAN already trained, skipping training\n",
      "INFO:leakpro:GAN already trained, skipping training\n",
      "2025-02-19 15:11:00,255 INFO     Running attack: plgmi\n",
      "INFO:leakpro:Running attack: plgmi\n",
      "2025-02-19 15:11:00,256 INFO     Running the PLG-MI attack\n",
      "INFO:leakpro:Running the PLG-MI attack\n",
      "2025-02-19 15:11:00,290 INFO     Generating samples for each class\n",
      "INFO:leakpro:Generating samples for each class\n",
      "2025-02-19 15:11:02,891 INFO     Evaluating generated samples\n",
      "INFO:leakpro:Evaluating generated samples\n",
      "2025-02-19 15:11:04,378 INFO     Accuracy: tensor([0.0420], device='cuda:0')\n",
      "INFO:leakpro:Accuracy: tensor([0.0420], device='cuda:0')\n",
      "2025-02-19 15:11:04,449 INFO     Finished attack: plgmi\n",
      "INFO:leakpro:Finished attack: plgmi\n",
      "2025-02-19 15:11:04,474 INFO     Preparing results for attack: plgmi\n",
      "INFO:leakpro:Preparing results for attack: plgmi\n"
     ]
    },
    {
     "ename": "AttributeError",
     "evalue": "'list' object has no attribute 'save'",
     "output_type": "error",
     "traceback": [
      "\u001b[0;31m---------------------------------------------------------------------------\u001b[0m",
      "\u001b[0;31mAttributeError\u001b[0m                            Traceback (most recent call last)",
      "Cell \u001b[0;32mIn[1], line 18\u001b[0m\n\u001b[1;32m     14\u001b[0m config_path \u001b[38;5;241m=\u001b[39m \u001b[38;5;124m\"\u001b[39m\u001b[38;5;124maudit.yaml\u001b[39m\u001b[38;5;124m\"\u001b[39m\n\u001b[1;32m     16\u001b[0m leakpro \u001b[38;5;241m=\u001b[39m LeakPro(CelebA_InputHandler, config_path)\n\u001b[0;32m---> 18\u001b[0m results \u001b[38;5;241m=\u001b[39m \u001b[43mleakpro\u001b[49m\u001b[38;5;241;43m.\u001b[39;49m\u001b[43mrun_audit\u001b[49m\u001b[43m(\u001b[49m\u001b[43mreturn_results\u001b[49m\u001b[38;5;241;43m=\u001b[39;49m\u001b[38;5;28;43;01mFalse\u001b[39;49;00m\u001b[43m)\u001b[49m  \n",
      "File \u001b[0;32m~/LeakPro_fork_hevar/leakpro/leakpro.py:146\u001b[0m, in \u001b[0;36mLeakPro.run_audit\u001b[0;34m(self, return_results)\u001b[0m\n\u001b[1;32m    144\u001b[0m     \u001b[38;5;28;01melse\u001b[39;00m:\n\u001b[1;32m    145\u001b[0m         result \u001b[38;5;241m=\u001b[39m audit_results[attack_name][\u001b[38;5;124m\"\u001b[39m\u001b[38;5;124mresult_object\u001b[39m\u001b[38;5;124m\"\u001b[39m]\n\u001b[0;32m--> 146\u001b[0m         \u001b[43mresult\u001b[49m\u001b[38;5;241;43m.\u001b[39;49m\u001b[43msave\u001b[49m(name\u001b[38;5;241m=\u001b[39mattack_name, path\u001b[38;5;241m=\u001b[39m\u001b[38;5;28mself\u001b[39m\u001b[38;5;241m.\u001b[39mreport_dir, config\u001b[38;5;241m=\u001b[39m\u001b[38;5;28mself\u001b[39m\u001b[38;5;241m.\u001b[39mhandler\u001b[38;5;241m.\u001b[39mconfigs[\u001b[38;5;124m\"\u001b[39m\u001b[38;5;124maudit\u001b[39m\u001b[38;5;124m\"\u001b[39m])\n\u001b[1;32m    148\u001b[0m logger\u001b[38;5;241m.\u001b[39minfo(\u001b[38;5;124m\"\u001b[39m\u001b[38;5;124mAuditing completed\u001b[39m\u001b[38;5;124m\"\u001b[39m)\n\u001b[1;32m    149\u001b[0m \u001b[38;5;28;01mreturn\u001b[39;00m results\n",
      "\u001b[0;31mAttributeError\u001b[0m: 'list' object has no attribute 'save'"
     ]
    }
   ],
   "source": [
    "import os\n",
    "import sys\n",
    "import yaml\n",
    "\n",
    "# Path to the dataset zip file\n",
    "data_folder = \"./data\"\n",
    "\n",
    "project_root = os.path.abspath(os.path.join(os.getcwd(), \"../../..\"))\n",
    "sys.path.append(project_root)\n",
    "\n",
    "from leakpro import LeakPro\n",
    "from examples.minv.celebA.celebA_plgmi_handler import CelebA_InputHandler\n",
    "\n",
    "config_path = \"audit.yaml\"\n",
    "\n",
    "leakpro = LeakPro(CelebA_InputHandler, config_path)\n",
    "\n",
    "results = leakpro.run_audit(return_results=False)  "
   ]
  }
 ],
 "metadata": {
  "kernelspec": {
   "display_name": "base",
   "language": "python",
   "name": "python3"
  },
  "language_info": {
   "name": "python",
   "version": "3.12.8"
  }
 },
 "nbformat": 4,
 "nbformat_minor": 2
}
