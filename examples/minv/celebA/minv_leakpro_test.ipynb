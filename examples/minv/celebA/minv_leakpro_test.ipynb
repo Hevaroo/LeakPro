{
 "cells": [
  {
   "cell_type": "markdown",
   "metadata": {},
   "source": [
    "### Test to see what happens with minv-related handlers in leakpro"
   ]
  },
  {
   "cell_type": "code",
   "execution_count": null,
   "metadata": {},
   "outputs": [],
   "source": [
    "import os\n",
    "import sys\n",
    "import yaml\n",
    "\n",
    "# Path to the dataset zip file\n",
    "data_folder = \"./data\"\n",
    "\n",
    "\n",
    "project_root = os.path.abspath(os.path.join(os.getcwd(), \"../../..\"))\n",
    "sys.path.append(project_root)\n",
    "\n",
    "from leakpro import LeakPro\n",
    "from examples.minv.celebA import celebA_plgmi_handler\n",
    "\n",
    "config_path = \"audit.yaml\"\n",
    "\n",
    "leakpro = LeakPro(celebA_plgmi_handler, config_path)\n",
    "\n",
    "results = leakpro.run_audit(return_results=True)  "
   ]
  }
 ],
 "metadata": {
  "kernelspec": {
   "display_name": "base",
   "language": "python",
   "name": "python3"
  },
  "language_info": {
   "name": "python",
   "version": "3.12.8"
  }
 },
 "nbformat": 4,
 "nbformat_minor": 2
}
