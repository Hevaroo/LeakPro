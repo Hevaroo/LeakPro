{
 "cells": [
  {
   "cell_type": "markdown",
   "metadata": {},
   "source": [
    "#### Face Identity Classification\n",
    "This example illustrates Model Inversion (MINV) attacks on a face identity classfier model. The classfier is train on [Large-scale CelebA - Aligned&Cropped](https://mmlab.ie.cuhk.edu.hk/projects/CelebA.html) dataset. Run cell below to ensure correct data structure format.\n",
    "\n",
    "directory_structure:\n",
    "\n",
    "```\n",
    "data/\n",
    "    ├── private/          # Private dataset\n",
    "    │   ├── identity_1/\n",
    "    │   │   ├── instance_1.jpg\n",
    "    │   │   ├── instance_2.jpg\n",
    "    │   │   └── ...\n",
    "    │   ├── identity_2/\n",
    "    │   │   ├── instance_1.jpg\n",
    "    │   │   ├── instance_2.jpg\n",
    "    │   │   └── ...\n",
    "    │   └── ...\n",
    "    └── public/           # Public dataset\n",
    "        ├── identity_1/\n",
    "        │   ├── instance_1.jpg\n",
    "        │   ├── instance_2.jpg\n",
    "        │   └── ...\n",
    "        ├── identity_2/\n",
    "        │   ├── instance_1.jpg\n",
    "        │   ├── instance_2.jpg\n",
    "        │   └── ...\n",
    "        └── ...      \n",
    "```\n"
   ]
  },
  {
   "cell_type": "code",
   "execution_count": null,
   "metadata": {},
   "outputs": [
    {
     "name": "stdout",
     "output_type": "stream",
     "text": [
      "'data' folder created.\n",
      "Dataset not found. Downloading...\n",
      "/home/edgelab/miniforge3/lib/python3.12/site-packages/gdown/__main__.py:140: FutureWarning: Option `--id` was deprecated in version 4.3.1 and will be removed in 5.0. You don't need to pass it anymore to use a file ID.\n",
      "  warnings.warn(\n",
      "Failed to retrieve file url:\n",
      "\n",
      "\tCannot retrieve the public link of the file. You may need to change\n",
      "\tthe permission to 'Anyone with the link', or have had many accesses.\n",
      "\tCheck FAQ in https://github.com/wkentaro/gdown?tab=readme-ov-file#faq.\n",
      "\n",
      "You may still be able to access the file from the browser:\n",
      "\n",
      "\thttps://drive.google.com/uc?id=0B7EVK8r0v71pZjFTYXZWM3FlRnM/view?resourcekey=0-dYn9z10tMJOBAkviAcfdyQ\n",
      "\n",
      "but Gdown can't. Please check connections and permissions.\n",
      "unzip:  cannot find or open ./data/CelebA_identity_dataset.zip, ./data/CelebA_identity_dataset.zip.zip or ./data/CelebA_identity_dataset.zip.ZIP.\n",
      "Download and extraction completed.\n"
     ]
    }
   ],
   "source": [
    "import os\n",
    "\n",
    "# Path to the dataset zip file\n",
    "zip_path = \"./data/CelebA_identity_dataset.zip\"\n",
    "data_folder = \"./data\"\n",
    "# Check if the 'data' folder exists, if not, create it\n",
    "if not os.path.exists(data_folder):\n",
    "    os.makedirs(data_folder)\n",
    "    print(\"'data' folder created.\")\n",
    "\n",
    "# Check if the file already exists\n",
    "if not os.path.exists(zip_path):\n",
    "    print(\"Dataset not found. Downloading...\")\n",
    "    !wget --no-check-certificate 'https://docs.google.com/uc?export=download&id=0B7EVK8r0v71pZjFTYXZWM3FlRnM/view?resourcekey=0-dYn9z10tMJOBAkviAcfdyQ' -O {zip_path}\n",
    "    !unzip {zip_path} -d ./data\n",
    "    print(\"Download and extraction completed.\")\n",
    "else:\n",
    "    print(\"Dataset already exists.\")"
   ]
  }
 ],
 "metadata": {
  "kernelspec": {
   "display_name": "base",
   "language": "python",
   "name": "python3"
  },
  "language_info": {
   "codemirror_mode": {
    "name": "ipython",
    "version": 3
   },
   "file_extension": ".py",
   "mimetype": "text/x-python",
   "name": "python",
   "nbconvert_exporter": "python",
   "pygments_lexer": "ipython3",
   "version": "3.12.8"
  }
 },
 "nbformat": 4,
 "nbformat_minor": 2
}
